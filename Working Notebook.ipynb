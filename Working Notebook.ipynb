{
 "cells": [
  {
   "cell_type": "code",
   "execution_count": 12,
   "metadata": {},
   "outputs": [],
   "source": [
    "import pandas as pd\n",
    "import seaborn as sns\n",
    "import numpy as np\n",
    "import scipy.stats as st\n",
    "import matplotlib.pyplot as plt"
   ]
  },
  {
   "cell_type": "code",
   "execution_count": 13,
   "metadata": {},
   "outputs": [],
   "source": [
    "def Cohen_d(group1, group2):\n",
    "\n",
    "    # Compute Cohen's d.\n",
    "\n",
    "    # group1: Series or NumPy array\n",
    "    # group2: Series or NumPy array\n",
    "\n",
    "    # returns a floating point number \n",
    "\n",
    "    diff = np.mean(group1) - np.mean(group2)\n",
    "\n",
    "    n1, n2 = len(group1), len(group2)\n",
    "    var1 = np.var(group1)\n",
    "    var2 = np.var(group2)\n",
    "\n",
    "    # Calculate the pooled threshold as shown earlier\n",
    "    pooled_var = (n1 * var1 + n2 * var2) / (n1 + n2)\n",
    "    \n",
    "    # Calculate Cohen's d statistic\n",
    "    d = diff / np.sqrt(pooled_var)\n",
    "    \n",
    "    return d"
   ]
  },
  {
   "cell_type": "markdown",
   "metadata": {},
   "source": [
    "## Import Data"
   ]
  },
  {
   "cell_type": "code",
   "execution_count": 6,
   "metadata": {},
   "outputs": [],
   "source": [
    "import data_cleaning"
   ]
  },
  {
   "cell_type": "code",
   "execution_count": 7,
   "metadata": {},
   "outputs": [],
   "source": [
    "clean_data = data_cleaning.full_clean()"
   ]
  },
  {
   "cell_type": "code",
   "execution_count": 20,
   "metadata": {
    "scrolled": true
   },
   "outputs": [
    {
     "data": {
      "text/html": [
       "<div>\n",
       "<style scoped>\n",
       "    .dataframe tbody tr th:only-of-type {\n",
       "        vertical-align: middle;\n",
       "    }\n",
       "\n",
       "    .dataframe tbody tr th {\n",
       "        vertical-align: top;\n",
       "    }\n",
       "\n",
       "    .dataframe thead th {\n",
       "        text-align: right;\n",
       "    }\n",
       "</style>\n",
       "<table border=\"1\" class=\"dataframe\">\n",
       "  <thead>\n",
       "    <tr style=\"text-align: right;\">\n",
       "      <th></th>\n",
       "      <th>average_covered_charges</th>\n",
       "      <th>average_medicare_payments</th>\n",
       "      <th>average_total_payments</th>\n",
       "      <th>drg_definition</th>\n",
       "      <th>provider_name</th>\n",
       "      <th>total_discharges</th>\n",
       "      <th>full_address</th>\n",
       "      <th>geoid</th>\n",
       "      <th>csi</th>\n",
       "      <th>out_of_pocket</th>\n",
       "      <th>perc_covered</th>\n",
       "    </tr>\n",
       "  </thead>\n",
       "  <tbody>\n",
       "    <tr>\n",
       "      <th>0</th>\n",
       "      <td>1126268.58</td>\n",
       "      <td>182770.86</td>\n",
       "      <td>189464.00</td>\n",
       "      <td>001 - HEART TRANSPLANT OR IMPLANT OF HEART ASS...</td>\n",
       "      <td>FLORIDA HOSPITAL</td>\n",
       "      <td>189464</td>\n",
       "      <td>601 E ROLLINS ST, ORLANDO, FL</td>\n",
       "      <td>12095012800</td>\n",
       "      <td>1</td>\n",
       "      <td>6693.14</td>\n",
       "      <td>0.162280</td>\n",
       "    </tr>\n",
       "    <tr>\n",
       "      <th>1</th>\n",
       "      <td>1050063.13</td>\n",
       "      <td>252782.53</td>\n",
       "      <td>301640.47</td>\n",
       "      <td>001 - HEART TRANSPLANT OR IMPLANT OF HEART ASS...</td>\n",
       "      <td>JACKSON MEMORIAL HOSPITAL</td>\n",
       "      <td>301640</td>\n",
       "      <td>1611 NW 12TH AVE, MIAMI, FL</td>\n",
       "      <td>12086003001</td>\n",
       "      <td>1</td>\n",
       "      <td>48857.94</td>\n",
       "      <td>0.240731</td>\n",
       "    </tr>\n",
       "  </tbody>\n",
       "</table>\n",
       "</div>"
      ],
      "text/plain": [
       "   average_covered_charges  average_medicare_payments  average_total_payments  \\\n",
       "0               1126268.58                  182770.86               189464.00   \n",
       "1               1050063.13                  252782.53               301640.47   \n",
       "\n",
       "                                      drg_definition  \\\n",
       "0  001 - HEART TRANSPLANT OR IMPLANT OF HEART ASS...   \n",
       "1  001 - HEART TRANSPLANT OR IMPLANT OF HEART ASS...   \n",
       "\n",
       "               provider_name  total_discharges                   full_address  \\\n",
       "0           FLORIDA HOSPITAL            189464  601 E ROLLINS ST, ORLANDO, FL   \n",
       "1  JACKSON MEMORIAL HOSPITAL            301640    1611 NW 12TH AVE, MIAMI, FL   \n",
       "\n",
       "         geoid csi  out_of_pocket  perc_covered  \n",
       "0  12095012800   1        6693.14      0.162280  \n",
       "1  12086003001   1       48857.94      0.240731  "
      ]
     },
     "execution_count": 20,
     "metadata": {},
     "output_type": "execute_result"
    }
   ],
   "source": [
    "clean_data.head(2)"
   ]
  },
  {
   "cell_type": "markdown",
   "metadata": {},
   "source": [
    "## Preliminary Analysis "
   ]
  },
  {
   "cell_type": "code",
   "execution_count": 79,
   "metadata": {
    "scrolled": true
   },
   "outputs": [
    {
     "data": {
      "text/plain": [
       "573"
      ]
     },
     "execution_count": 79,
     "metadata": {},
     "output_type": "execute_result"
    }
   ],
   "source": [
    "len(clean_data.drg_definition.unique())"
   ]
  },
  {
   "cell_type": "code",
   "execution_count": 80,
   "metadata": {},
   "outputs": [],
   "source": [
    "procs_more_in_rural = []\n",
    "\n",
    "for i in clean_data.drg_definition.unique():\n",
    "    metro = clean_data.loc[(clean_data.csi == '1') & (clean_data.drg_definition == i)]['average_covered_charges']\n",
    "    non_metro = clean_data.loc[(clean_data.csi != '1') & (clean_data.drg_definition == i)]['average_covered_charges']\n",
    "    if (np.mean(metro) - np.mean(non_metro)) < 0:\n",
    "        procs_more_in_rural.append(i)\n",
    "    "
   ]
  },
  {
   "cell_type": "code",
   "execution_count": 81,
   "metadata": {
    "scrolled": false
   },
   "outputs": [
    {
     "data": {
      "text/plain": [
       "18"
      ]
     },
     "execution_count": 81,
     "metadata": {},
     "output_type": "execute_result"
    }
   ],
   "source": [
    "len(procs_more_in_rural)"
   ]
  },
  {
   "cell_type": "code",
   "execution_count": 86,
   "metadata": {
    "collapsed": true
   },
   "outputs": [
    {
     "data": {
      "text/plain": [
       "['103 - HEADACHES W/O MCC',\n",
       " '227 - CARDIAC DEFIBRILLATOR IMPLANT W/O CARDIAC CATH W/O MCC',\n",
       " '250 - PERC CARDIOVASC PROC W/O CORONARY ARTERY STENT W MCC',\n",
       " '354 - HERNIA PROCEDURES EXCEPT INGUINAL & FEMORAL W CC',\n",
       " '355 - HERNIA PROCEDURES EXCEPT INGUINAL & FEMORAL W/O CC/MCC',\n",
       " '406 - PANCREAS, LIVER & SHUNT PROCEDURES W CC',\n",
       " '407 - PANCREAS, LIVER & SHUNT PROCEDURES W/O CC/MCC',\n",
       " '415 - CHOLECYSTECTOMY EXCEPT BY LAPAROSCOPE W/O C.D.E. W CC',\n",
       " '492 - LOWER EXTREM & HUMER PROC EXCEPT HIP,FOOT,FEMUR W MCC',\n",
       " '556 - SIGNS & SYMPTOMS OF MUSCULOSKELETAL SYSTEM & CONN TISSUE W/O MCC',\n",
       " '561 - AFTERCARE, MUSCULOSKELETAL SYSTEM & CONNECTIVE TISSUE W/O CC/MCC',\n",
       " '620 - O.R. PROCEDURES FOR OBESITY W CC',\n",
       " '841 - LYMPHOMA & NON-ACUTE LEUKEMIA W CC',\n",
       " '740 - UTERINE,ADNEXA PROC FOR NON-OVARIAN/ADNEXAL MALIG W CC',\n",
       " '775 - VAGINAL DELIVERY W/O COMPLICATING DIAGNOSES',\n",
       " '896 - ALCOHOL/DRUG ABUSE OR DEPENDENCE W/O REHABILITATION THERAPY W MCC',\n",
       " '964 - OTHER MULTIPLE SIGNIFICANT TRAUMA W CC',\n",
       " '987 - NON-EXTENSIVE O.R. PROC UNRELATED TO PRINCIPAL DIAGNOSIS W MCC']"
      ]
     },
     "execution_count": 86,
     "metadata": {},
     "output_type": "execute_result"
    }
   ],
   "source": [
    "procs_more_in_rural"
   ]
  },
  {
   "cell_type": "code",
   "execution_count": 197,
   "metadata": {
    "scrolled": false
   },
   "outputs": [
    {
     "name": "stderr",
     "output_type": "stream",
     "text": [
      "/home/peter/anaconda3/lib/python3.7/site-packages/numpy/core/fromnumeric.py:3367: RuntimeWarning: Degrees of freedom <= 0 for slice\n",
      "  **kwargs)\n",
      "/home/peter/anaconda3/lib/python3.7/site-packages/numpy/core/_methods.py:132: RuntimeWarning: invalid value encountered in double_scalars\n",
      "  ret = ret.dtype.type(ret / rcount)\n"
     ]
    }
   ],
   "source": [
    "sig_procs = []\n",
    "sig_cohens = []\n",
    "\n",
    "for i in clean_data.drg_definition.unique():\n",
    "    metro = clean_data.loc[(clean_data.csi == '1') & (clean_data.drg_definition == i)]['average_covered_charges']\n",
    "    non_metro = clean_data.loc[(clean_data.csi != '1') & (clean_data.drg_definition == i)]['average_covered_charges']\n",
    "    if st.ttest_ind(metro, non_metro, equal_var=False)[1] < 0.05:\n",
    "        sig_procs.append(i)\n",
    "        sig_cohens.append(Cohen_d(metro, non_metro))"
   ]
  },
  {
   "cell_type": "code",
   "execution_count": 91,
   "metadata": {
    "scrolled": false
   },
   "outputs": [
    {
     "data": {
      "text/plain": [
       "192"
      ]
     },
     "execution_count": 91,
     "metadata": {},
     "output_type": "execute_result"
    }
   ],
   "source": [
    "len(sig_procs)"
   ]
  },
  {
   "cell_type": "code",
   "execution_count": 198,
   "metadata": {
    "collapsed": true
   },
   "outputs": [
    {
     "data": {
      "text/plain": [
       "[0.428297323466941,\n",
       " 0.38162697296429604,\n",
       " 0.5074084983780064,\n",
       " 0.4337388157752425,\n",
       " 1.131001728741613,\n",
       " 0.7856382054557871,\n",
       " 0.6938059290394213,\n",
       " 0.5999858156831684,\n",
       " 0.657920244325758,\n",
       " 0.7646548003560736,\n",
       " 0.605690560665732,\n",
       " 0.609289370876221,\n",
       " 0.46299116956455455,\n",
       " 0.6585831519370593,\n",
       " 0.5105680880008042,\n",
       " 0.5997222131789354,\n",
       " 0.5322314066977563,\n",
       " 0.479675905176976,\n",
       " 0.8712876574172062,\n",
       " 0.4972767348382874,\n",
       " 0.4914074806295563,\n",
       " 0.6866032472491335,\n",
       " 0.5699991986224819,\n",
       " 0.7156245616791983,\n",
       " 0.6460116753127373,\n",
       " 0.5197704690915432,\n",
       " 0.7414134672756708,\n",
       " 0.6576744347322886,\n",
       " 0.7329429508385175,\n",
       " 0.587546859752579,\n",
       " 0.6933254024483264,\n",
       " 0.8365417273254546,\n",
       " 0.9597506382028894,\n",
       " 0.6891759074803984,\n",
       " 0.6930931697819368,\n",
       " 0.6468000767384341,\n",
       " 0.6926168044431357,\n",
       " 0.6615618168805871,\n",
       " 0.6071756866064641,\n",
       " 0.6180851759043028,\n",
       " 0.6557658706707808,\n",
       " 0.9620739925477056,\n",
       " 0.4105394487072672,\n",
       " 0.4570004876947162,\n",
       " 0.4730694702486111,\n",
       " 0.5952490503194245,\n",
       " 0.6505898728301512,\n",
       " 0.7460314596114123,\n",
       " 0.9220235903143491,\n",
       " 0.8468749076252748,\n",
       " 0.5519914322493265,\n",
       " 0.909909876609369,\n",
       " 0.632916368440554,\n",
       " 0.7213411485293397,\n",
       " 0.33214856750897187,\n",
       " 0.9719368522889115,\n",
       " 0.4462284124401035,\n",
       " 0.8668743730408183,\n",
       " 0.52938613138629,\n",
       " 0.34768431317665965,\n",
       " 0.4508438895769572,\n",
       " 0.3281021376017531,\n",
       " 0.5073640901683123,\n",
       " 0.5245437546470665,\n",
       " 0.5618288364826721,\n",
       " 0.7491565405229235,\n",
       " 0.7912458398975123,\n",
       " 0.6590882886361825,\n",
       " 0.4280237545340486,\n",
       " 0.5169652042994746,\n",
       " 1.030240734024355,\n",
       " 0.6967610821516976,\n",
       " 0.7237160007246931,\n",
       " 0.6021256891511317,\n",
       " 0.46905549097024507,\n",
       " 0.677059247279876,\n",
       " 0.6227093660186933,\n",
       " 0.4844367885584797,\n",
       " 0.7051143804096404,\n",
       " 0.3554448327122704,\n",
       " 0.5114848655440617,\n",
       " 0.5240188602788607,\n",
       " 0.5005498177951446,\n",
       " 0.5839701821582648,\n",
       " 0.6575195915319036,\n",
       " 0.6016088247899416,\n",
       " 0.61134144314674,\n",
       " 0.6399120096889006,\n",
       " 0.6685119785985381,\n",
       " 0.5406956782404934,\n",
       " 0.7202403427022779,\n",
       " 0.6141771067420316,\n",
       " 0.5336489877657529,\n",
       " 0.5325316052364824,\n",
       " 0.5409458300039971,\n",
       " 0.665649186106924,\n",
       " 0.5841891308393565,\n",
       " 0.49438361670889935,\n",
       " 0.5078403367722804,\n",
       " 0.8959945168887524,\n",
       " 0.555310128980797,\n",
       " 0.5939987022743597,\n",
       " 0.727965135010436,\n",
       " 0.6881323318165082,\n",
       " 0.4152412190976864,\n",
       " 0.600852230271143,\n",
       " 0.6451840146281738,\n",
       " 0.5947709868744283,\n",
       " 0.6015196908288709,\n",
       " 0.7253778951847566,\n",
       " 0.6253961346688607,\n",
       " 0.4636652297134879,\n",
       " 0.6212596851157777,\n",
       " 0.525272605716953,\n",
       " 0.44254772683713867,\n",
       " 0.5438242168525012,\n",
       " 0.5782302005391599,\n",
       " 0.6059247072632591,\n",
       " 0.6717366822400607,\n",
       " 0.49328370040595776,\n",
       " 0.4377130153419889,\n",
       " 0.49765750316773,\n",
       " 0.4368034712145457,\n",
       " 0.35910910799948687,\n",
       " 0.6060259739541631,\n",
       " 0.7265183365057851,\n",
       " 0.9725578910594577,\n",
       " 0.4468444261239929,\n",
       " 0.7068630345725746,\n",
       " 0.37833055618587347,\n",
       " 0.5104440374591053,\n",
       " 0.5100719069058476,\n",
       " 0.42028733003295965,\n",
       " 0.325909048150598,\n",
       " 0.5853293387644668,\n",
       " 0.6105922308178338,\n",
       " 0.6193445805351473,\n",
       " 0.45282212865253924,\n",
       " 0.5631341935940419,\n",
       " 0.517823415051393,\n",
       " 0.46438151757722895,\n",
       " 0.5887403551219595,\n",
       " 0.7653162424136705,\n",
       " 0.6753180501860218,\n",
       " 0.5699934225105434,\n",
       " 0.6263328451686928,\n",
       " 0.5900935663601141,\n",
       " 0.6832156042287835,\n",
       " 0.663719731252326,\n",
       " 0.67942951582494,\n",
       " 0.451042398884695,\n",
       " 0.6059178789134024,\n",
       " 0.641209565447843,\n",
       " 0.4044774484720158,\n",
       " 0.6033407563897362,\n",
       " 0.4800529596266135,\n",
       " 0.7421549921881847,\n",
       " 0.468340128609637,\n",
       " 0.7590420051322274,\n",
       " 0.8319332252865649,\n",
       " 0.6657280452454345,\n",
       " 0.7062117627303792,\n",
       " 0.5367236368934858,\n",
       " 0.596473235380111,\n",
       " 0.7378615575101698,\n",
       " 0.6379736175854906,\n",
       " 0.5965343777428044,\n",
       " 0.6557485680926727,\n",
       " 0.5236819527410446,\n",
       " 0.6525902027439252,\n",
       " 0.791648398653449,\n",
       " 0.7004156951647005,\n",
       " 0.6302098174457051,\n",
       " 0.6745887369793708,\n",
       " 0.4268020723750462,\n",
       " 0.6722157331719211,\n",
       " 0.8423009842998321,\n",
       " 0.4725162148611406,\n",
       " 0.736985900240762,\n",
       " 0.9209305013384933,\n",
       " 0.8836615046903016,\n",
       " 0.5525942121265649,\n",
       " 0.5629247690793161,\n",
       " 0.5785302612320429,\n",
       " 0.6868350650853992,\n",
       " 0.5970206878691732,\n",
       " 0.4511879782668233,\n",
       " 0.5318471734371959,\n",
       " 0.50214781055177,\n",
       " 0.5983748407543772,\n",
       " 0.5631945307643249,\n",
       " 0.5720423567253912]"
      ]
     },
     "execution_count": 198,
     "metadata": {},
     "output_type": "execute_result"
    }
   ],
   "source": [
    "sig_cohens"
   ]
  },
  {
   "cell_type": "code",
   "execution_count": 97,
   "metadata": {},
   "outputs": [],
   "source": [
    "sig_procs = pd.Series(sig_procs)"
   ]
  },
  {
   "cell_type": "code",
   "execution_count": 243,
   "metadata": {},
   "outputs": [],
   "source": [
    "dict_sig_procs = pd.DataFrame(zip(sig_procs, sig_cohens))"
   ]
  },
  {
   "cell_type": "code",
   "execution_count": 244,
   "metadata": {
    "collapsed": true
   },
   "outputs": [
    {
     "data": {
      "text/html": [
       "<div>\n",
       "<style scoped>\n",
       "    .dataframe tbody tr th:only-of-type {\n",
       "        vertical-align: middle;\n",
       "    }\n",
       "\n",
       "    .dataframe tbody tr th {\n",
       "        vertical-align: top;\n",
       "    }\n",
       "\n",
       "    .dataframe thead th {\n",
       "        text-align: right;\n",
       "    }\n",
       "</style>\n",
       "<table border=\"1\" class=\"dataframe\">\n",
       "  <thead>\n",
       "    <tr style=\"text-align: right;\">\n",
       "      <th></th>\n",
       "      <th>0</th>\n",
       "      <th>1</th>\n",
       "    </tr>\n",
       "  </thead>\n",
       "  <tbody>\n",
       "    <tr>\n",
       "      <th>0</th>\n",
       "      <td>038 - EXTRACRANIAL PROCEDURES W CC</td>\n",
       "      <td>0.428297</td>\n",
       "    </tr>\n",
       "    <tr>\n",
       "      <th>1</th>\n",
       "      <td>039 - EXTRACRANIAL PROCEDURES W/O CC/MCC</td>\n",
       "      <td>0.381627</td>\n",
       "    </tr>\n",
       "    <tr>\n",
       "      <th>2</th>\n",
       "      <td>025 - CRANIOTOMY &amp; ENDOVASCULAR INTRACRANIAL P...</td>\n",
       "      <td>0.507408</td>\n",
       "    </tr>\n",
       "    <tr>\n",
       "      <th>3</th>\n",
       "      <td>054 - NERVOUS SYSTEM NEOPLASMS W MCC</td>\n",
       "      <td>0.433739</td>\n",
       "    </tr>\n",
       "    <tr>\n",
       "      <th>4</th>\n",
       "      <td>055 - NERVOUS SYSTEM NEOPLASMS W/O MCC</td>\n",
       "      <td>1.131002</td>\n",
       "    </tr>\n",
       "    <tr>\n",
       "      <th>5</th>\n",
       "      <td>056 - DEGENERATIVE NERVOUS SYSTEM DISORDERS W MCC</td>\n",
       "      <td>0.785638</td>\n",
       "    </tr>\n",
       "    <tr>\n",
       "      <th>6</th>\n",
       "      <td>057 - DEGENERATIVE NERVOUS SYSTEM DISORDERS W/...</td>\n",
       "      <td>0.693806</td>\n",
       "    </tr>\n",
       "    <tr>\n",
       "      <th>7</th>\n",
       "      <td>069 - TRANSIENT ISCHEMIA</td>\n",
       "      <td>0.599986</td>\n",
       "    </tr>\n",
       "    <tr>\n",
       "      <th>8</th>\n",
       "      <td>064 - INTRACRANIAL HEMORRHAGE OR CEREBRAL INFA...</td>\n",
       "      <td>0.657920</td>\n",
       "    </tr>\n",
       "    <tr>\n",
       "      <th>9</th>\n",
       "      <td>065 - INTRACRANIAL HEMORRHAGE OR CEREBRAL INFA...</td>\n",
       "      <td>0.764655</td>\n",
       "    </tr>\n",
       "    <tr>\n",
       "      <th>10</th>\n",
       "      <td>066 - INTRACRANIAL HEMORRHAGE OR CEREBRAL INFA...</td>\n",
       "      <td>0.605691</td>\n",
       "    </tr>\n",
       "    <tr>\n",
       "      <th>11</th>\n",
       "      <td>070 - NONSPECIFIC CEREBROVASCULAR DISORDERS W MCC</td>\n",
       "      <td>0.609289</td>\n",
       "    </tr>\n",
       "    <tr>\n",
       "      <th>12</th>\n",
       "      <td>071 - NONSPECIFIC CEREBROVASCULAR DISORDERS W CC</td>\n",
       "      <td>0.462991</td>\n",
       "    </tr>\n",
       "    <tr>\n",
       "      <th>13</th>\n",
       "      <td>072 - NONSPECIFIC CEREBROVASCULAR DISORDERS W/...</td>\n",
       "      <td>0.658583</td>\n",
       "    </tr>\n",
       "    <tr>\n",
       "      <th>14</th>\n",
       "      <td>073 - CRANIAL &amp; PERIPHERAL NERVE DISORDERS W MCC</td>\n",
       "      <td>0.510568</td>\n",
       "    </tr>\n",
       "    <tr>\n",
       "      <th>15</th>\n",
       "      <td>100 - SEIZURES W MCC</td>\n",
       "      <td>0.599722</td>\n",
       "    </tr>\n",
       "    <tr>\n",
       "      <th>16</th>\n",
       "      <td>086 - TRAUMATIC STUPOR &amp; COMA, COMA &lt;1 HR W CC</td>\n",
       "      <td>0.532231</td>\n",
       "    </tr>\n",
       "    <tr>\n",
       "      <th>17</th>\n",
       "      <td>092 - OTHER DISORDERS OF NERVOUS SYSTEM W CC</td>\n",
       "      <td>0.479676</td>\n",
       "    </tr>\n",
       "    <tr>\n",
       "      <th>18</th>\n",
       "      <td>093 - OTHER DISORDERS OF NERVOUS SYSTEM W/O CC...</td>\n",
       "      <td>0.871288</td>\n",
       "    </tr>\n",
       "    <tr>\n",
       "      <th>19</th>\n",
       "      <td>101 - SEIZURES W/O MCC</td>\n",
       "      <td>0.497277</td>\n",
       "    </tr>\n",
       "    <tr>\n",
       "      <th>20</th>\n",
       "      <td>153 - OTITIS MEDIA &amp; URI W/O MCC</td>\n",
       "      <td>0.491407</td>\n",
       "    </tr>\n",
       "    <tr>\n",
       "      <th>21</th>\n",
       "      <td>164 - MAJOR CHEST PROCEDURES W CC</td>\n",
       "      <td>0.686603</td>\n",
       "    </tr>\n",
       "    <tr>\n",
       "      <th>22</th>\n",
       "      <td>165 - MAJOR CHEST PROCEDURES W/O CC/MCC</td>\n",
       "      <td>0.569999</td>\n",
       "    </tr>\n",
       "    <tr>\n",
       "      <th>23</th>\n",
       "      <td>166 - OTHER RESP SYSTEM O.R. PROCEDURES W MCC</td>\n",
       "      <td>0.715625</td>\n",
       "    </tr>\n",
       "    <tr>\n",
       "      <th>24</th>\n",
       "      <td>175 - PULMONARY EMBOLISM W MCC</td>\n",
       "      <td>0.646012</td>\n",
       "    </tr>\n",
       "    <tr>\n",
       "      <th>25</th>\n",
       "      <td>176 - PULMONARY EMBOLISM W/O MCC</td>\n",
       "      <td>0.519770</td>\n",
       "    </tr>\n",
       "    <tr>\n",
       "      <th>26</th>\n",
       "      <td>180 - RESPIRATORY NEOPLASMS W MCC</td>\n",
       "      <td>0.741413</td>\n",
       "    </tr>\n",
       "    <tr>\n",
       "      <th>27</th>\n",
       "      <td>177 - RESPIRATORY INFECTIONS &amp; INFLAMMATIONS W...</td>\n",
       "      <td>0.657674</td>\n",
       "    </tr>\n",
       "    <tr>\n",
       "      <th>28</th>\n",
       "      <td>181 - RESPIRATORY NEOPLASMS W CC</td>\n",
       "      <td>0.732943</td>\n",
       "    </tr>\n",
       "    <tr>\n",
       "      <th>29</th>\n",
       "      <td>178 - RESPIRATORY INFECTIONS &amp; INFLAMMATIONS W CC</td>\n",
       "      <td>0.587547</td>\n",
       "    </tr>\n",
       "    <tr>\n",
       "      <th>...</th>\n",
       "      <td>...</td>\n",
       "      <td>...</td>\n",
       "    </tr>\n",
       "    <tr>\n",
       "      <th>162</th>\n",
       "      <td>684 - RENAL FAILURE W/O CC/MCC</td>\n",
       "      <td>0.536724</td>\n",
       "    </tr>\n",
       "    <tr>\n",
       "      <th>163</th>\n",
       "      <td>689 - KIDNEY &amp; URINARY TRACT INFECTIONS W MCC</td>\n",
       "      <td>0.596473</td>\n",
       "    </tr>\n",
       "    <tr>\n",
       "      <th>164</th>\n",
       "      <td>690 - KIDNEY &amp; URINARY TRACT INFECTIONS W/O MCC</td>\n",
       "      <td>0.737862</td>\n",
       "    </tr>\n",
       "    <tr>\n",
       "      <th>165</th>\n",
       "      <td>698 - OTHER KIDNEY &amp; URINARY TRACT DIAGNOSES W...</td>\n",
       "      <td>0.637974</td>\n",
       "    </tr>\n",
       "    <tr>\n",
       "      <th>166</th>\n",
       "      <td>811 - RED BLOOD CELL DISORDERS W MCC</td>\n",
       "      <td>0.596534</td>\n",
       "    </tr>\n",
       "    <tr>\n",
       "      <th>167</th>\n",
       "      <td>812 - RED BLOOD CELL DISORDERS W/O MCC</td>\n",
       "      <td>0.655749</td>\n",
       "    </tr>\n",
       "    <tr>\n",
       "      <th>168</th>\n",
       "      <td>694 - URINARY STONES W/O ESW LITHOTRIPSY W/O MCC</td>\n",
       "      <td>0.523682</td>\n",
       "    </tr>\n",
       "    <tr>\n",
       "      <th>169</th>\n",
       "      <td>699 - OTHER KIDNEY &amp; URINARY TRACT DIAGNOSES W CC</td>\n",
       "      <td>0.652590</td>\n",
       "    </tr>\n",
       "    <tr>\n",
       "      <th>170</th>\n",
       "      <td>808 - MAJOR HEMATOL/IMMUN DIAG EXC SICKLE CELL...</td>\n",
       "      <td>0.791648</td>\n",
       "    </tr>\n",
       "    <tr>\n",
       "      <th>171</th>\n",
       "      <td>853 - INFECTIOUS &amp; PARASITIC DISEASES W O.R. P...</td>\n",
       "      <td>0.700416</td>\n",
       "    </tr>\n",
       "    <tr>\n",
       "      <th>172</th>\n",
       "      <td>854 - INFECTIOUS &amp; PARASITIC DISEASES W O.R. P...</td>\n",
       "      <td>0.630210</td>\n",
       "    </tr>\n",
       "    <tr>\n",
       "      <th>173</th>\n",
       "      <td>857 - POSTOPERATIVE OR POST-TRAUMATIC INFECTIO...</td>\n",
       "      <td>0.674589</td>\n",
       "    </tr>\n",
       "    <tr>\n",
       "      <th>174</th>\n",
       "      <td>881 - DEPRESSIVE NEUROSES</td>\n",
       "      <td>0.426802</td>\n",
       "    </tr>\n",
       "    <tr>\n",
       "      <th>175</th>\n",
       "      <td>870 - SEPTICEMIA OR SEVERE SEPSIS W MV &gt;96 HOURS</td>\n",
       "      <td>0.672216</td>\n",
       "    </tr>\n",
       "    <tr>\n",
       "      <th>176</th>\n",
       "      <td>871 - SEPTICEMIA OR SEVERE SEPSIS W/O MV &gt;96 H...</td>\n",
       "      <td>0.842301</td>\n",
       "    </tr>\n",
       "    <tr>\n",
       "      <th>177</th>\n",
       "      <td>885 - PSYCHOSES</td>\n",
       "      <td>0.472516</td>\n",
       "    </tr>\n",
       "    <tr>\n",
       "      <th>178</th>\n",
       "      <td>872 - SEPTICEMIA OR SEVERE SEPSIS W/O MV &gt;96 H...</td>\n",
       "      <td>0.736986</td>\n",
       "    </tr>\n",
       "    <tr>\n",
       "      <th>179</th>\n",
       "      <td>882 - NEUROSES EXCEPT DEPRESSIVE</td>\n",
       "      <td>0.920931</td>\n",
       "    </tr>\n",
       "    <tr>\n",
       "      <th>180</th>\n",
       "      <td>883 - DISORDERS OF PERSONALITY &amp; IMPULSE CONTROL</td>\n",
       "      <td>0.883662</td>\n",
       "    </tr>\n",
       "    <tr>\n",
       "      <th>181</th>\n",
       "      <td>884 - ORGANIC DISTURBANCES &amp; INTELLECTUAL DISA...</td>\n",
       "      <td>0.552594</td>\n",
       "    </tr>\n",
       "    <tr>\n",
       "      <th>182</th>\n",
       "      <td>894 - ALCOHOL/DRUG ABUSE OR DEPENDENCE, LEFT AMA</td>\n",
       "      <td>0.562925</td>\n",
       "    </tr>\n",
       "    <tr>\n",
       "      <th>183</th>\n",
       "      <td>895 - ALCOHOL/DRUG ABUSE OR DEPENDENCE W REHAB...</td>\n",
       "      <td>0.578530</td>\n",
       "    </tr>\n",
       "    <tr>\n",
       "      <th>184</th>\n",
       "      <td>948 - SIGNS &amp; SYMPTOMS W/O MCC</td>\n",
       "      <td>0.686835</td>\n",
       "    </tr>\n",
       "    <tr>\n",
       "      <th>185</th>\n",
       "      <td>897 - ALCOHOL/DRUG ABUSE OR DEPENDENCE W/O REH...</td>\n",
       "      <td>0.597021</td>\n",
       "    </tr>\n",
       "    <tr>\n",
       "      <th>186</th>\n",
       "      <td>907 - OTHER O.R. PROCEDURES FOR INJURIES W MCC</td>\n",
       "      <td>0.451188</td>\n",
       "    </tr>\n",
       "    <tr>\n",
       "      <th>187</th>\n",
       "      <td>917 - POISONING &amp; TOXIC EFFECTS OF DRUGS W MCC</td>\n",
       "      <td>0.531847</td>\n",
       "    </tr>\n",
       "    <tr>\n",
       "      <th>188</th>\n",
       "      <td>918 - POISONING &amp; TOXIC EFFECTS OF DRUGS W/O MCC</td>\n",
       "      <td>0.502148</td>\n",
       "    </tr>\n",
       "    <tr>\n",
       "      <th>189</th>\n",
       "      <td>981 - EXTENSIVE O.R. PROCEDURE UNRELATED TO PR...</td>\n",
       "      <td>0.598375</td>\n",
       "    </tr>\n",
       "    <tr>\n",
       "      <th>190</th>\n",
       "      <td>982 - EXTENSIVE O.R. PROCEDURE UNRELATED TO PR...</td>\n",
       "      <td>0.563195</td>\n",
       "    </tr>\n",
       "    <tr>\n",
       "      <th>191</th>\n",
       "      <td>988 - NON-EXTENSIVE O.R. PROC UNRELATED TO PRI...</td>\n",
       "      <td>0.572042</td>\n",
       "    </tr>\n",
       "  </tbody>\n",
       "</table>\n",
       "<p>192 rows × 2 columns</p>\n",
       "</div>"
      ],
      "text/plain": [
       "                                                     0         1\n",
       "0                   038 - EXTRACRANIAL PROCEDURES W CC  0.428297\n",
       "1             039 - EXTRACRANIAL PROCEDURES W/O CC/MCC  0.381627\n",
       "2    025 - CRANIOTOMY & ENDOVASCULAR INTRACRANIAL P...  0.507408\n",
       "3                 054 - NERVOUS SYSTEM NEOPLASMS W MCC  0.433739\n",
       "4               055 - NERVOUS SYSTEM NEOPLASMS W/O MCC  1.131002\n",
       "5    056 - DEGENERATIVE NERVOUS SYSTEM DISORDERS W MCC  0.785638\n",
       "6    057 - DEGENERATIVE NERVOUS SYSTEM DISORDERS W/...  0.693806\n",
       "7                             069 - TRANSIENT ISCHEMIA  0.599986\n",
       "8    064 - INTRACRANIAL HEMORRHAGE OR CEREBRAL INFA...  0.657920\n",
       "9    065 - INTRACRANIAL HEMORRHAGE OR CEREBRAL INFA...  0.764655\n",
       "10   066 - INTRACRANIAL HEMORRHAGE OR CEREBRAL INFA...  0.605691\n",
       "11   070 - NONSPECIFIC CEREBROVASCULAR DISORDERS W MCC  0.609289\n",
       "12    071 - NONSPECIFIC CEREBROVASCULAR DISORDERS W CC  0.462991\n",
       "13   072 - NONSPECIFIC CEREBROVASCULAR DISORDERS W/...  0.658583\n",
       "14    073 - CRANIAL & PERIPHERAL NERVE DISORDERS W MCC  0.510568\n",
       "15                                100 - SEIZURES W MCC  0.599722\n",
       "16      086 - TRAUMATIC STUPOR & COMA, COMA <1 HR W CC  0.532231\n",
       "17        092 - OTHER DISORDERS OF NERVOUS SYSTEM W CC  0.479676\n",
       "18   093 - OTHER DISORDERS OF NERVOUS SYSTEM W/O CC...  0.871288\n",
       "19                              101 - SEIZURES W/O MCC  0.497277\n",
       "20                    153 - OTITIS MEDIA & URI W/O MCC  0.491407\n",
       "21                   164 - MAJOR CHEST PROCEDURES W CC  0.686603\n",
       "22             165 - MAJOR CHEST PROCEDURES W/O CC/MCC  0.569999\n",
       "23       166 - OTHER RESP SYSTEM O.R. PROCEDURES W MCC  0.715625\n",
       "24                      175 - PULMONARY EMBOLISM W MCC  0.646012\n",
       "25                    176 - PULMONARY EMBOLISM W/O MCC  0.519770\n",
       "26                   180 - RESPIRATORY NEOPLASMS W MCC  0.741413\n",
       "27   177 - RESPIRATORY INFECTIONS & INFLAMMATIONS W...  0.657674\n",
       "28                    181 - RESPIRATORY NEOPLASMS W CC  0.732943\n",
       "29   178 - RESPIRATORY INFECTIONS & INFLAMMATIONS W CC  0.587547\n",
       "..                                                 ...       ...\n",
       "162                     684 - RENAL FAILURE W/O CC/MCC  0.536724\n",
       "163      689 - KIDNEY & URINARY TRACT INFECTIONS W MCC  0.596473\n",
       "164    690 - KIDNEY & URINARY TRACT INFECTIONS W/O MCC  0.737862\n",
       "165  698 - OTHER KIDNEY & URINARY TRACT DIAGNOSES W...  0.637974\n",
       "166               811 - RED BLOOD CELL DISORDERS W MCC  0.596534\n",
       "167             812 - RED BLOOD CELL DISORDERS W/O MCC  0.655749\n",
       "168   694 - URINARY STONES W/O ESW LITHOTRIPSY W/O MCC  0.523682\n",
       "169  699 - OTHER KIDNEY & URINARY TRACT DIAGNOSES W CC  0.652590\n",
       "170  808 - MAJOR HEMATOL/IMMUN DIAG EXC SICKLE CELL...  0.791648\n",
       "171  853 - INFECTIOUS & PARASITIC DISEASES W O.R. P...  0.700416\n",
       "172  854 - INFECTIOUS & PARASITIC DISEASES W O.R. P...  0.630210\n",
       "173  857 - POSTOPERATIVE OR POST-TRAUMATIC INFECTIO...  0.674589\n",
       "174                          881 - DEPRESSIVE NEUROSES  0.426802\n",
       "175   870 - SEPTICEMIA OR SEVERE SEPSIS W MV >96 HOURS  0.672216\n",
       "176  871 - SEPTICEMIA OR SEVERE SEPSIS W/O MV >96 H...  0.842301\n",
       "177                                    885 - PSYCHOSES  0.472516\n",
       "178  872 - SEPTICEMIA OR SEVERE SEPSIS W/O MV >96 H...  0.736986\n",
       "179                   882 - NEUROSES EXCEPT DEPRESSIVE  0.920931\n",
       "180   883 - DISORDERS OF PERSONALITY & IMPULSE CONTROL  0.883662\n",
       "181  884 - ORGANIC DISTURBANCES & INTELLECTUAL DISA...  0.552594\n",
       "182   894 - ALCOHOL/DRUG ABUSE OR DEPENDENCE, LEFT AMA  0.562925\n",
       "183  895 - ALCOHOL/DRUG ABUSE OR DEPENDENCE W REHAB...  0.578530\n",
       "184                     948 - SIGNS & SYMPTOMS W/O MCC  0.686835\n",
       "185  897 - ALCOHOL/DRUG ABUSE OR DEPENDENCE W/O REH...  0.597021\n",
       "186     907 - OTHER O.R. PROCEDURES FOR INJURIES W MCC  0.451188\n",
       "187     917 - POISONING & TOXIC EFFECTS OF DRUGS W MCC  0.531847\n",
       "188   918 - POISONING & TOXIC EFFECTS OF DRUGS W/O MCC  0.502148\n",
       "189  981 - EXTENSIVE O.R. PROCEDURE UNRELATED TO PR...  0.598375\n",
       "190  982 - EXTENSIVE O.R. PROCEDURE UNRELATED TO PR...  0.563195\n",
       "191  988 - NON-EXTENSIVE O.R. PROC UNRELATED TO PRI...  0.572042\n",
       "\n",
       "[192 rows x 2 columns]"
      ]
     },
     "execution_count": 244,
     "metadata": {},
     "output_type": "execute_result"
    }
   ],
   "source": [
    "dict_sig_procs"
   ]
  },
  {
   "cell_type": "code",
   "execution_count": 112,
   "metadata": {},
   "outputs": [],
   "source": [
    "relevant_codes = sig_procs.map(lambda x: x[0:3]).astype(int)"
   ]
  },
  {
   "cell_type": "code",
   "execution_count": 117,
   "metadata": {},
   "outputs": [
    {
     "data": {
      "text/plain": [
       "dtype('int64')"
      ]
     },
     "execution_count": 117,
     "metadata": {},
     "output_type": "execute_result"
    }
   ],
   "source": [
    "relevant_codes.dtype"
   ]
  },
  {
   "cell_type": "code",
   "execution_count": 151,
   "metadata": {
    "collapsed": true
   },
   "outputs": [
    {
     "name": "stdout",
     "output_type": "stream",
     "text": [
      "    Code_Start  Code_End                                        Description  \\\n",
      "0            1        17                                            PRE-MDC   \n",
      "1           20       103  MDC 01: DISEASES & DISORDERS OF THE NERVOUS SY...   \n",
      "2          113       125            MDC 02: DISEASES & DISORDERS OF THE EYE   \n",
      "3          129       159  MDC 03: DISEASES & DISORDERS OF THE EAR, NOSE,...   \n",
      "4          163       208  MDC 04: DISEASES & DISORDERS OF THE RESPIRATOR...   \n",
      "5          215       316  MDC 05: DISEASES & DISORDERS OF THE CIRCULATOR...   \n",
      "6          326       395  MDC 06: DISEASES & DISORDERS OF THE DIGESTIVE ...   \n",
      "7          405       446  MDC 07: DISEASES & DISORDERS OF THE HEPATOBILI...   \n",
      "8          453       566  MDC 08: DISEASES & DISORDERS OF THE MUSCULOSKE...   \n",
      "9          570       607  MDC 09: DISEASES & DISORDERS OF THE SKIN, SUBC...   \n",
      "10         614       645  MDC 10: ENDOCRINE, NUTRITIONAL & METABOLIC DIS...   \n",
      "11         652       700  MDC 11: DISEASES & DISORDERS OF THE KIDNEY & U...   \n",
      "12         707       730  MDC 12: DISEASES & DISORDERS OF THE MALE REPRO...   \n",
      "13         734       761  MDC 13: DISEASES & DISORDERS OF THE FEMALE REP...   \n",
      "14         765       782     MDC 14: PREGNANCY, CHILDBIRTH & THE PUERPERIUM   \n",
      "15         789       795  MDC 15: NEWBORNS & OTHER NEONATES WITH CONDTN ...   \n",
      "16         799       816  MDC 16: DISEASES & DISORDERS OF BLOOD, BLOOD F...   \n",
      "17         820       849  MDC 17: MYELOPROLIFERATIVE DISEASES & DISORDER...   \n",
      "18         853       872  MDC 18: INFECTIOUS & PARASITIC DISEASES, SYSTE...   \n",
      "19         876       887                MDC 19: MENTAL DISEASES & DISORDERS   \n",
      "20         894       897  MDC 20: ALCOHOL/DRUG USE & ALCOHOL/DRUG INDUCE...   \n",
      "21         901       923  MDC 21: INJURIES, POISONINGS & TOXIC EFFECTS O...   \n",
      "22         927       935                                      MDC 22: BURNS   \n",
      "23         939       951  MDC 23: FACTORS INFLUENCING HLTH STAT & OTHR C...   \n",
      "24         955       965                MDC 24: MULTIPLE SIGNIFICANT TRAUMA   \n",
      "25         969       977    MDC 25: HUMAN IMMUNODEFICIENCY VIRUS INFECTIONS   \n",
      "26         981       989                UNRELATED OPERATING ROOM PROCEDURES   \n",
      "27         998       999                       INVALID AND UNGROUPABLE DRGS   \n",
      "\n",
      "    group_size  \n",
      "0           16  \n",
      "1           83  \n",
      "2           12  \n",
      "3           30  \n",
      "4           45  \n",
      "5          101  \n",
      "6           69  \n",
      "7           41  \n",
      "8          113  \n",
      "9           37  \n",
      "10          31  \n",
      "11          48  \n",
      "12          23  \n",
      "13          27  \n",
      "14          17  \n",
      "15           6  \n",
      "16          17  \n",
      "17          29  \n",
      "18          19  \n",
      "19          11  \n",
      "20           3  \n",
      "21          22  \n",
      "22           8  \n",
      "23          12  \n",
      "24          10  \n",
      "25           8  \n",
      "26           8  \n",
      "27           1  \n"
     ]
    }
   ],
   "source": [
    "drg = pd.read_csv('data/DRG.csv')\n",
    "drg['group_size'] = drg.Code_End-drg.Code_Start\n",
    "\n",
    "drg_d = drg.to_dict('records')\n",
    "\n",
    "code_ref = []\n",
    "for i in range(0,len(drg_d)):\n",
    "    for c in relevant_codes:\n",
    "        if drg_d[i]['Code_Start'] <= c <= drg_d[i]['Code_End']:\n",
    "            code_ref.append({'Code': c,'Code_Start':drg_d[i]['Code_Start'],'Code_End':\n",
    "                             drg_d[i]['Code_End'],'Group':drg_d[i]['Description']})\n",
    "code_map = pd.DataFrame.from_dict(code_ref)\n",
    "           "
   ]
  },
  {
   "cell_type": "code",
   "execution_count": 204,
   "metadata": {},
   "outputs": [],
   "source": [
    "code_map['cohend'] = pd.Series(sig_cohens)"
   ]
  },
  {
   "cell_type": "code",
   "execution_count": 213,
   "metadata": {
    "scrolled": false
   },
   "outputs": [],
   "source": [
    "cum_cohen_d = code_map.groupby('Group').cohend.sum().reset_index()"
   ]
  },
  {
   "cell_type": "code",
   "execution_count": 215,
   "metadata": {},
   "outputs": [],
   "source": [
    "cum_cohen_d.columns = ['Description', 'sum_cohen_d']"
   ]
  },
  {
   "cell_type": "code",
   "execution_count": 216,
   "metadata": {},
   "outputs": [
    {
     "data": {
      "text/html": [
       "<div>\n",
       "<style scoped>\n",
       "    .dataframe tbody tr th:only-of-type {\n",
       "        vertical-align: middle;\n",
       "    }\n",
       "\n",
       "    .dataframe tbody tr th {\n",
       "        vertical-align: top;\n",
       "    }\n",
       "\n",
       "    .dataframe thead th {\n",
       "        text-align: right;\n",
       "    }\n",
       "</style>\n",
       "<table border=\"1\" class=\"dataframe\">\n",
       "  <thead>\n",
       "    <tr style=\"text-align: right;\">\n",
       "      <th></th>\n",
       "      <th>Description</th>\n",
       "      <th>sum_cohen_d</th>\n",
       "    </tr>\n",
       "  </thead>\n",
       "  <tbody>\n",
       "    <tr>\n",
       "      <th>0</th>\n",
       "      <td>MDC 01: DISEASES &amp; DISORDERS OF THE NERVOUS SY...</td>\n",
       "      <td>12.211395</td>\n",
       "    </tr>\n",
       "    <tr>\n",
       "      <th>1</th>\n",
       "      <td>MDC 03: DISEASES &amp; DISORDERS OF THE EAR, NOSE,...</td>\n",
       "      <td>0.491407</td>\n",
       "    </tr>\n",
       "    <tr>\n",
       "      <th>2</th>\n",
       "      <td>MDC 04: DISEASES &amp; DISORDERS OF THE RESPIRATOR...</td>\n",
       "      <td>15.441093</td>\n",
       "    </tr>\n",
       "    <tr>\n",
       "      <th>3</th>\n",
       "      <td>MDC 05: DISEASES &amp; DISORDERS OF THE CIRCULATOR...</td>\n",
       "      <td>29.602112</td>\n",
       "    </tr>\n",
       "    <tr>\n",
       "      <th>4</th>\n",
       "      <td>MDC 06: DISEASES &amp; DISORDERS OF THE DIGESTIVE ...</td>\n",
       "      <td>11.992597</td>\n",
       "    </tr>\n",
       "    <tr>\n",
       "      <th>5</th>\n",
       "      <td>MDC 07: DISEASES &amp; DISORDERS OF THE HEPATOBILI...</td>\n",
       "      <td>5.854254</td>\n",
       "    </tr>\n",
       "    <tr>\n",
       "      <th>6</th>\n",
       "      <td>MDC 08: DISEASES &amp; DISORDERS OF THE MUSCULOSKE...</td>\n",
       "      <td>13.002090</td>\n",
       "    </tr>\n",
       "    <tr>\n",
       "      <th>7</th>\n",
       "      <td>MDC 09: DISEASES &amp; DISORDERS OF THE SKIN, SUBC...</td>\n",
       "      <td>1.937029</td>\n",
       "    </tr>\n",
       "    <tr>\n",
       "      <th>8</th>\n",
       "      <td>MDC 10: ENDOCRINE, NUTRITIONAL &amp; METABOLIC DIS...</td>\n",
       "      <td>4.607626</td>\n",
       "    </tr>\n",
       "    <tr>\n",
       "      <th>9</th>\n",
       "      <td>MDC 11: DISEASES &amp; DISORDERS OF THE KIDNEY &amp; U...</td>\n",
       "      <td>7.192570</td>\n",
       "    </tr>\n",
       "    <tr>\n",
       "      <th>10</th>\n",
       "      <td>MDC 16: DISEASES &amp; DISORDERS OF BLOOD, BLOOD F...</td>\n",
       "      <td>1.967921</td>\n",
       "    </tr>\n",
       "    <tr>\n",
       "      <th>11</th>\n",
       "      <td>MDC 18: INFECTIOUS &amp; PARASITIC DISEASES, SYSTE...</td>\n",
       "      <td>3.946533</td>\n",
       "    </tr>\n",
       "    <tr>\n",
       "      <th>12</th>\n",
       "      <td>MDC 19: MENTAL DISEASES &amp; DISORDERS</td>\n",
       "      <td>3.566688</td>\n",
       "    </tr>\n",
       "    <tr>\n",
       "      <th>13</th>\n",
       "      <td>MDC 20: ALCOHOL/DRUG USE &amp; ALCOHOL/DRUG INDUCE...</td>\n",
       "      <td>1.828290</td>\n",
       "    </tr>\n",
       "    <tr>\n",
       "      <th>14</th>\n",
       "      <td>MDC 21: INJURIES, POISONINGS &amp; TOXIC EFFECTS O...</td>\n",
       "      <td>1.580056</td>\n",
       "    </tr>\n",
       "    <tr>\n",
       "      <th>15</th>\n",
       "      <td>MDC 23: FACTORS INFLUENCING HLTH STAT &amp; OTHR C...</td>\n",
       "      <td>0.502148</td>\n",
       "    </tr>\n",
       "    <tr>\n",
       "      <th>16</th>\n",
       "      <td>UNRELATED OPERATING ROOM PROCEDURES</td>\n",
       "      <td>1.733612</td>\n",
       "    </tr>\n",
       "  </tbody>\n",
       "</table>\n",
       "</div>"
      ],
      "text/plain": [
       "                                          Description  sum_cohen_d\n",
       "0   MDC 01: DISEASES & DISORDERS OF THE NERVOUS SY...    12.211395\n",
       "1   MDC 03: DISEASES & DISORDERS OF THE EAR, NOSE,...     0.491407\n",
       "2   MDC 04: DISEASES & DISORDERS OF THE RESPIRATOR...    15.441093\n",
       "3   MDC 05: DISEASES & DISORDERS OF THE CIRCULATOR...    29.602112\n",
       "4   MDC 06: DISEASES & DISORDERS OF THE DIGESTIVE ...    11.992597\n",
       "5   MDC 07: DISEASES & DISORDERS OF THE HEPATOBILI...     5.854254\n",
       "6   MDC 08: DISEASES & DISORDERS OF THE MUSCULOSKE...    13.002090\n",
       "7   MDC 09: DISEASES & DISORDERS OF THE SKIN, SUBC...     1.937029\n",
       "8   MDC 10: ENDOCRINE, NUTRITIONAL & METABOLIC DIS...     4.607626\n",
       "9   MDC 11: DISEASES & DISORDERS OF THE KIDNEY & U...     7.192570\n",
       "10  MDC 16: DISEASES & DISORDERS OF BLOOD, BLOOD F...     1.967921\n",
       "11  MDC 18: INFECTIOUS & PARASITIC DISEASES, SYSTE...     3.946533\n",
       "12                MDC 19: MENTAL DISEASES & DISORDERS     3.566688\n",
       "13  MDC 20: ALCOHOL/DRUG USE & ALCOHOL/DRUG INDUCE...     1.828290\n",
       "14  MDC 21: INJURIES, POISONINGS & TOXIC EFFECTS O...     1.580056\n",
       "15  MDC 23: FACTORS INFLUENCING HLTH STAT & OTHR C...     0.502148\n",
       "16                UNRELATED OPERATING ROOM PROCEDURES     1.733612"
      ]
     },
     "execution_count": 216,
     "metadata": {},
     "output_type": "execute_result"
    }
   ],
   "source": [
    "cum_cohen_d"
   ]
  },
  {
   "cell_type": "code",
   "execution_count": 223,
   "metadata": {},
   "outputs": [],
   "source": [
    "drg.drop(columns='cum_effect_size', inplace=True)"
   ]
  },
  {
   "cell_type": "code",
   "execution_count": 226,
   "metadata": {
    "scrolled": true
   },
   "outputs": [],
   "source": [
    "# proc_sum = pd.merge(drg, cum_cohen_d, on='Description')"
   ]
  },
  {
   "cell_type": "code",
   "execution_count": 167,
   "metadata": {},
   "outputs": [],
   "source": [
    "num_procs = code_map.groupby('Group').size().reset_index()"
   ]
  },
  {
   "cell_type": "code",
   "execution_count": 170,
   "metadata": {},
   "outputs": [],
   "source": [
    "num_procs.columns = ['Description', 'num_more_exp']"
   ]
  },
  {
   "cell_type": "code",
   "execution_count": 171,
   "metadata": {
    "collapsed": true
   },
   "outputs": [
    {
     "data": {
      "text/html": [
       "<div>\n",
       "<style scoped>\n",
       "    .dataframe tbody tr th:only-of-type {\n",
       "        vertical-align: middle;\n",
       "    }\n",
       "\n",
       "    .dataframe tbody tr th {\n",
       "        vertical-align: top;\n",
       "    }\n",
       "\n",
       "    .dataframe thead th {\n",
       "        text-align: right;\n",
       "    }\n",
       "</style>\n",
       "<table border=\"1\" class=\"dataframe\">\n",
       "  <thead>\n",
       "    <tr style=\"text-align: right;\">\n",
       "      <th></th>\n",
       "      <th>Description</th>\n",
       "      <th>num_more_exp</th>\n",
       "    </tr>\n",
       "  </thead>\n",
       "  <tbody>\n",
       "    <tr>\n",
       "      <th>0</th>\n",
       "      <td>MDC 01: DISEASES &amp; DISORDERS OF THE NERVOUS SY...</td>\n",
       "      <td>20</td>\n",
       "    </tr>\n",
       "    <tr>\n",
       "      <th>1</th>\n",
       "      <td>MDC 03: DISEASES &amp; DISORDERS OF THE EAR, NOSE,...</td>\n",
       "      <td>1</td>\n",
       "    </tr>\n",
       "    <tr>\n",
       "      <th>2</th>\n",
       "      <td>MDC 04: DISEASES &amp; DISORDERS OF THE RESPIRATOR...</td>\n",
       "      <td>23</td>\n",
       "    </tr>\n",
       "    <tr>\n",
       "      <th>3</th>\n",
       "      <td>MDC 05: DISEASES &amp; DISORDERS OF THE CIRCULATOR...</td>\n",
       "      <td>48</td>\n",
       "    </tr>\n",
       "    <tr>\n",
       "      <th>4</th>\n",
       "      <td>MDC 06: DISEASES &amp; DISORDERS OF THE DIGESTIVE ...</td>\n",
       "      <td>20</td>\n",
       "    </tr>\n",
       "    <tr>\n",
       "      <th>5</th>\n",
       "      <td>MDC 07: DISEASES &amp; DISORDERS OF THE HEPATOBILI...</td>\n",
       "      <td>11</td>\n",
       "    </tr>\n",
       "    <tr>\n",
       "      <th>6</th>\n",
       "      <td>MDC 08: DISEASES &amp; DISORDERS OF THE MUSCULOSKE...</td>\n",
       "      <td>23</td>\n",
       "    </tr>\n",
       "    <tr>\n",
       "      <th>7</th>\n",
       "      <td>MDC 09: DISEASES &amp; DISORDERS OF THE SKIN, SUBC...</td>\n",
       "      <td>3</td>\n",
       "    </tr>\n",
       "    <tr>\n",
       "      <th>8</th>\n",
       "      <td>MDC 10: ENDOCRINE, NUTRITIONAL &amp; METABOLIC DIS...</td>\n",
       "      <td>8</td>\n",
       "    </tr>\n",
       "    <tr>\n",
       "      <th>9</th>\n",
       "      <td>MDC 11: DISEASES &amp; DISORDERS OF THE KIDNEY &amp; U...</td>\n",
       "      <td>11</td>\n",
       "    </tr>\n",
       "    <tr>\n",
       "      <th>10</th>\n",
       "      <td>MDC 16: DISEASES &amp; DISORDERS OF BLOOD, BLOOD F...</td>\n",
       "      <td>3</td>\n",
       "    </tr>\n",
       "    <tr>\n",
       "      <th>11</th>\n",
       "      <td>MDC 18: INFECTIOUS &amp; PARASITIC DISEASES, SYSTE...</td>\n",
       "      <td>6</td>\n",
       "    </tr>\n",
       "    <tr>\n",
       "      <th>12</th>\n",
       "      <td>MDC 19: MENTAL DISEASES &amp; DISORDERS</td>\n",
       "      <td>5</td>\n",
       "    </tr>\n",
       "    <tr>\n",
       "      <th>13</th>\n",
       "      <td>MDC 20: ALCOHOL/DRUG USE &amp; ALCOHOL/DRUG INDUCE...</td>\n",
       "      <td>3</td>\n",
       "    </tr>\n",
       "    <tr>\n",
       "      <th>14</th>\n",
       "      <td>MDC 21: INJURIES, POISONINGS &amp; TOXIC EFFECTS O...</td>\n",
       "      <td>3</td>\n",
       "    </tr>\n",
       "    <tr>\n",
       "      <th>15</th>\n",
       "      <td>MDC 23: FACTORS INFLUENCING HLTH STAT &amp; OTHR C...</td>\n",
       "      <td>1</td>\n",
       "    </tr>\n",
       "    <tr>\n",
       "      <th>16</th>\n",
       "      <td>UNRELATED OPERATING ROOM PROCEDURES</td>\n",
       "      <td>3</td>\n",
       "    </tr>\n",
       "  </tbody>\n",
       "</table>\n",
       "</div>"
      ],
      "text/plain": [
       "                                          Description  num_more_exp\n",
       "0   MDC 01: DISEASES & DISORDERS OF THE NERVOUS SY...            20\n",
       "1   MDC 03: DISEASES & DISORDERS OF THE EAR, NOSE,...             1\n",
       "2   MDC 04: DISEASES & DISORDERS OF THE RESPIRATOR...            23\n",
       "3   MDC 05: DISEASES & DISORDERS OF THE CIRCULATOR...            48\n",
       "4   MDC 06: DISEASES & DISORDERS OF THE DIGESTIVE ...            20\n",
       "5   MDC 07: DISEASES & DISORDERS OF THE HEPATOBILI...            11\n",
       "6   MDC 08: DISEASES & DISORDERS OF THE MUSCULOSKE...            23\n",
       "7   MDC 09: DISEASES & DISORDERS OF THE SKIN, SUBC...             3\n",
       "8   MDC 10: ENDOCRINE, NUTRITIONAL & METABOLIC DIS...             8\n",
       "9   MDC 11: DISEASES & DISORDERS OF THE KIDNEY & U...            11\n",
       "10  MDC 16: DISEASES & DISORDERS OF BLOOD, BLOOD F...             3\n",
       "11  MDC 18: INFECTIOUS & PARASITIC DISEASES, SYSTE...             6\n",
       "12                MDC 19: MENTAL DISEASES & DISORDERS             5\n",
       "13  MDC 20: ALCOHOL/DRUG USE & ALCOHOL/DRUG INDUCE...             3\n",
       "14  MDC 21: INJURIES, POISONINGS & TOXIC EFFECTS O...             3\n",
       "15  MDC 23: FACTORS INFLUENCING HLTH STAT & OTHR C...             1\n",
       "16                UNRELATED OPERATING ROOM PROCEDURES             3"
      ]
     },
     "execution_count": 171,
     "metadata": {},
     "output_type": "execute_result"
    }
   ],
   "source": [
    "num_procs"
   ]
  },
  {
   "cell_type": "code",
   "execution_count": 173,
   "metadata": {},
   "outputs": [],
   "source": [
    "# proc_sum = pd.merge(drg, num_procs, on='Description')"
   ]
  },
  {
   "cell_type": "code",
   "execution_count": 175,
   "metadata": {},
   "outputs": [],
   "source": [
    "proc_sum['perc_more_exp'] = proc_sum.num_more_exp/proc_sum.group_size"
   ]
  },
  {
   "cell_type": "code",
   "execution_count": 190,
   "metadata": {},
   "outputs": [],
   "source": [
    "dng_group_code = proc_sum.Description.map(lambda x: x[0:6])"
   ]
  },
  {
   "cell_type": "code",
   "execution_count": 230,
   "metadata": {},
   "outputs": [
    {
     "data": {
      "text/html": [
       "<div>\n",
       "<style scoped>\n",
       "    .dataframe tbody tr th:only-of-type {\n",
       "        vertical-align: middle;\n",
       "    }\n",
       "\n",
       "    .dataframe tbody tr th {\n",
       "        vertical-align: top;\n",
       "    }\n",
       "\n",
       "    .dataframe thead th {\n",
       "        text-align: right;\n",
       "    }\n",
       "</style>\n",
       "<table border=\"1\" class=\"dataframe\">\n",
       "  <thead>\n",
       "    <tr style=\"text-align: right;\">\n",
       "      <th></th>\n",
       "      <th>Code_Start</th>\n",
       "      <th>Code_End</th>\n",
       "      <th>Description</th>\n",
       "      <th>group_size</th>\n",
       "      <th>sum_cohen_d</th>\n",
       "    </tr>\n",
       "  </thead>\n",
       "  <tbody>\n",
       "    <tr>\n",
       "      <th>0</th>\n",
       "      <td>20</td>\n",
       "      <td>103</td>\n",
       "      <td>MDC 01: DISEASES &amp; DISORDERS OF THE NERVOUS SY...</td>\n",
       "      <td>83</td>\n",
       "      <td>12.211395</td>\n",
       "    </tr>\n",
       "  </tbody>\n",
       "</table>\n",
       "</div>"
      ],
      "text/plain": [
       "   Code_Start  Code_End                                        Description  \\\n",
       "0          20       103  MDC 01: DISEASES & DISORDERS OF THE NERVOUS SY...   \n",
       "\n",
       "   group_size  sum_cohen_d  \n",
       "0          83    12.211395  "
      ]
     },
     "execution_count": 230,
     "metadata": {},
     "output_type": "execute_result"
    }
   ],
   "source": [
    "proc_sum.head(1)"
   ]
  },
  {
   "cell_type": "code",
   "execution_count": null,
   "metadata": {},
   "outputs": [],
   "source": [
    "sns.set(style = 'dark', palette='bright', context='talk')"
   ]
  },
  {
   "cell_type": "code",
   "execution_count": 262,
   "metadata": {
    "scrolled": true
   },
   "outputs": [
    {
     "data": {
      "text/plain": [
       "Text(0.5, 0, 'Diagnosis Group')"
      ]
     },
     "execution_count": 262,
     "metadata": {},
     "output_type": "execute_result"
    },
    {
     "data": {
      "image/png": "[encoded data removed]",
      "text/plain": [
       "<Figure size 1008x504 with 1 Axes>"
      ]
     },
     "metadata": {},
     "output_type": "display_data"
    }
   ],
   "source": [
    "plt.figure(figsize=(14,7))\n",
    "sns.barplot(dng_group_code, 'avg_cohen_d', data=proc_sum, palette='deep')\n",
    "plt.xticks(rotation=90)\n",
    "plt.ylabel('Average Effect')\n",
    "plt.xlabel('Diagnosis Group')"
   ]
  },
  {
   "cell_type": "code",
   "execution_count": 269,
   "metadata": {},
   "outputs": [],
   "source": [
    "proc_group_desc = proc_sum.Description.map(lambda x: x[8:])"
   ]
  },
  {
   "cell_type": "code",
   "execution_count": 270,
   "metadata": {},
   "outputs": [
    {
     "data": {
      "text/plain": [
       "0     MDC 01\n",
       "1     MDC 03\n",
       "2     MDC 04\n",
       "3     MDC 05\n",
       "4     MDC 06\n",
       "5     MDC 07\n",
       "6     MDC 08\n",
       "7     MDC 09\n",
       "8     MDC 10\n",
       "9     MDC 11\n",
       "10    MDC 16\n",
       "11    MDC 18\n",
       "12    MDC 19\n",
       "13    MDC 20\n",
       "14    MDC 21\n",
       "15    MDC 23\n",
       "16    UNRELA\n",
       "Name: Description, dtype: object"
      ]
     },
     "execution_count": 270,
     "metadata": {},
     "output_type": "execute_result"
    }
   ],
   "source": [
    "dng_group_code"
   ]
  },
  {
   "cell_type": "code",
   "execution_count": 273,
   "metadata": {},
   "outputs": [],
   "source": [
    "dng_info = pd.DataFrame([dng_group_code, proc_group_desc]).T"
   ]
  },
  {
   "cell_type": "code",
   "execution_count": 275,
   "metadata": {},
   "outputs": [],
   "source": [
    "dng_info.columns = ['Code', 'Description']"
   ]
  },
  {
   "cell_type": "code",
   "execution_count": 285,
   "metadata": {},
   "outputs": [],
   "source": [
    "dng_info.Description = dng_info.Description.map(lambda x: x.title())"
   ]
  },
  {
   "cell_type": "code",
   "execution_count": 286,
   "metadata": {},
   "outputs": [],
   "source": [
    "dng_info.to_csv('.code_describe.csv')"
   ]
  },
  {
   "cell_type": "code",
   "execution_count": null,
   "metadata": {},
   "outputs": [],
   "source": []
  },
  {
   "cell_type": "code",
   "execution_count": null,
   "metadata": {},
   "outputs": [],
   "source": []
  },
  {
   "cell_type": "code",
   "execution_count": null,
   "metadata": {},
   "outputs": [],
   "source": []
  },
  {
   "cell_type": "code",
   "execution_count": null,
   "metadata": {},
   "outputs": [],
   "source": []
  },
  {
   "cell_type": "code",
   "execution_count": 235,
   "metadata": {},
   "outputs": [],
   "source": [
    "proc_sum['avg_cohen_d'] = proc_sum.sum_cohen_d/proc_sum.group_size"
   ]
  },
  {
   "cell_type": "code",
   "execution_count": 236,
   "metadata": {},
   "outputs": [
    {
     "data": {
      "text/html": [
       "<div>\n",
       "<style scoped>\n",
       "    .dataframe tbody tr th:only-of-type {\n",
       "        vertical-align: middle;\n",
       "    }\n",
       "\n",
       "    .dataframe tbody tr th {\n",
       "        vertical-align: top;\n",
       "    }\n",
       "\n",
       "    .dataframe thead th {\n",
       "        text-align: right;\n",
       "    }\n",
       "</style>\n",
       "<table border=\"1\" class=\"dataframe\">\n",
       "  <thead>\n",
       "    <tr style=\"text-align: right;\">\n",
       "      <th></th>\n",
       "      <th>Code_Start</th>\n",
       "      <th>Code_End</th>\n",
       "      <th>Description</th>\n",
       "      <th>group_size</th>\n",
       "      <th>sum_cohen_d</th>\n",
       "      <th>avg_cohen_d</th>\n",
       "    </tr>\n",
       "  </thead>\n",
       "  <tbody>\n",
       "    <tr>\n",
       "      <th>0</th>\n",
       "      <td>20</td>\n",
       "      <td>103</td>\n",
       "      <td>MDC 01: DISEASES &amp; DISORDERS OF THE NERVOUS SY...</td>\n",
       "      <td>83</td>\n",
       "      <td>12.211395</td>\n",
       "      <td>0.147125</td>\n",
       "    </tr>\n",
       "    <tr>\n",
       "      <th>1</th>\n",
       "      <td>129</td>\n",
       "      <td>159</td>\n",
       "      <td>MDC 03: DISEASES &amp; DISORDERS OF THE EAR, NOSE,...</td>\n",
       "      <td>30</td>\n",
       "      <td>0.491407</td>\n",
       "      <td>0.016380</td>\n",
       "    </tr>\n",
       "    <tr>\n",
       "      <th>2</th>\n",
       "      <td>163</td>\n",
       "      <td>208</td>\n",
       "      <td>MDC 04: DISEASES &amp; DISORDERS OF THE RESPIRATOR...</td>\n",
       "      <td>45</td>\n",
       "      <td>15.441093</td>\n",
       "      <td>0.343135</td>\n",
       "    </tr>\n",
       "    <tr>\n",
       "      <th>3</th>\n",
       "      <td>215</td>\n",
       "      <td>316</td>\n",
       "      <td>MDC 05: DISEASES &amp; DISORDERS OF THE CIRCULATOR...</td>\n",
       "      <td>101</td>\n",
       "      <td>29.602112</td>\n",
       "      <td>0.293090</td>\n",
       "    </tr>\n",
       "    <tr>\n",
       "      <th>4</th>\n",
       "      <td>326</td>\n",
       "      <td>395</td>\n",
       "      <td>MDC 06: DISEASES &amp; DISORDERS OF THE DIGESTIVE ...</td>\n",
       "      <td>69</td>\n",
       "      <td>11.992597</td>\n",
       "      <td>0.173806</td>\n",
       "    </tr>\n",
       "    <tr>\n",
       "      <th>5</th>\n",
       "      <td>405</td>\n",
       "      <td>446</td>\n",
       "      <td>MDC 07: DISEASES &amp; DISORDERS OF THE HEPATOBILI...</td>\n",
       "      <td>41</td>\n",
       "      <td>5.854254</td>\n",
       "      <td>0.142787</td>\n",
       "    </tr>\n",
       "    <tr>\n",
       "      <th>6</th>\n",
       "      <td>453</td>\n",
       "      <td>566</td>\n",
       "      <td>MDC 08: DISEASES &amp; DISORDERS OF THE MUSCULOSKE...</td>\n",
       "      <td>113</td>\n",
       "      <td>13.002090</td>\n",
       "      <td>0.115063</td>\n",
       "    </tr>\n",
       "    <tr>\n",
       "      <th>7</th>\n",
       "      <td>570</td>\n",
       "      <td>607</td>\n",
       "      <td>MDC 09: DISEASES &amp; DISORDERS OF THE SKIN, SUBC...</td>\n",
       "      <td>37</td>\n",
       "      <td>1.937029</td>\n",
       "      <td>0.052352</td>\n",
       "    </tr>\n",
       "    <tr>\n",
       "      <th>8</th>\n",
       "      <td>614</td>\n",
       "      <td>645</td>\n",
       "      <td>MDC 10: ENDOCRINE, NUTRITIONAL &amp; METABOLIC DIS...</td>\n",
       "      <td>31</td>\n",
       "      <td>4.607626</td>\n",
       "      <td>0.148633</td>\n",
       "    </tr>\n",
       "    <tr>\n",
       "      <th>9</th>\n",
       "      <td>652</td>\n",
       "      <td>700</td>\n",
       "      <td>MDC 11: DISEASES &amp; DISORDERS OF THE KIDNEY &amp; U...</td>\n",
       "      <td>48</td>\n",
       "      <td>7.192570</td>\n",
       "      <td>0.149845</td>\n",
       "    </tr>\n",
       "    <tr>\n",
       "      <th>10</th>\n",
       "      <td>799</td>\n",
       "      <td>816</td>\n",
       "      <td>MDC 16: DISEASES &amp; DISORDERS OF BLOOD, BLOOD F...</td>\n",
       "      <td>17</td>\n",
       "      <td>1.967921</td>\n",
       "      <td>0.115760</td>\n",
       "    </tr>\n",
       "    <tr>\n",
       "      <th>11</th>\n",
       "      <td>853</td>\n",
       "      <td>872</td>\n",
       "      <td>MDC 18: INFECTIOUS &amp; PARASITIC DISEASES, SYSTE...</td>\n",
       "      <td>19</td>\n",
       "      <td>3.946533</td>\n",
       "      <td>0.207712</td>\n",
       "    </tr>\n",
       "    <tr>\n",
       "      <th>12</th>\n",
       "      <td>876</td>\n",
       "      <td>887</td>\n",
       "      <td>MDC 19: MENTAL DISEASES &amp; DISORDERS</td>\n",
       "      <td>11</td>\n",
       "      <td>3.566688</td>\n",
       "      <td>0.324244</td>\n",
       "    </tr>\n",
       "    <tr>\n",
       "      <th>13</th>\n",
       "      <td>894</td>\n",
       "      <td>897</td>\n",
       "      <td>MDC 20: ALCOHOL/DRUG USE &amp; ALCOHOL/DRUG INDUCE...</td>\n",
       "      <td>3</td>\n",
       "      <td>1.828290</td>\n",
       "      <td>0.609430</td>\n",
       "    </tr>\n",
       "    <tr>\n",
       "      <th>14</th>\n",
       "      <td>901</td>\n",
       "      <td>923</td>\n",
       "      <td>MDC 21: INJURIES, POISONINGS &amp; TOXIC EFFECTS O...</td>\n",
       "      <td>22</td>\n",
       "      <td>1.580056</td>\n",
       "      <td>0.071821</td>\n",
       "    </tr>\n",
       "    <tr>\n",
       "      <th>15</th>\n",
       "      <td>939</td>\n",
       "      <td>951</td>\n",
       "      <td>MDC 23: FACTORS INFLUENCING HLTH STAT &amp; OTHR C...</td>\n",
       "      <td>12</td>\n",
       "      <td>0.502148</td>\n",
       "      <td>0.041846</td>\n",
       "    </tr>\n",
       "    <tr>\n",
       "      <th>16</th>\n",
       "      <td>981</td>\n",
       "      <td>989</td>\n",
       "      <td>UNRELATED OPERATING ROOM PROCEDURES</td>\n",
       "      <td>8</td>\n",
       "      <td>1.733612</td>\n",
       "      <td>0.216701</td>\n",
       "    </tr>\n",
       "  </tbody>\n",
       "</table>\n",
       "</div>"
      ],
      "text/plain": [
       "    Code_Start  Code_End                                        Description  \\\n",
       "0           20       103  MDC 01: DISEASES & DISORDERS OF THE NERVOUS SY...   \n",
       "1          129       159  MDC 03: DISEASES & DISORDERS OF THE EAR, NOSE,...   \n",
       "2          163       208  MDC 04: DISEASES & DISORDERS OF THE RESPIRATOR...   \n",
       "3          215       316  MDC 05: DISEASES & DISORDERS OF THE CIRCULATOR...   \n",
       "4          326       395  MDC 06: DISEASES & DISORDERS OF THE DIGESTIVE ...   \n",
       "5          405       446  MDC 07: DISEASES & DISORDERS OF THE HEPATOBILI...   \n",
       "6          453       566  MDC 08: DISEASES & DISORDERS OF THE MUSCULOSKE...   \n",
       "7          570       607  MDC 09: DISEASES & DISORDERS OF THE SKIN, SUBC...   \n",
       "8          614       645  MDC 10: ENDOCRINE, NUTRITIONAL & METABOLIC DIS...   \n",
       "9          652       700  MDC 11: DISEASES & DISORDERS OF THE KIDNEY & U...   \n",
       "10         799       816  MDC 16: DISEASES & DISORDERS OF BLOOD, BLOOD F...   \n",
       "11         853       872  MDC 18: INFECTIOUS & PARASITIC DISEASES, SYSTE...   \n",
       "12         876       887                MDC 19: MENTAL DISEASES & DISORDERS   \n",
       "13         894       897  MDC 20: ALCOHOL/DRUG USE & ALCOHOL/DRUG INDUCE...   \n",
       "14         901       923  MDC 21: INJURIES, POISONINGS & TOXIC EFFECTS O...   \n",
       "15         939       951  MDC 23: FACTORS INFLUENCING HLTH STAT & OTHR C...   \n",
       "16         981       989                UNRELATED OPERATING ROOM PROCEDURES   \n",
       "\n",
       "    group_size  sum_cohen_d  avg_cohen_d  \n",
       "0           83    12.211395     0.147125  \n",
       "1           30     0.491407     0.016380  \n",
       "2           45    15.441093     0.343135  \n",
       "3          101    29.602112     0.293090  \n",
       "4           69    11.992597     0.173806  \n",
       "5           41     5.854254     0.142787  \n",
       "6          113    13.002090     0.115063  \n",
       "7           37     1.937029     0.052352  \n",
       "8           31     4.607626     0.148633  \n",
       "9           48     7.192570     0.149845  \n",
       "10          17     1.967921     0.115760  \n",
       "11          19     3.946533     0.207712  \n",
       "12          11     3.566688     0.324244  \n",
       "13           3     1.828290     0.609430  \n",
       "14          22     1.580056     0.071821  \n",
       "15          12     0.502148     0.041846  \n",
       "16           8     1.733612     0.216701  "
      ]
     },
     "execution_count": 236,
     "metadata": {},
     "output_type": "execute_result"
    }
   ],
   "source": [
    "proc_sum"
   ]
  },
  {
   "cell_type": "code",
   "execution_count": 106,
   "metadata": {},
   "outputs": [
    {
     "data": {
      "text/plain": [
       "int"
      ]
     },
     "execution_count": 106,
     "metadata": {},
     "output_type": "execute_result"
    }
   ],
   "source": [
    "type(drg_d[0]['Code_Start'])"
   ]
  },
  {
   "cell_type": "code",
   "execution_count": 60,
   "metadata": {},
   "outputs": [],
   "source": [
    "most_sig_proc = 0\n",
    "\n",
    "for i in sig_procs:\n",
    "    largest_cohen_d = 0\n",
    "    metro = clean_data.loc[clean_data.drg_definition == i]['average_covered_charges']\n",
    "    non_metro = clean_data.loc[clean_data.drg_definition != i]['average_covered_charges']\n",
    "    if Cohen_d(metro_charges, non_metro_charges) > largest_cohen_d:\n",
    "         most_sig_proc = i"
   ]
  },
  {
   "cell_type": "code",
   "execution_count": 61,
   "metadata": {},
   "outputs": [
    {
     "data": {
      "text/plain": [
       "'975 - HIV W MAJOR RELATED CONDITION W CC'"
      ]
     },
     "execution_count": 61,
     "metadata": {},
     "output_type": "execute_result"
    }
   ],
   "source": [
    "most_sig_proc"
   ]
  },
  {
   "cell_type": "code",
   "execution_count": 68,
   "metadata": {},
   "outputs": [
    {
     "data": {
      "text/plain": [
       "<matplotlib.legend.Legend at 0x7f06104b7c18>"
      ]
     },
     "execution_count": 68,
     "metadata": {},
     "output_type": "execute_result"
    },
    {
     "data": {
      "image/png": "[encoded data removed]",
      "text/plain": [
       "<Figure size 432x288 with 1 Axes>"
      ]
     },
     "metadata": {
      "needs_background": "light"
     },
     "output_type": "display_data"
    }
   ],
   "source": [
    "metro = clean_data.loc[clean_data.drg_definition == '975 - HIV W MAJOR RELATED CONDITION W CC']['average_covered_charges']\n",
    "non_metro = clean_data.loc[clean_data.drg_definition != '975 - HIV W MAJOR RELATED CONDITION W CC']['average_covered_charges']\n",
    "\n",
    "sns.distplot(metro_charges, label='metro')\n",
    "sns.distplot(non_metro_charges, label='non_metro')\n",
    "plt.legend()"
   ]
  },
  {
   "cell_type": "code",
   "execution_count": 69,
   "metadata": {},
   "outputs": [
    {
     "data": {
      "image/png": "[encoded data removed]",
      "text/plain": [
       "<Figure size 432x288 with 1 Axes>"
      ]
     },
     "metadata": {
      "needs_background": "light"
     },
     "output_type": "display_data"
    }
   ],
   "source": [
    "metro_means_ = []\n",
    "\n",
    "for i in range(0,100000):\n",
    "    a_mean = np.mean(np.random.choice(metro, size=100))\n",
    "    metro_means.append(a_mean)\n",
    "\n",
    "non_metro_means = []\n",
    "\n",
    "for i in range(0,100000):\n",
    "    a_mean = np.mean(np.random.choice(non_metro, size=100))\n",
    "    non_metro_means.append(a_mean)\n",
    "    \n",
    "sns.distplot(metro_means, label='metro')\n",
    "sns.distplot(non_metro_means, label='non_metro')\n",
    "plt.legend()\n",
    "plt.x_label = 'Average Hospital Charges'"
   ]
  },
  {
   "cell_type": "markdown",
   "metadata": {},
   "source": [
    "### Total Hospital Charges"
   ]
  },
  {
   "cell_type": "code",
   "execution_count": 36,
   "metadata": {},
   "outputs": [],
   "source": [
    "metro_charges = clean_data.loc[clean_data['csi'] == '1']['total_discharges']"
   ]
  },
  {
   "cell_type": "code",
   "execution_count": 37,
   "metadata": {},
   "outputs": [],
   "source": [
    "non_metro_charges = clean_data.loc[clean_data['csi'] != '1']['total_discharges']"
   ]
  },
  {
   "cell_type": "code",
   "execution_count": 38,
   "metadata": {},
   "outputs": [
    {
     "data": {
      "text/plain": [
       "<matplotlib.legend.Legend at 0x7f0613bcbeb8>"
      ]
     },
     "execution_count": 38,
     "metadata": {},
     "output_type": "execute_result"
    },
    {
     "data": {
      "image/png": "[encoded data removed]",
      "text/plain": [
       "<Figure size 432x288 with 1 Axes>"
      ]
     },
     "metadata": {
      "needs_background": "light"
     },
     "output_type": "display_data"
    }
   ],
   "source": [
    "sns.distplot(metro_charges, label='metro')\n",
    "sns.distplot(non_metro_charges, label='non_metro')\n",
    "plt.legend()"
   ]
  },
  {
   "cell_type": "code",
   "execution_count": 39,
   "metadata": {},
   "outputs": [
    {
     "data": {
      "text/plain": [
       "Ttest_indResult(statistic=86.20641430287961, pvalue=0.0)"
      ]
     },
     "execution_count": 39,
     "metadata": {},
     "output_type": "execute_result"
    }
   ],
   "source": [
    "st.ttest_ind(metro_charges, non_metro_charges, equal_var=False)"
   ]
  },
  {
   "cell_type": "code",
   "execution_count": 40,
   "metadata": {
    "scrolled": false
   },
   "outputs": [
    {
     "data": {
      "text/plain": [
       "0.34731628883945115"
      ]
     },
     "execution_count": 40,
     "metadata": {},
     "output_type": "execute_result"
    }
   ],
   "source": [
    "Cohen_d(metro_charges, non_metro_charges)"
   ]
  },
  {
   "cell_type": "code",
   "execution_count": 41,
   "metadata": {},
   "outputs": [],
   "source": [
    "metro_means = []\n",
    "\n",
    "for i in range(0,100000):\n",
    "    a_mean = np.mean(np.random.choice(metro_charges, size=100))\n",
    "    metro_means.append(a_mean)\n",
    "\n",
    "non_metro_means = []\n",
    "\n",
    "for i in range(0,100000):\n",
    "    a_mean = np.mean(np.random.choice(non_metro_charges, size=100))\n",
    "    non_metro_means.append(a_mean)\n",
    "\n",
    "sns.distplot(metro_means, label='metro')\n",
    "sns.distplot(non_metro_means, label='non_metro')\n",
    "plt.legend()\n",
    "plt.x_label = 'Average Hospital Charges'"
   ]
  },
  {
   "cell_type": "markdown",
   "metadata": {},
   "source": [
    "### Patient Deductible/Charges"
   ]
  },
  {
   "cell_type": "code",
   "execution_count": null,
   "metadata": {},
   "outputs": [],
   "source": [
    "metro_deductible = clean_data.loc[clean_data['CSI'] == '1']['deductible']"
   ]
  },
  {
   "cell_type": "code",
   "execution_count": null,
   "metadata": {},
   "outputs": [],
   "source": [
    "non_metro_deductible = clean_data.loc[clean_data['CSI'] != '1']['deductible']"
   ]
  },
  {
   "cell_type": "code",
   "execution_count": null,
   "metadata": {},
   "outputs": [],
   "source": [
    "sns.distplot(metro_deductible, label='metro')\n",
    "sns.distplot(non_metro_deductible, label='non_metro')\n",
    "plt.legend()"
   ]
  },
  {
   "cell_type": "code",
   "execution_count": null,
   "metadata": {},
   "outputs": [],
   "source": [
    "metro_deductible_means = []\n",
    "\n",
    "for i in range(0,100000):\n",
    "    a_mean = np.mean(np.random.choice(metro_deductible, size=100))\n",
    "    metro_deductible_means.append(a_mean)"
   ]
  },
  {
   "cell_type": "code",
   "execution_count": null,
   "metadata": {},
   "outputs": [],
   "source": [
    "non_metro_deductible_means = []\n",
    "\n",
    "for i in range(0,100000):\n",
    "    a_mean = np.mean(np.random.choice(non_metro_deductible, size=100))\n",
    "    non_metro_deductible_means.append(a_mean)"
   ]
  },
  {
   "cell_type": "code",
   "execution_count": null,
   "metadata": {},
   "outputs": [],
   "source": [
    "st.ttest_ind(metro_deductible_means, non_metro_deductible_means, equal_var=False)"
   ]
  },
  {
   "cell_type": "code",
   "execution_count": null,
   "metadata": {},
   "outputs": [],
   "source": [
    "sns.distplot(metro_deductible_means, label='metro')\n",
    "sns.distplot(non_metro_deductible_means, label='non_metro')\n",
    "plt.legend()\n",
    "plt.x_label = 'Deductible'"
   ]
  },
  {
   "cell_type": "code",
   "execution_count": null,
   "metadata": {},
   "outputs": [],
   "source": [
    "Cohen_d(metro_deductible_means, non_metro_deductible_means)"
   ]
  },
  {
   "cell_type": "code",
   "execution_count": null,
   "metadata": {},
   "outputs": [],
   "source": []
  }
 ],
 "metadata": {
  "kernelspec": {
   "display_name": "Python 3",
   "language": "python",
   "name": "python3"
  },
  "language_info": {
   "codemirror_mode": {
    "name": "ipython",
    "version": 3
   },
   "file_extension": ".py",
   "mimetype": "text/x-python",
   "name": "python",
   "nbconvert_exporter": "python",
   "pygments_lexer": "ipython3",
   "version": "3.7.3"
  },
  "toc": {
   "base_numbering": 1,
   "nav_menu": {},
   "number_sections": true,
   "sideBar": true,
   "skip_h1_title": false,
   "title_cell": "Table of Contents",
   "title_sidebar": "Contents",
   "toc_cell": false,
   "toc_position": {},
   "toc_section_display": true,
   "toc_window_display": false
  }
 },
 "nbformat": 4,
 "nbformat_minor": 2
}
