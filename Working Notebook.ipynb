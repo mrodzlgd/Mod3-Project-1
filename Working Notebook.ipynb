{
 "cells": [
  {
   "cell_type": "code",
   "execution_count": null,
   "metadata": {},
   "outputs": [],
   "source": [
    "import pandas as pd\n",
    "import seaborn as sns\n",
    "import numpy as np\n",
    "import scipy.stats as st\n",
    "import matplotlib.pyplot as plt"
   ]
  },
  {
   "cell_type": "code",
   "execution_count": null,
   "metadata": {},
   "outputs": [],
   "source": [
    "def Cohen_d(group1, group2):\n",
    "\n",
    "    # Compute Cohen's d.\n",
    "\n",
    "    # group1: Series or NumPy array\n",
    "    # group2: Series or NumPy array\n",
    "\n",
    "    # returns a floating point number \n",
    "\n",
    "    diff = np.mean(group1) - np.mean(group2)\n",
    "\n",
    "    n1, n2 = len(group1), len(group2)\n",
    "    var1 = np.var(group1)\n",
    "    var2 = np.var(group2)\n",
    "\n",
    "    # Calculate the pooled threshold as shown earlier\n",
    "    pooled_var = (n1 * var1 + n2 * var2) / (n1 + n2)\n",
    "    \n",
    "    # Calculate Cohen's d statistic\n",
    "    d = diff / np.sqrt(pooled_var)\n",
    "    \n",
    "    return d"
   ]
  },
  {
   "cell_type": "markdown",
   "metadata": {},
   "source": [
    "## Import Data"
   ]
  },
  {
   "cell_type": "code",
   "execution_count": 2,
   "metadata": {},
   "outputs": [],
   "source": [
    "import data_cleaning"
   ]
  },
  {
   "cell_type": "code",
   "execution_count": 3,
   "metadata": {},
   "outputs": [],
   "source": [
    "clean_data = data_cleaning.full_clean()"
   ]
  },
  {
   "cell_type": "code",
   "execution_count": 4,
   "metadata": {},
   "outputs": [
    {
     "name": "stdout",
     "output_type": "stream",
     "text": [
      "<class 'pandas.core.frame.DataFrame'>\n",
      "Int64Index: 197164 entries, 0 to 197282\n",
      "Data columns (total 11 columns):\n",
      "average_covered_charges      197164 non-null float64\n",
      "average_medicare_payments    197164 non-null float64\n",
      "average_total_payments       197164 non-null float64\n",
      "drg_definition               197164 non-null object\n",
      "provider_name                197164 non-null object\n",
      "total_discharges             197164 non-null int64\n",
      "full_address                 197164 non-null object\n",
      "geoid                        197164 non-null object\n",
      "csi                          197164 non-null object\n",
      "out_of_pocket                197164 non-null float64\n",
      "perc_covered                 197164 non-null float64\n",
      "dtypes: float64(5), int64(1), object(5)\n",
      "memory usage: 18.1+ MB\n"
     ]
    }
   ],
   "source": [
    "clean_data.info()"
   ]
  },
  {
   "cell_type": "code",
   "execution_count": 5,
   "metadata": {},
   "outputs": [
    {
     "data": {
      "text/plain": [
       "0"
      ]
     },
     "execution_count": 5,
     "metadata": {},
     "output_type": "execute_result"
    }
   ],
   "source": [
    "sum(clean_data.csi.isna())"
   ]
  },
  {
   "cell_type": "markdown",
   "metadata": {},
   "source": [
    "## Preliminary Analysis "
   ]
  },
  {
   "cell_type": "markdown",
   "metadata": {},
   "source": [
    "### Total Hospital Charges"
   ]
  },
  {
   "cell_type": "code",
   "execution_count": null,
   "metadata": {},
   "outputs": [],
   "source": [
    "metro_charges = clean_data.loc[clean_data['csi'] == '1']['average_covered_charges']"
   ]
  },
  {
   "cell_type": "code",
   "execution_count": null,
   "metadata": {},
   "outputs": [],
   "source": [
    "non_metro_charges = clean_data.loc[clean_data['csi'] != '1']['average_covered_charges']"
   ]
  },
  {
   "cell_type": "code",
   "execution_count": null,
   "metadata": {
    "scrolled": true
   },
   "outputs": [],
   "source": [
    "sns.distplot(metro_charges, label='metro')\n",
    "sns.distplot(non_metro_charges, label='non_metro')\n",
    "plt.legend()\n",
    "plt.xlim(left=0, right=500000)"
   ]
  },
  {
   "cell_type": "code",
   "execution_count": null,
   "metadata": {},
   "outputs": [],
   "source": [
    "st.ttest_ind(metro_charges, non_metro_charges, equal_var=False)"
   ]
  },
  {
   "cell_type": "code",
   "execution_count": null,
   "metadata": {},
   "outputs": [],
   "source": [
    "metro_means = []\n",
    "\n",
    "for i in range(0,100000):\n",
    "    a_mean = np.mean(np.random.choice(metro_charges, size=100))\n",
    "    metro_means.append(a_mean)"
   ]
  },
  {
   "cell_type": "code",
   "execution_count": null,
   "metadata": {},
   "outputs": [],
   "source": [
    "non_metro_means = []\n",
    "\n",
    "for i in range(0,100000):\n",
    "    a_mean = np.mean(np.random.choice(non_metro_charges, size=100))\n",
    "    non_metro_means.append(a_mean)"
   ]
  },
  {
   "cell_type": "code",
   "execution_count": null,
   "metadata": {},
   "outputs": [],
   "source": [
    "sns.distplot(metro_means, label='metro')\n",
    "sns.distplot(non_metro_means, label='non_metro')\n",
    "plt.legend()\n",
    "plt.x_label = 'Average Hospital Charges'"
   ]
  },
  {
   "cell_type": "code",
   "execution_count": null,
   "metadata": {},
   "outputs": [],
   "source": [
    "Cohen_d(metro_charges, non_metro_charges)"
   ]
  },
  {
   "cell_type": "markdown",
   "metadata": {},
   "source": [
    "### Patient Deductible/Charges"
   ]
  },
  {
   "cell_type": "code",
   "execution_count": null,
   "metadata": {},
   "outputs": [],
   "source": [
    "metro_deductible = clean_data.loc[clean_data['CSI'] == '1']['deductible']"
   ]
  },
  {
   "cell_type": "code",
   "execution_count": null,
   "metadata": {},
   "outputs": [],
   "source": [
    "non_metro_deductible = clean_data.loc[clean_data['CSI'] != '1']['deductible']"
   ]
  },
  {
   "cell_type": "code",
   "execution_count": null,
   "metadata": {},
   "outputs": [],
   "source": [
    "sns.distplot(metro_deductible, label='metro')\n",
    "sns.distplot(non_metro_deductible, label='non_metro')\n",
    "plt.legend()"
   ]
  },
  {
   "cell_type": "code",
   "execution_count": null,
   "metadata": {},
   "outputs": [],
   "source": [
    "metro_deductible_means = []\n",
    "\n",
    "for i in range(0,100000):\n",
    "    a_mean = np.mean(np.random.choice(metro_deductible, size=100))\n",
    "    metro_deductible_means.append(a_mean)"
   ]
  },
  {
   "cell_type": "code",
   "execution_count": null,
   "metadata": {},
   "outputs": [],
   "source": [
    "non_metro_deductible_means = []\n",
    "\n",
    "for i in range(0,100000):\n",
    "    a_mean = np.mean(np.random.choice(non_metro_deductible, size=100))\n",
    "    non_metro_deductible_means.append(a_mean)"
   ]
  },
  {
   "cell_type": "code",
   "execution_count": null,
   "metadata": {},
   "outputs": [],
   "source": [
    "st.ttest_ind(metro_deductible_means, non_metro_deductible_means, equal_var=False)"
   ]
  },
  {
   "cell_type": "code",
   "execution_count": null,
   "metadata": {},
   "outputs": [],
   "source": [
    "sns.distplot(metro_deductible_means, label='metro')\n",
    "sns.distplot(non_metro_deductible_means, label='non_metro')\n",
    "plt.legend()\n",
    "plt.x_label = 'Deductible'"
   ]
  },
  {
   "cell_type": "code",
   "execution_count": null,
   "metadata": {},
   "outputs": [],
   "source": [
    "Cohen_d(metro_deductible_means, non_metro_deductible_means)"
   ]
  },
  {
   "cell_type": "code",
   "execution_count": null,
   "metadata": {},
   "outputs": [],
   "source": []
  }
 ],
 "metadata": {
  "kernelspec": {
   "display_name": "Python 3",
   "language": "python",
   "name": "python3"
  },
  "language_info": {
   "codemirror_mode": {
    "name": "ipython",
    "version": 3
   },
   "file_extension": ".py",
   "mimetype": "text/x-python",
   "name": "python",
   "nbconvert_exporter": "python",
   "pygments_lexer": "ipython3",
   "version": "3.7.3"
  },
  "toc": {
   "base_numbering": 1,
   "nav_menu": {},
   "number_sections": true,
   "sideBar": true,
   "skip_h1_title": false,
   "title_cell": "Table of Contents",
   "title_sidebar": "Contents",
   "toc_cell": false,
   "toc_position": {},
   "toc_section_display": true,
   "toc_window_display": false
  }
 },
 "nbformat": 4,
 "nbformat_minor": 2
}
