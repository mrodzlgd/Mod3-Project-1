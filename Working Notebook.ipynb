{
 "cells": [
  {
   "cell_type": "code",
   "execution_count": 63,
   "metadata": {},
   "outputs": [],
   "source": [
    "import pandas as pd\n",
    "import seaborn as sns\n",
    "import numpy as np\n",
    "import scipy.stats as st\n",
    "import matplotlib.pyplot as plt"
   ]
  },
  {
   "cell_type": "code",
   "execution_count": 75,
   "metadata": {},
   "outputs": [],
   "source": [
    "def Cohen_d(group1, group2):\n",
    "\n",
    "    # Compute Cohen's d.\n",
    "\n",
    "    # group1: Series or NumPy array\n",
    "    # group2: Series or NumPy array\n",
    "\n",
    "    # returns a floating point number \n",
    "\n",
    "    diff = np.mean(group1) - np.mean(group2)\n",
    "\n",
    "    n1, n2 = len(group1), len(group2)\n",
    "    var1 = np.var(group1)\n",
    "    var2 = np.var(group2)\n",
    "\n",
    "    # Calculate the pooled threshold as shown earlier\n",
    "    pooled_var = (n1 * var1 + n2 * var2) / (n1 + n2)\n",
    "    \n",
    "    # Calculate Cohen's d statistic\n",
    "    d = diff / np.sqrt(pooled_var)\n",
    "    \n",
    "    return d"
   ]
  },
  {
   "cell_type": "markdown",
   "metadata": {},
   "source": [
    "## Import Data"
   ]
  },
  {
   "cell_type": "code",
   "execution_count": 24,
   "metadata": {},
   "outputs": [],
   "source": [
    "census_tract = pd.read_excel('./data/censustract-00-10.xlsx', dtype=str)"
   ]
  },
  {
   "cell_type": "code",
   "execution_count": 25,
   "metadata": {},
   "outputs": [],
   "source": [
    "geoid_address = pd.read_csv('./data/geoid_data', dtype=str)"
   ]
  },
  {
   "cell_type": "code",
   "execution_count": 26,
   "metadata": {},
   "outputs": [],
   "source": [
    "hosp_data = pd.read_pickle('./data/hosp_cost_data')\n",
    "\n",
    "address_columns = ['provider_city', 'provider_state', 'provider_street_address', 'provider_zip_code']\n",
    " \n",
    "hosp_data['full_address'] = hosp_data[address_columns[2]] + ', ' + hosp_data[address_columns[0]] + ', ' + hosp_data[address_columns[1]]\n",
    "\n",
    "hosp_data['full_address'] = hosp_data['full_address'].map(lambda x: x.title())"
   ]
  },
  {
   "cell_type": "markdown",
   "metadata": {},
   "source": [
    "## Merge Data"
   ]
  },
  {
   "cell_type": "code",
   "execution_count": 28,
   "metadata": {},
   "outputs": [
    {
     "data": {
      "text/html": [
       "<div>\n",
       "<style scoped>\n",
       "    .dataframe tbody tr th:only-of-type {\n",
       "        vertical-align: middle;\n",
       "    }\n",
       "\n",
       "    .dataframe tbody tr th {\n",
       "        vertical-align: top;\n",
       "    }\n",
       "\n",
       "    .dataframe thead th {\n",
       "        text-align: right;\n",
       "    }\n",
       "</style>\n",
       "<table border=\"1\" class=\"dataframe\">\n",
       "  <thead>\n",
       "    <tr style=\"text-align: right;\">\n",
       "      <th></th>\n",
       "      <th>average_covered_charges</th>\n",
       "      <th>average_medicare_payments</th>\n",
       "      <th>average_medicare_payments_2</th>\n",
       "      <th>drg_definition</th>\n",
       "      <th>hospital_referral_region_description</th>\n",
       "      <th>provider_city</th>\n",
       "      <th>provider_id</th>\n",
       "      <th>provider_name</th>\n",
       "      <th>provider_state</th>\n",
       "      <th>provider_street_address</th>\n",
       "      <th>provider_zip_code</th>\n",
       "      <th>total_discharges</th>\n",
       "      <th>full_address</th>\n",
       "    </tr>\n",
       "  </thead>\n",
       "  <tbody>\n",
       "    <tr>\n",
       "      <th>0</th>\n",
       "      <td>32963.07</td>\n",
       "      <td>5777.24</td>\n",
       "      <td>4763.73</td>\n",
       "      <td>039 - EXTRACRANIAL PROCEDURES W/O CC/MCC</td>\n",
       "      <td>AL - Dothan</td>\n",
       "      <td>DOTHAN</td>\n",
       "      <td>10001</td>\n",
       "      <td>SOUTHEAST ALABAMA MEDICAL CENTER</td>\n",
       "      <td>AL</td>\n",
       "      <td>1108 ROSS CLARK CIRCLE</td>\n",
       "      <td>36301</td>\n",
       "      <td>91</td>\n",
       "      <td>1108 Ross Clark Circle, Dothan, Al</td>\n",
       "    </tr>\n",
       "  </tbody>\n",
       "</table>\n",
       "</div>"
      ],
      "text/plain": [
       "   average_covered_charges  average_medicare_payments  \\\n",
       "0                 32963.07                    5777.24   \n",
       "\n",
       "   average_medicare_payments_2                            drg_definition  \\\n",
       "0                      4763.73  039 - EXTRACRANIAL PROCEDURES W/O CC/MCC   \n",
       "\n",
       "  hospital_referral_region_description provider_city  provider_id  \\\n",
       "0                          AL - Dothan        DOTHAN        10001   \n",
       "\n",
       "                      provider_name provider_state provider_street_address  \\\n",
       "0  SOUTHEAST ALABAMA MEDICAL CENTER             AL  1108 ROSS CLARK CIRCLE   \n",
       "\n",
       "   provider_zip_code  total_discharges                        full_address  \n",
       "0              36301                91  1108 Ross Clark Circle, Dothan, Al  "
      ]
     },
     "execution_count": 28,
     "metadata": {},
     "output_type": "execute_result"
    }
   ],
   "source": [
    "hosp_data.head(1)"
   ]
  },
  {
   "cell_type": "code",
   "execution_count": 34,
   "metadata": {
    "scrolled": false
   },
   "outputs": [
    {
     "data": {
      "text/html": [
       "<div>\n",
       "<style scoped>\n",
       "    .dataframe tbody tr th:only-of-type {\n",
       "        vertical-align: middle;\n",
       "    }\n",
       "\n",
       "    .dataframe tbody tr th {\n",
       "        vertical-align: top;\n",
       "    }\n",
       "\n",
       "    .dataframe thead th {\n",
       "        text-align: right;\n",
       "    }\n",
       "</style>\n",
       "<table border=\"1\" class=\"dataframe\">\n",
       "  <thead>\n",
       "    <tr style=\"text-align: right;\">\n",
       "      <th></th>\n",
       "      <th>Unnamed: 0</th>\n",
       "      <th>geoid</th>\n",
       "      <th>address</th>\n",
       "    </tr>\n",
       "  </thead>\n",
       "  <tbody>\n",
       "    <tr>\n",
       "      <th>0</th>\n",
       "      <td>0</td>\n",
       "      <td>01069041400</td>\n",
       "      <td>1108 Ross Clark Circle, Dothan, Al</td>\n",
       "    </tr>\n",
       "  </tbody>\n",
       "</table>\n",
       "</div>"
      ],
      "text/plain": [
       "  Unnamed: 0        geoid                             address\n",
       "0          0  01069041400  1108 Ross Clark Circle, Dothan, Al"
      ]
     },
     "execution_count": 34,
     "metadata": {},
     "output_type": "execute_result"
    }
   ],
   "source": [
    "geoid_address.head(1)"
   ]
  },
  {
   "cell_type": "code",
   "execution_count": 32,
   "metadata": {
    "scrolled": true
   },
   "outputs": [],
   "source": [
    "# geoid_address.geoid = geoid_address.geoid.map(lambda x: x[:-4])"
   ]
  },
  {
   "cell_type": "code",
   "execution_count": 35,
   "metadata": {},
   "outputs": [
    {
     "data": {
      "text/html": [
       "<div>\n",
       "<style scoped>\n",
       "    .dataframe tbody tr th:only-of-type {\n",
       "        vertical-align: middle;\n",
       "    }\n",
       "\n",
       "    .dataframe tbody tr th {\n",
       "        vertical-align: top;\n",
       "    }\n",
       "\n",
       "    .dataframe thead th {\n",
       "        text-align: right;\n",
       "    }\n",
       "</style>\n",
       "<table border=\"1\" class=\"dataframe\">\n",
       "  <thead>\n",
       "    <tr style=\"text-align: right;\">\n",
       "      <th></th>\n",
       "      <th>GEOID</th>\n",
       "      <th>ST10</th>\n",
       "      <th>COU10</th>\n",
       "      <th>TRACT10</th>\n",
       "      <th>AREAL10</th>\n",
       "      <th>AREAW10</th>\n",
       "      <th>CSA09</th>\n",
       "      <th>CBSA09</th>\n",
       "      <th>CBSA_T</th>\n",
       "      <th>MDIV09</th>\n",
       "      <th>CSI</th>\n",
       "      <th>COFLG</th>\n",
       "      <th>POP00</th>\n",
       "      <th>HU00</th>\n",
       "      <th>POP10</th>\n",
       "      <th>HU10</th>\n",
       "      <th>NPCHG</th>\n",
       "      <th>PPCHG</th>\n",
       "      <th>NHCHG</th>\n",
       "      <th>PHCHG</th>\n",
       "    </tr>\n",
       "  </thead>\n",
       "  <tbody>\n",
       "    <tr>\n",
       "      <th>0</th>\n",
       "      <td>01001020100</td>\n",
       "      <td>01</td>\n",
       "      <td>001</td>\n",
       "      <td>020100</td>\n",
       "      <td>3.78764071493768</td>\n",
       "      <td>0.0140201421782649</td>\n",
       "      <td>388</td>\n",
       "      <td>33860</td>\n",
       "      <td>Montgomery, AL</td>\n",
       "      <td>NaN</td>\n",
       "      <td>1</td>\n",
       "      <td>O</td>\n",
       "      <td>1906</td>\n",
       "      <td>764</td>\n",
       "      <td>1912</td>\n",
       "      <td>752</td>\n",
       "      <td>6</td>\n",
       "      <td>0.314795383001049</td>\n",
       "      <td>-12</td>\n",
       "      <td>-1.5706806282722514</td>\n",
       "    </tr>\n",
       "  </tbody>\n",
       "</table>\n",
       "</div>"
      ],
      "text/plain": [
       "         GEOID ST10 COU10 TRACT10           AREAL10             AREAW10 CSA09  \\\n",
       "0  01001020100   01   001  020100  3.78764071493768  0.0140201421782649   388   \n",
       "\n",
       "  CBSA09          CBSA_T MDIV09 CSI COFLG POP00 HU00 POP10 HU10 NPCHG  \\\n",
       "0  33860  Montgomery, AL    NaN   1     O  1906  764  1912  752     6   \n",
       "\n",
       "               PPCHG NHCHG                PHCHG  \n",
       "0  0.314795383001049   -12  -1.5706806282722514  "
      ]
     },
     "execution_count": 35,
     "metadata": {},
     "output_type": "execute_result"
    }
   ],
   "source": [
    "census_tract.head(1)"
   ]
  },
  {
   "cell_type": "code",
   "execution_count": 42,
   "metadata": {},
   "outputs": [],
   "source": [
    "geoid_address_census = pd.merge(geoid_address, census_tract[['GEOID', 'CSI']], how='left', left_on='geoid', right_on='GEOID')"
   ]
  },
  {
   "cell_type": "code",
   "execution_count": 45,
   "metadata": {
    "scrolled": true
   },
   "outputs": [
    {
     "data": {
      "text/html": [
       "<div>\n",
       "<style scoped>\n",
       "    .dataframe tbody tr th:only-of-type {\n",
       "        vertical-align: middle;\n",
       "    }\n",
       "\n",
       "    .dataframe tbody tr th {\n",
       "        vertical-align: top;\n",
       "    }\n",
       "\n",
       "    .dataframe thead th {\n",
       "        text-align: right;\n",
       "    }\n",
       "</style>\n",
       "<table border=\"1\" class=\"dataframe\">\n",
       "  <thead>\n",
       "    <tr style=\"text-align: right;\">\n",
       "      <th></th>\n",
       "      <th>Unnamed: 0</th>\n",
       "      <th>geoid</th>\n",
       "      <th>address</th>\n",
       "      <th>GEOID</th>\n",
       "      <th>CSI</th>\n",
       "    </tr>\n",
       "  </thead>\n",
       "  <tbody>\n",
       "    <tr>\n",
       "      <th>0</th>\n",
       "      <td>0</td>\n",
       "      <td>01069041400</td>\n",
       "      <td>1108 Ross Clark Circle, Dothan, Al</td>\n",
       "      <td>01069041400</td>\n",
       "      <td>1</td>\n",
       "    </tr>\n",
       "  </tbody>\n",
       "</table>\n",
       "</div>"
      ],
      "text/plain": [
       "  Unnamed: 0        geoid                             address        GEOID CSI\n",
       "0          0  01069041400  1108 Ross Clark Circle, Dothan, Al  01069041400   1"
      ]
     },
     "execution_count": 45,
     "metadata": {},
     "output_type": "execute_result"
    }
   ],
   "source": [
    "geoid_address_census.head(1)"
   ]
  },
  {
   "cell_type": "code",
   "execution_count": 47,
   "metadata": {},
   "outputs": [],
   "source": [
    "clean_data = pd.merge(hosp_data, geoid_address_census, how='left', left_on='full_address', right_on='address')"
   ]
  },
  {
   "cell_type": "code",
   "execution_count": 91,
   "metadata": {},
   "outputs": [],
   "source": [
    "clean_data['deductible'] = clean_data.average_medicare_payments-clean_data.average_medicare_payments_2"
   ]
  },
  {
   "cell_type": "markdown",
   "metadata": {},
   "source": [
    "## Preliminary Analysis "
   ]
  },
  {
   "cell_type": "markdown",
   "metadata": {},
   "source": [
    "### Total Hospital Charges"
   ]
  },
  {
   "cell_type": "code",
   "execution_count": 55,
   "metadata": {},
   "outputs": [],
   "source": [
    "metro_charges = clean_data.loc[clean_data['CSI'] == '1']['average_covered_charges']"
   ]
  },
  {
   "cell_type": "code",
   "execution_count": 56,
   "metadata": {},
   "outputs": [],
   "source": [
    "non_metro_charges = clean_data.loc[clean_data['CSI'] != '1']['average_covered_charges']"
   ]
  },
  {
   "cell_type": "code",
   "execution_count": 64,
   "metadata": {},
   "outputs": [
    {
     "data": {
      "text/plain": [
       "<matplotlib.legend.Legend at 0x7fb420f115f8>"
      ]
     },
     "execution_count": 64,
     "metadata": {},
     "output_type": "execute_result"
    },
    {
     "data": {
      "image/png": "[encoded data removed]",
      "text/plain": [
       "<Figure size 432x288 with 1 Axes>"
      ]
     },
     "metadata": {
      "needs_background": "light"
     },
     "output_type": "display_data"
    }
   ],
   "source": [
    "sns.distplot(metro_charges, label='metro')\n",
    "sns.distplot(non_metro_charges, label='non_metro')\n",
    "plt.legend()"
   ]
  },
  {
   "cell_type": "code",
   "execution_count": 71,
   "metadata": {},
   "outputs": [],
   "source": [
    "metro_means = []\n",
    "\n",
    "for i in range(0,100000):\n",
    "    a_mean = np.mean(np.random.choice(metro_charges, size=100))\n",
    "    metro_means.append(a_mean)"
   ]
  },
  {
   "cell_type": "code",
   "execution_count": 72,
   "metadata": {},
   "outputs": [],
   "source": [
    "non_metro_means = []\n",
    "\n",
    "for i in range(0,100000):\n",
    "    a_mean = np.mean(np.random.choice(non_metro_charges, size=100))\n",
    "    non_metro_means.append(a_mean)"
   ]
  },
  {
   "cell_type": "code",
   "execution_count": 77,
   "metadata": {},
   "outputs": [
    {
     "data": {
      "text/plain": [
       "Ttest_indResult(statistic=114.14874214632141, pvalue=0.0)"
      ]
     },
     "execution_count": 77,
     "metadata": {},
     "output_type": "execute_result"
    }
   ],
   "source": [
    "st.ttest_ind(metro_charges, non_metro_charges, equal_var=False)"
   ]
  },
  {
   "cell_type": "code",
   "execution_count": 89,
   "metadata": {},
   "outputs": [
    {
     "data": {
      "image/png": "[encoded data removed]",
      "text/plain": [
       "<Figure size 432x288 with 1 Axes>"
      ]
     },
     "metadata": {
      "needs_background": "light"
     },
     "output_type": "display_data"
    }
   ],
   "source": [
    "sns.distplot(metro_means, label='metro')\n",
    "sns.distplot(non_metro_means, label='non_metro')\n",
    "plt.legend()\n",
    "plt.x_label = 'Average Hospital Charges'"
   ]
  },
  {
   "cell_type": "code",
   "execution_count": 79,
   "metadata": {},
   "outputs": [
    {
     "data": {
      "text/plain": [
       "5.797310037893778"
      ]
     },
     "execution_count": 79,
     "metadata": {},
     "output_type": "execute_result"
    }
   ],
   "source": [
    "Cohen_d(metro_means, non_metro_means)"
   ]
  },
  {
   "cell_type": "markdown",
   "metadata": {},
   "source": [
    "### Patient Deductible/Charges"
   ]
  },
  {
   "cell_type": "code",
   "execution_count": 101,
   "metadata": {},
   "outputs": [],
   "source": [
    "metro_deductible = clean_data.loc[clean_data['CSI'] == '1']['deductible']"
   ]
  },
  {
   "cell_type": "code",
   "execution_count": 102,
   "metadata": {},
   "outputs": [],
   "source": [
    "non_metro_deductible = clean_data.loc[clean_data['CSI'] != '1']['deductible']"
   ]
  },
  {
   "cell_type": "code",
   "execution_count": 103,
   "metadata": {},
   "outputs": [
    {
     "data": {
      "text/plain": [
       "<matplotlib.legend.Legend at 0x7fb413adcf98>"
      ]
     },
     "execution_count": 103,
     "metadata": {},
     "output_type": "execute_result"
    },
    {
     "data": {
      "image/png": "[encoded data removed]",
      "text/plain": [
       "<Figure size 432x288 with 1 Axes>"
      ]
     },
     "metadata": {
      "needs_background": "light"
     },
     "output_type": "display_data"
    }
   ],
   "source": [
    "sns.distplot(metro_deductible, label='metro')\n",
    "sns.distplot(non_metro_deductible, label='non_metro')\n",
    "plt.legend()"
   ]
  },
  {
   "cell_type": "code",
   "execution_count": 105,
   "metadata": {},
   "outputs": [],
   "source": [
    "metro_deductible_means = []\n",
    "\n",
    "for i in range(0,100000):\n",
    "    a_mean = np.mean(np.random.choice(metro_deductible, size=100))\n",
    "    metro_deductible_means.append(a_mean)"
   ]
  },
  {
   "cell_type": "code",
   "execution_count": 106,
   "metadata": {},
   "outputs": [],
   "source": [
    "non_metro_deductible_means = []\n",
    "\n",
    "for i in range(0,100000):\n",
    "    a_mean = np.mean(np.random.choice(non_metro_deductible, size=100))\n",
    "    non_metro_deductible_means.append(a_mean)"
   ]
  },
  {
   "cell_type": "code",
   "execution_count": 107,
   "metadata": {},
   "outputs": [
    {
     "data": {
      "text/plain": [
       "Ttest_indResult(statistic=558.9125798739531, pvalue=0.0)"
      ]
     },
     "execution_count": 107,
     "metadata": {},
     "output_type": "execute_result"
    }
   ],
   "source": [
    "st.ttest_ind(metro_deductible_means, non_metro_deductible_means, equal_var=False)"
   ]
  },
  {
   "cell_type": "code",
   "execution_count": 117,
   "metadata": {},
   "outputs": [
    {
     "data": {
      "image/png": "[encoded data removed]",
      "text/plain": [
       "<Figure size 432x288 with 1 Axes>"
      ]
     },
     "metadata": {
      "needs_background": "light"
     },
     "output_type": "display_data"
    }
   ],
   "source": [
    "sns.distplot(metro_deductible_means, label='metro')\n",
    "sns.distplot(non_metro_deductible_means, label='non_metro')\n",
    "plt.legend()\n",
    "plt.x_label = 'Deductible'"
   ]
  },
  {
   "cell_type": "code",
   "execution_count": 110,
   "metadata": {},
   "outputs": [
    {
     "data": {
      "text/plain": [
       "2.4995455419148342"
      ]
     },
     "execution_count": 110,
     "metadata": {},
     "output_type": "execute_result"
    }
   ],
   "source": [
    "Cohen_d(metro_deductible_means, non_metro_deductible_means)"
   ]
  },
  {
   "cell_type": "code",
   "execution_count": null,
   "metadata": {},
   "outputs": [],
   "source": []
  }
 ],
 "metadata": {
  "kernelspec": {
   "display_name": "Python 3",
   "language": "python",
   "name": "python3"
  },
  "language_info": {
   "codemirror_mode": {
    "name": "ipython",
    "version": 3
   },
   "file_extension": ".py",
   "mimetype": "text/x-python",
   "name": "python",
   "nbconvert_exporter": "python",
   "pygments_lexer": "ipython3",
   "version": "3.7.3"
  },
  "toc": {
   "base_numbering": 1,
   "nav_menu": {},
   "number_sections": true,
   "sideBar": true,
   "skip_h1_title": false,
   "title_cell": "Table of Contents",
   "title_sidebar": "Contents",
   "toc_cell": false,
   "toc_position": {},
   "toc_section_display": true,
   "toc_window_display": false
  }
 },
 "nbformat": 4,
 "nbformat_minor": 2
}
