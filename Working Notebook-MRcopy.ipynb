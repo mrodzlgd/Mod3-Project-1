{
 "cells": [
  {
   "cell_type": "markdown",
   "metadata": {},
   "source": [
    "## Importing libraries"
   ]
  },
  {
   "cell_type": "code",
   "execution_count": 1,
   "metadata": {},
   "outputs": [],
   "source": [
    "import pandas as pd\n",
    "import seaborn as sns\n",
    "import numpy as np\n",
    "import scipy.stats as st\n",
    "import matplotlib.pyplot as plt"
   ]
  },
  {
   "cell_type": "markdown",
   "metadata": {},
   "source": [
    "## Creating functions"
   ]
  },
  {
   "cell_type": "code",
   "execution_count": 2,
   "metadata": {},
   "outputs": [],
   "source": [
    "def Cohen_d(group1, group2):\n",
    "\n",
    "    # Compute Cohen's d.\n",
    "\n",
    "    # group1: Series or NumPy array\n",
    "    # group2: Series or NumPy array\n",
    "\n",
    "    # returns a floating point number \n",
    "\n",
    "    diff = np.mean(group1) - np.mean(group2)\n",
    "\n",
    "    n1, n2 = len(group1), len(group2)\n",
    "    var1 = np.var(group1)\n",
    "    var2 = np.var(group2)\n",
    "\n",
    "    # Calculate the pooled threshold as shown earlier\n",
    "    pooled_var = (n1 * var1 + n2 * var2) / (n1 + n2)\n",
    "    \n",
    "    # Calculate Cohen's d statistic\n",
    "    d = diff / np.sqrt(pooled_var)\n",
    "    \n",
    "    return d"
   ]
  },
  {
   "cell_type": "code",
   "execution_count": 40,
   "metadata": {},
   "outputs": [],
   "source": [
    "def create_metro_dataset(series):\n",
    "    metro = clean_data.loc[clean_data['CSI'] == '1'][series]\n",
    "   \n",
    "    return metro"
   ]
  },
  {
   "cell_type": "code",
   "execution_count": 41,
   "metadata": {},
   "outputs": [],
   "source": [
    "def create_non_metro_dataset(series):\n",
    "    non_metro = clean_data.loc[clean_data['CSI'] != '1'][series]\n",
    "    return non_metro"
   ]
  },
  {
   "cell_type": "code",
   "execution_count": 204,
   "metadata": {},
   "outputs": [],
   "source": [
    "def plot_distribution(data1, label1, data2,label2):\n",
    "    sns.distplot(data1, label=str(label1))\n",
    "    sns.distplot(data2 , label=str(label2))\n",
    "    plt.legend()"
   ]
  },
  {
   "cell_type": "code",
   "execution_count": 217,
   "metadata": {},
   "outputs": [],
   "source": [
    "def get_sample_means(data,sample_size):\n",
    "    means = []\n",
    "    for i in range(0,100000):\n",
    "        a_mean = np.mean(np.random.choice(data, size=sample_size))\n",
    "        means.append(a_mean)\n",
    "    return means"
   ]
  },
  {
   "cell_type": "markdown",
   "metadata": {},
   "source": [
    "## Import Data"
   ]
  },
  {
   "cell_type": "code",
   "execution_count": 3,
   "metadata": {},
   "outputs": [],
   "source": [
    "census_tract = pd.read_excel('./data/censustract-00-10.xlsx', dtype=str)"
   ]
  },
  {
   "cell_type": "code",
   "execution_count": 4,
   "metadata": {},
   "outputs": [],
   "source": [
    "geoid_address = pd.read_csv('./data/geoid_data', dtype=str)"
   ]
  },
  {
   "cell_type": "code",
   "execution_count": 5,
   "metadata": {},
   "outputs": [],
   "source": [
    "hosp_data = pd.read_pickle('./data/hosp_cost_data')\n",
    "\n",
    "address_columns = ['provider_city', 'provider_state', 'provider_street_address', 'provider_zip_code']\n",
    " \n",
    "hosp_data['full_address'] = hosp_data[address_columns[2]] + ', ' + hosp_data[address_columns[0]] + ', ' + hosp_data[address_columns[1]]\n",
    "\n",
    "hosp_data['full_address'] = hosp_data['full_address'].map(lambda x: x.title())"
   ]
  },
  {
   "cell_type": "markdown",
   "metadata": {},
   "source": [
    "__Importing DRG Data__\n"
   ]
  },
  {
   "cell_type": "code",
   "execution_count": 58,
   "metadata": {},
   "outputs": [],
   "source": [
    "drg = pd.read_csv('data/DRG.csv')"
   ]
  },
  {
   "cell_type": "code",
   "execution_count": 147,
   "metadata": {},
   "outputs": [],
   "source": [
    "code_list = list(clean_data.drg_code.unique())"
   ]
  },
  {
   "cell_type": "code",
   "execution_count": 156,
   "metadata": {},
   "outputs": [
    {
     "data": {
      "text/plain": [
       "dict_keys(['Code_Start', 'Code_End', 'Description'])"
      ]
     },
     "execution_count": 156,
     "metadata": {},
     "output_type": "execute_result"
    }
   ],
   "source": [
    "drg_d = drg.to_dict('records')"
   ]
  },
  {
   "cell_type": "code",
   "execution_count": 181,
   "metadata": {},
   "outputs": [],
   "source": [
    "code_ref = []\n",
    "for i in range(0,len(drg_d)):\n",
    "    for c in code_list:\n",
    "        if drg_d[i]['Code_Start'] <= c <= drg_d[i]['Code_End']:\n",
    "            code_ref.append({'Code': c,'Code_Start':drg_d[i]['Code_Start'],'Code_End':\n",
    "                             drg_d[i]['Code_End'],'Group':drg_d[i]['Description']})\n",
    "code_map = pd.DataFrame.from_dict(code_ref)\n",
    "           "
   ]
  },
  {
   "cell_type": "markdown",
   "metadata": {},
   "source": [
    "## Merge Data"
   ]
  },
  {
   "cell_type": "code",
   "execution_count": 6,
   "metadata": {},
   "outputs": [
    {
     "data": {
      "text/html": [
       "<div>\n",
       "<style scoped>\n",
       "    .dataframe tbody tr th:only-of-type {\n",
       "        vertical-align: middle;\n",
       "    }\n",
       "\n",
       "    .dataframe tbody tr th {\n",
       "        vertical-align: top;\n",
       "    }\n",
       "\n",
       "    .dataframe thead th {\n",
       "        text-align: right;\n",
       "    }\n",
       "</style>\n",
       "<table border=\"1\" class=\"dataframe\">\n",
       "  <thead>\n",
       "    <tr style=\"text-align: right;\">\n",
       "      <th></th>\n",
       "      <th>average_covered_charges</th>\n",
       "      <th>average_medicare_payments</th>\n",
       "      <th>average_medicare_payments_2</th>\n",
       "      <th>drg_definition</th>\n",
       "      <th>hospital_referral_region_description</th>\n",
       "      <th>provider_city</th>\n",
       "      <th>provider_id</th>\n",
       "      <th>provider_name</th>\n",
       "      <th>provider_state</th>\n",
       "      <th>provider_street_address</th>\n",
       "      <th>provider_zip_code</th>\n",
       "      <th>total_discharges</th>\n",
       "      <th>full_address</th>\n",
       "    </tr>\n",
       "  </thead>\n",
       "  <tbody>\n",
       "    <tr>\n",
       "      <th>0</th>\n",
       "      <td>32963.07</td>\n",
       "      <td>5777.24</td>\n",
       "      <td>4763.73</td>\n",
       "      <td>039 - EXTRACRANIAL PROCEDURES W/O CC/MCC</td>\n",
       "      <td>AL - Dothan</td>\n",
       "      <td>DOTHAN</td>\n",
       "      <td>10001</td>\n",
       "      <td>SOUTHEAST ALABAMA MEDICAL CENTER</td>\n",
       "      <td>AL</td>\n",
       "      <td>1108 ROSS CLARK CIRCLE</td>\n",
       "      <td>36301</td>\n",
       "      <td>91</td>\n",
       "      <td>1108 Ross Clark Circle, Dothan, Al</td>\n",
       "    </tr>\n",
       "  </tbody>\n",
       "</table>\n",
       "</div>"
      ],
      "text/plain": [
       "   average_covered_charges  average_medicare_payments  \\\n",
       "0                 32963.07                    5777.24   \n",
       "\n",
       "   average_medicare_payments_2                            drg_definition  \\\n",
       "0                      4763.73  039 - EXTRACRANIAL PROCEDURES W/O CC/MCC   \n",
       "\n",
       "  hospital_referral_region_description provider_city  provider_id  \\\n",
       "0                          AL - Dothan        DOTHAN        10001   \n",
       "\n",
       "                      provider_name provider_state provider_street_address  \\\n",
       "0  SOUTHEAST ALABAMA MEDICAL CENTER             AL  1108 ROSS CLARK CIRCLE   \n",
       "\n",
       "   provider_zip_code  total_discharges                        full_address  \n",
       "0              36301                91  1108 Ross Clark Circle, Dothan, Al  "
      ]
     },
     "execution_count": 6,
     "metadata": {},
     "output_type": "execute_result"
    }
   ],
   "source": [
    "hosp_data.head(1)"
   ]
  },
  {
   "cell_type": "code",
   "execution_count": 7,
   "metadata": {
    "scrolled": true
   },
   "outputs": [
    {
     "data": {
      "text/html": [
       "<div>\n",
       "<style scoped>\n",
       "    .dataframe tbody tr th:only-of-type {\n",
       "        vertical-align: middle;\n",
       "    }\n",
       "\n",
       "    .dataframe tbody tr th {\n",
       "        vertical-align: top;\n",
       "    }\n",
       "\n",
       "    .dataframe thead th {\n",
       "        text-align: right;\n",
       "    }\n",
       "</style>\n",
       "<table border=\"1\" class=\"dataframe\">\n",
       "  <thead>\n",
       "    <tr style=\"text-align: right;\">\n",
       "      <th></th>\n",
       "      <th>Unnamed: 0</th>\n",
       "      <th>geoid</th>\n",
       "      <th>address</th>\n",
       "    </tr>\n",
       "  </thead>\n",
       "  <tbody>\n",
       "    <tr>\n",
       "      <th>0</th>\n",
       "      <td>0</td>\n",
       "      <td>010690414002015</td>\n",
       "      <td>1108 Ross Clark Circle, Dothan, Al</td>\n",
       "    </tr>\n",
       "  </tbody>\n",
       "</table>\n",
       "</div>"
      ],
      "text/plain": [
       "  Unnamed: 0            geoid                             address\n",
       "0          0  010690414002015  1108 Ross Clark Circle, Dothan, Al"
      ]
     },
     "execution_count": 7,
     "metadata": {},
     "output_type": "execute_result"
    }
   ],
   "source": [
    "geoid_address.head(1)"
   ]
  },
  {
   "cell_type": "code",
   "execution_count": 8,
   "metadata": {
    "scrolled": true
   },
   "outputs": [],
   "source": [
    "geoid_address.geoid = geoid_address.geoid.map(lambda x: x[:-4])"
   ]
  },
  {
   "cell_type": "code",
   "execution_count": 9,
   "metadata": {},
   "outputs": [
    {
     "data": {
      "text/html": [
       "<div>\n",
       "<style scoped>\n",
       "    .dataframe tbody tr th:only-of-type {\n",
       "        vertical-align: middle;\n",
       "    }\n",
       "\n",
       "    .dataframe tbody tr th {\n",
       "        vertical-align: top;\n",
       "    }\n",
       "\n",
       "    .dataframe thead th {\n",
       "        text-align: right;\n",
       "    }\n",
       "</style>\n",
       "<table border=\"1\" class=\"dataframe\">\n",
       "  <thead>\n",
       "    <tr style=\"text-align: right;\">\n",
       "      <th></th>\n",
       "      <th>GEOID</th>\n",
       "      <th>ST10</th>\n",
       "      <th>COU10</th>\n",
       "      <th>TRACT10</th>\n",
       "      <th>AREAL10</th>\n",
       "      <th>AREAW10</th>\n",
       "      <th>CSA09</th>\n",
       "      <th>CBSA09</th>\n",
       "      <th>CBSA_T</th>\n",
       "      <th>MDIV09</th>\n",
       "      <th>CSI</th>\n",
       "      <th>COFLG</th>\n",
       "      <th>POP00</th>\n",
       "      <th>HU00</th>\n",
       "      <th>POP10</th>\n",
       "      <th>HU10</th>\n",
       "      <th>NPCHG</th>\n",
       "      <th>PPCHG</th>\n",
       "      <th>NHCHG</th>\n",
       "      <th>PHCHG</th>\n",
       "    </tr>\n",
       "  </thead>\n",
       "  <tbody>\n",
       "    <tr>\n",
       "      <th>0</th>\n",
       "      <td>01001020100</td>\n",
       "      <td>01</td>\n",
       "      <td>001</td>\n",
       "      <td>020100</td>\n",
       "      <td>3.78764071493768</td>\n",
       "      <td>0.0140201421782649</td>\n",
       "      <td>388</td>\n",
       "      <td>33860</td>\n",
       "      <td>Montgomery, AL</td>\n",
       "      <td>NaN</td>\n",
       "      <td>1</td>\n",
       "      <td>O</td>\n",
       "      <td>1906</td>\n",
       "      <td>764</td>\n",
       "      <td>1912</td>\n",
       "      <td>752</td>\n",
       "      <td>6</td>\n",
       "      <td>0.314795383001049</td>\n",
       "      <td>-12</td>\n",
       "      <td>-1.5706806282722514</td>\n",
       "    </tr>\n",
       "  </tbody>\n",
       "</table>\n",
       "</div>"
      ],
      "text/plain": [
       "         GEOID ST10 COU10 TRACT10           AREAL10             AREAW10 CSA09  \\\n",
       "0  01001020100   01   001  020100  3.78764071493768  0.0140201421782649   388   \n",
       "\n",
       "  CBSA09          CBSA_T MDIV09 CSI COFLG POP00 HU00 POP10 HU10 NPCHG  \\\n",
       "0  33860  Montgomery, AL    NaN   1     O  1906  764  1912  752     6   \n",
       "\n",
       "               PPCHG NHCHG                PHCHG  \n",
       "0  0.314795383001049   -12  -1.5706806282722514  "
      ]
     },
     "execution_count": 9,
     "metadata": {},
     "output_type": "execute_result"
    }
   ],
   "source": [
    "census_tract.head(1)"
   ]
  },
  {
   "cell_type": "code",
   "execution_count": 10,
   "metadata": {},
   "outputs": [],
   "source": [
    "geoid_address_census = pd.merge(geoid_address, census_tract[['GEOID', 'CSI']], how='left', left_on='geoid', right_on='GEOID')"
   ]
  },
  {
   "cell_type": "code",
   "execution_count": 11,
   "metadata": {
    "scrolled": true
   },
   "outputs": [
    {
     "data": {
      "text/html": [
       "<div>\n",
       "<style scoped>\n",
       "    .dataframe tbody tr th:only-of-type {\n",
       "        vertical-align: middle;\n",
       "    }\n",
       "\n",
       "    .dataframe tbody tr th {\n",
       "        vertical-align: top;\n",
       "    }\n",
       "\n",
       "    .dataframe thead th {\n",
       "        text-align: right;\n",
       "    }\n",
       "</style>\n",
       "<table border=\"1\" class=\"dataframe\">\n",
       "  <thead>\n",
       "    <tr style=\"text-align: right;\">\n",
       "      <th></th>\n",
       "      <th>Unnamed: 0</th>\n",
       "      <th>geoid</th>\n",
       "      <th>address</th>\n",
       "      <th>GEOID</th>\n",
       "      <th>CSI</th>\n",
       "    </tr>\n",
       "  </thead>\n",
       "  <tbody>\n",
       "    <tr>\n",
       "      <th>0</th>\n",
       "      <td>0</td>\n",
       "      <td>01069041400</td>\n",
       "      <td>1108 Ross Clark Circle, Dothan, Al</td>\n",
       "      <td>01069041400</td>\n",
       "      <td>1</td>\n",
       "    </tr>\n",
       "  </tbody>\n",
       "</table>\n",
       "</div>"
      ],
      "text/plain": [
       "  Unnamed: 0        geoid                             address        GEOID CSI\n",
       "0          0  01069041400  1108 Ross Clark Circle, Dothan, Al  01069041400   1"
      ]
     },
     "execution_count": 11,
     "metadata": {},
     "output_type": "execute_result"
    }
   ],
   "source": [
    "geoid_address_census.head(1)"
   ]
  },
  {
   "cell_type": "code",
   "execution_count": 12,
   "metadata": {},
   "outputs": [],
   "source": [
    "clean_data = pd.merge(hosp_data, geoid_address_census, how='left', left_on='full_address', right_on='address')"
   ]
  },
  {
   "cell_type": "code",
   "execution_count": 187,
   "metadata": {},
   "outputs": [],
   "source": [
    "clean_data = clean_data.merge(code_map['Group'], how ='left', left_on = clean_data.drg_code, right_on = code_map.Code)"
   ]
  },
  {
   "cell_type": "code",
   "execution_count": 13,
   "metadata": {},
   "outputs": [],
   "source": [
    "clean_data['deductible'] = clean_data.average_medicare_payments-clean_data.average_medicare_payments_2"
   ]
  },
  {
   "cell_type": "code",
   "execution_count": 30,
   "metadata": {},
   "outputs": [],
   "source": [
    "clean_data['perc_paid'] = ((clean_data['average_medicare_payments']/clean_data['average_covered_charges'])*100).round(2)"
   ]
  },
  {
   "cell_type": "code",
   "execution_count": 39,
   "metadata": {},
   "outputs": [],
   "source": [
    "clean_data['med_vs_hosp'] = ((clean_data['average_medicare_payments_2']/clean_data['average_covered_charges'])*100).round(2)"
   ]
  },
  {
   "cell_type": "markdown",
   "metadata": {},
   "source": [
    "## Preliminary Analysis "
   ]
  },
  {
   "cell_type": "markdown",
   "metadata": {},
   "source": [
    "### Total Hospital Charges"
   ]
  },
  {
   "cell_type": "code",
   "execution_count": null,
   "metadata": {},
   "outputs": [],
   "source": [
    "metro_charges = create_metro_dataset('average_covered_charges')"
   ]
  },
  {
   "cell_type": "code",
   "execution_count": 193,
   "metadata": {},
   "outputs": [],
   "source": [
    "non_metro_charges = create_non_metro_dataset('average_covered_charges')\n"
   ]
  },
  {
   "cell_type": "code",
   "execution_count": 206,
   "metadata": {},
   "outputs": [
    {
     "data": {
      "image/png": "[encoded data removed]",
      "text/plain": [
       "<Figure size 432x288 with 1 Axes>"
      ]
     },
     "metadata": {
      "needs_background": "light"
     },
     "output_type": "display_data"
    }
   ],
   "source": [
    "plot_distribution(metro_charges, 'metro', non_metro_charges,'non_metro')"
   ]
  },
  {
   "cell_type": "code",
   "execution_count": 220,
   "metadata": {},
   "outputs": [],
   "source": [
    "metro_means = get_sample_means(metro_charges,100)\n"
   ]
  },
  {
   "cell_type": "code",
   "execution_count": 221,
   "metadata": {},
   "outputs": [],
   "source": [
    "non_metro_means = get_sample_means(non_metro_charges,100)\n"
   ]
  },
  {
   "cell_type": "code",
   "execution_count": 222,
   "metadata": {},
   "outputs": [
    {
     "data": {
      "text/plain": [
       "Ttest_indResult(statistic=1297.839002065847, pvalue=0.0)"
      ]
     },
     "execution_count": 222,
     "metadata": {},
     "output_type": "execute_result"
    }
   ],
   "source": [
    "st.ttest_ind(metro_means, non_metro_means, equal_var=False)"
   ]
  },
  {
   "cell_type": "code",
   "execution_count": 223,
   "metadata": {},
   "outputs": [
    {
     "data": {
      "image/png": "[encoded data removed]",
      "text/plain": [
       "<Figure size 432x288 with 1 Axes>"
      ]
     },
     "metadata": {
      "needs_background": "light"
     },
     "output_type": "display_data"
    }
   ],
   "source": [
    "plot_distribution(metro_means, 'metro', non_metro_means,'non_metro')"
   ]
  },
  {
   "cell_type": "code",
   "execution_count": 21,
   "metadata": {},
   "outputs": [
    {
     "data": {
      "text/plain": [
       "5.794573304594597"
      ]
     },
     "execution_count": 21,
     "metadata": {},
     "output_type": "execute_result"
    }
   ],
   "source": [
    "Cohen_d(metro_means, non_metro_means)"
   ]
  },
  {
   "cell_type": "markdown",
   "metadata": {},
   "source": [
    "### Patient Deductible/Charges"
   ]
  },
  {
   "cell_type": "code",
   "execution_count": 194,
   "metadata": {},
   "outputs": [],
   "source": [
    "metro_deductible = create_metro_dataset('deductible')"
   ]
  },
  {
   "cell_type": "code",
   "execution_count": 195,
   "metadata": {},
   "outputs": [],
   "source": [
    "non_metro_deductible = create_non_metro_dataset('deductible')"
   ]
  },
  {
   "cell_type": "code",
   "execution_count": 209,
   "metadata": {},
   "outputs": [
    {
     "data": {
      "image/png": "[encoded data removed]",
      "text/plain": [
       "<Figure size 432x288 with 1 Axes>"
      ]
     },
     "metadata": {
      "needs_background": "light"
     },
     "output_type": "display_data"
    }
   ],
   "source": [
    "plot_distribution(metro_deductible, 'metro', non_metro_deductible,'non_metro')"
   ]
  },
  {
   "cell_type": "code",
   "execution_count": 224,
   "metadata": {},
   "outputs": [],
   "source": [
    "metro_deductible_means = get_sample_means(metro_deductible,100)\n"
   ]
  },
  {
   "cell_type": "code",
   "execution_count": 225,
   "metadata": {},
   "outputs": [],
   "source": [
    "non_metro_deductible_means =get_sample_means(non_metro_deductible,100)\n"
   ]
  },
  {
   "cell_type": "code",
   "execution_count": 27,
   "metadata": {},
   "outputs": [
    {
     "data": {
      "text/plain": [
       "Ttest_indResult(statistic=556.8236145487588, pvalue=0.0)"
      ]
     },
     "execution_count": 27,
     "metadata": {},
     "output_type": "execute_result"
    }
   ],
   "source": [
    "st.ttest_ind(metro_deductible_means, non_metro_deductible_means, equal_var=False)"
   ]
  },
  {
   "cell_type": "code",
   "execution_count": 210,
   "metadata": {},
   "outputs": [
    {
     "data": {
      "image/png": "[encoded data removed]",
      "text/plain": [
       "<Figure size 432x288 with 1 Axes>"
      ]
     },
     "metadata": {
      "needs_background": "light"
     },
     "output_type": "display_data"
    }
   ],
   "source": [
    "plot_distribution(metro_deductible_means, 'metro', non_metro_deductible_means,'non_metro')"
   ]
  },
  {
   "cell_type": "code",
   "execution_count": 29,
   "metadata": {},
   "outputs": [
    {
     "data": {
      "text/plain": [
       "2.49020335826425"
      ]
     },
     "execution_count": 29,
     "metadata": {},
     "output_type": "execute_result"
    }
   ],
   "source": [
    "Cohen_d(metro_deductible_means, non_metro_deductible_means)"
   ]
  },
  {
   "cell_type": "markdown",
   "metadata": {},
   "source": [
    "__% Charges Paid for Treatment__"
   ]
  },
  {
   "cell_type": "code",
   "execution_count": 196,
   "metadata": {},
   "outputs": [],
   "source": [
    "metro_perc_paid = create_metro_dataset('perc_paid')"
   ]
  },
  {
   "cell_type": "code",
   "execution_count": 197,
   "metadata": {},
   "outputs": [],
   "source": [
    "non_metro_perc_paid = create_non_metro_dataset('perc_paid')"
   ]
  },
  {
   "cell_type": "code",
   "execution_count": 211,
   "metadata": {
    "scrolled": true
   },
   "outputs": [
    {
     "data": {
      "image/png": "[encoded data removed]",
      "text/plain": [
       "<Figure size 432x288 with 1 Axes>"
      ]
     },
     "metadata": {
      "needs_background": "light"
     },
     "output_type": "display_data"
    }
   ],
   "source": [
    "plot_distribution(metro_perc_paid, 'metro', non_metro_perc_paid,'non_metro')"
   ]
  },
  {
   "cell_type": "code",
   "execution_count": 226,
   "metadata": {},
   "outputs": [],
   "source": [
    "metro_perc_paid_means = get_sample_means(metro_perc_paid,100)"
   ]
  },
  {
   "cell_type": "code",
   "execution_count": 227,
   "metadata": {},
   "outputs": [],
   "source": [
    "non_metro_perc_paid_means = get_sample_means(non_metro_perc_paid,100)"
   ]
  },
  {
   "cell_type": "code",
   "execution_count": 228,
   "metadata": {
    "scrolled": false
   },
   "outputs": [
    {
     "data": {
      "text/plain": [
       "Ttest_indResult(statistic=-1150.914205488702, pvalue=0.0)"
      ]
     },
     "execution_count": 228,
     "metadata": {},
     "output_type": "execute_result"
    }
   ],
   "source": [
    "st.ttest_ind(metro_perc_paid_means, non_metro_perc_paid_means, equal_var=False)"
   ]
  },
  {
   "cell_type": "code",
   "execution_count": 229,
   "metadata": {
    "scrolled": true
   },
   "outputs": [
    {
     "data": {
      "image/png": "[encoded data removed]",
      "text/plain": [
       "<Figure size 432x288 with 1 Axes>"
      ]
     },
     "metadata": {
      "needs_background": "light"
     },
     "output_type": "display_data"
    }
   ],
   "source": [
    "plot_distribution(metro_perc_paid_means, 'metro', non_metro_perc_paid_means,'non_metro')"
   ]
  },
  {
   "cell_type": "code",
   "execution_count": 38,
   "metadata": {},
   "outputs": [
    {
     "data": {
      "text/plain": [
       "-5.1672498924728325"
      ]
     },
     "execution_count": 38,
     "metadata": {},
     "output_type": "execute_result"
    }
   ],
   "source": [
    "Cohen_d(metro_perc_paid_means, non_metro_perc_paid_means)"
   ]
  },
  {
   "cell_type": "markdown",
   "metadata": {},
   "source": [
    "__Medicare coverage ratio vs Hospital's charge__"
   ]
  },
  {
   "cell_type": "code",
   "execution_count": null,
   "metadata": {},
   "outputs": [],
   "source": [
    "clean_data.head()"
   ]
  },
  {
   "cell_type": "code",
   "execution_count": 42,
   "metadata": {},
   "outputs": [],
   "source": [
    "metro_med_vs_hosp = create_metro_dataset('med_vs_hosp')"
   ]
  },
  {
   "cell_type": "code",
   "execution_count": 43,
   "metadata": {},
   "outputs": [],
   "source": [
    "non_metro_med_vs_hosp = create_non_metro_dataset('med_vs_hosp')"
   ]
  },
  {
   "cell_type": "code",
   "execution_count": 205,
   "metadata": {},
   "outputs": [
    {
     "data": {
      "image/png": "[encoded data removed]",
      "text/plain": [
       "<Figure size 432x288 with 1 Axes>"
      ]
     },
     "metadata": {
      "needs_background": "light"
     },
     "output_type": "display_data"
    }
   ],
   "source": [
    "plot_distribution(metro_med_vs_hosp, 'metro', non_metro_med_vs_hosp,'non_metro')\n"
   ]
  },
  {
   "cell_type": "code",
   "execution_count": null,
   "metadata": {},
   "outputs": [],
   "source": [
    "metro_med_vs_hosp_means = get_sample_means(metro_med_vs_hosp,100)"
   ]
  },
  {
   "cell_type": "code",
   "execution_count": 218,
   "metadata": {},
   "outputs": [],
   "source": [
    "non_metro_med_vs_hosp_means = get_sample_means(non_metro_med_vs_hosp,100)"
   ]
  },
  {
   "cell_type": "code",
   "execution_count": 219,
   "metadata": {
    "scrolled": false
   },
   "outputs": [
    {
     "data": {
      "text/plain": [
       "Ttest_indResult(statistic=-1064.543363723095, pvalue=0.0)"
      ]
     },
     "execution_count": 219,
     "metadata": {},
     "output_type": "execute_result"
    }
   ],
   "source": [
    "st.ttest_ind(metro_med_vs_hosp_means, non_metro_med_vs_hosp_means, equal_var=False)"
   ]
  },
  {
   "cell_type": "code",
   "execution_count": 214,
   "metadata": {
    "scrolled": true
   },
   "outputs": [
    {
     "data": {
      "image/png": "[encoded data removed]",
      "text/plain": [
       "<Figure size 432x288 with 1 Axes>"
      ]
     },
     "metadata": {
      "needs_background": "light"
     },
     "output_type": "display_data"
    }
   ],
   "source": [
    "plot_distribution(metro_med_vs_hosp_means, 'metro', non_metro_med_vs_hosp_means,'non_metro')"
   ]
  },
  {
   "cell_type": "code",
   "execution_count": 49,
   "metadata": {},
   "outputs": [
    {
     "data": {
      "text/plain": [
       "-4.750519050295624"
      ]
     },
     "execution_count": 49,
     "metadata": {},
     "output_type": "execute_result"
    }
   ],
   "source": [
    "Cohen_d(metro_med_vs_hosp_means, non_metro_med_vs_hosp_means)"
   ]
  },
  {
   "cell_type": "markdown",
   "metadata": {},
   "source": [
    "__By DRG__"
   ]
  },
  {
   "cell_type": "code",
   "execution_count": 237,
   "metadata": {},
   "outputs": [
    {
     "data": {
      "text/html": [
       "<div>\n",
       "<style scoped>\n",
       "    .dataframe tbody tr th:only-of-type {\n",
       "        vertical-align: middle;\n",
       "    }\n",
       "\n",
       "    .dataframe tbody tr th {\n",
       "        vertical-align: top;\n",
       "    }\n",
       "\n",
       "    .dataframe thead th {\n",
       "        text-align: right;\n",
       "    }\n",
       "</style>\n",
       "<table border=\"1\" class=\"dataframe\">\n",
       "  <thead>\n",
       "    <tr style=\"text-align: right;\">\n",
       "      <th></th>\n",
       "      <th>key_0</th>\n",
       "      <th>average_covered_charges</th>\n",
       "      <th>average_medicare_payments</th>\n",
       "      <th>average_medicare_payments_2</th>\n",
       "      <th>provider_id</th>\n",
       "      <th>provider_zip_code</th>\n",
       "      <th>total_discharges</th>\n",
       "      <th>deductible</th>\n",
       "      <th>perc_paid</th>\n",
       "      <th>med_vs_hosp</th>\n",
       "      <th>drg_code</th>\n",
       "    </tr>\n",
       "    <tr>\n",
       "      <th>Group</th>\n",
       "      <th></th>\n",
       "      <th></th>\n",
       "      <th></th>\n",
       "      <th></th>\n",
       "      <th></th>\n",
       "      <th></th>\n",
       "      <th></th>\n",
       "      <th></th>\n",
       "      <th></th>\n",
       "      <th></th>\n",
       "      <th></th>\n",
       "    </tr>\n",
       "  </thead>\n",
       "  <tbody>\n",
       "    <tr>\n",
       "      <th>MDC 18: INFECTIOUS &amp; PARASITIC DISEASES, SYSTEMIC OR UNSPECIFIED SITES</th>\n",
       "      <td>867.959906</td>\n",
       "      <td>71195.981216</td>\n",
       "      <td>20180.411748</td>\n",
       "      <td>18701.541450</td>\n",
       "      <td>253215.703485</td>\n",
       "      <td>49468.326651</td>\n",
       "      <td>64.676101</td>\n",
       "      <td>1478.870297</td>\n",
       "      <td>35.959030</td>\n",
       "      <td>32.710139</td>\n",
       "      <td>867.959906</td>\n",
       "    </tr>\n",
       "    <tr>\n",
       "      <th>MDC 08: DISEASES &amp; DISORDERS OF THE MUSCULOSKELETAL SYSTEM &amp; CONN TISSUE</th>\n",
       "      <td>494.835504</td>\n",
       "      <td>48304.841634</td>\n",
       "      <td>13153.108892</td>\n",
       "      <td>11425.468578</td>\n",
       "      <td>257280.036030</td>\n",
       "      <td>48623.628568</td>\n",
       "      <td>53.476014</td>\n",
       "      <td>1727.640314</td>\n",
       "      <td>32.219270</td>\n",
       "      <td>27.430475</td>\n",
       "      <td>494.835504</td>\n",
       "    </tr>\n",
       "    <tr>\n",
       "      <th>MDC 06: DISEASES &amp; DISORDERS OF THE DIGESTIVE SYSTEM</th>\n",
       "      <td>376.067685</td>\n",
       "      <td>38006.237997</td>\n",
       "      <td>10325.498774</td>\n",
       "      <td>9124.825890</td>\n",
       "      <td>253753.921627</td>\n",
       "      <td>47894.273117</td>\n",
       "      <td>38.428881</td>\n",
       "      <td>1200.672885</td>\n",
       "      <td>33.214695</td>\n",
       "      <td>28.289253</td>\n",
       "      <td>376.067685</td>\n",
       "    </tr>\n",
       "    <tr>\n",
       "      <th>MDC 04: DISEASES &amp; DISORDERS OF THE RESPIRATORY SYSTEM</th>\n",
       "      <td>191.891019</td>\n",
       "      <td>35063.120774</td>\n",
       "      <td>9530.200898</td>\n",
       "      <td>8399.636471</td>\n",
       "      <td>257583.525386</td>\n",
       "      <td>48083.624213</td>\n",
       "      <td>41.728891</td>\n",
       "      <td>1130.564427</td>\n",
       "      <td>34.731593</td>\n",
       "      <td>29.753610</td>\n",
       "      <td>191.891019</td>\n",
       "    </tr>\n",
       "    <tr>\n",
       "      <th>MDC 05: DISEASES &amp; DISORDERS OF THE CIRCULATORY SYSTEM</th>\n",
       "      <td>286.898554</td>\n",
       "      <td>36999.302110</td>\n",
       "      <td>9484.668749</td>\n",
       "      <td>8260.876160</td>\n",
       "      <td>255124.457727</td>\n",
       "      <td>47840.243629</td>\n",
       "      <td>42.386263</td>\n",
       "      <td>1223.792590</td>\n",
       "      <td>32.096786</td>\n",
       "      <td>27.243328</td>\n",
       "      <td>286.898554</td>\n",
       "    </tr>\n",
       "    <tr>\n",
       "      <th>MDC 07: DISEASES &amp; DISORDERS OF THE HEPATOBILIARY SYSTEM &amp; PANCREAS</th>\n",
       "      <td>425.513824</td>\n",
       "      <td>36827.837041</td>\n",
       "      <td>9001.224485</td>\n",
       "      <td>7502.867767</td>\n",
       "      <td>253124.391023</td>\n",
       "      <td>47371.055296</td>\n",
       "      <td>18.790664</td>\n",
       "      <td>1498.356718</td>\n",
       "      <td>30.338241</td>\n",
       "      <td>25.243950</td>\n",
       "      <td>425.513824</td>\n",
       "    </tr>\n",
       "    <tr>\n",
       "      <th>MDC 11: DISEASES &amp; DISORDERS OF THE KIDNEY &amp; URINARY TRACT</th>\n",
       "      <td>687.786527</td>\n",
       "      <td>27127.622094</td>\n",
       "      <td>7735.041442</td>\n",
       "      <td>6777.775206</td>\n",
       "      <td>257825.359500</td>\n",
       "      <td>48010.105607</td>\n",
       "      <td>47.610407</td>\n",
       "      <td>957.266236</td>\n",
       "      <td>35.625677</td>\n",
       "      <td>30.807221</td>\n",
       "      <td>687.786527</td>\n",
       "    </tr>\n",
       "    <tr>\n",
       "      <th>MDC 01: DISEASES &amp; DISORDERS OF THE NERVOUS SYSTEM</th>\n",
       "      <td>67.908193</td>\n",
       "      <td>28102.822730</td>\n",
       "      <td>7237.297644</td>\n",
       "      <td>6086.405372</td>\n",
       "      <td>253197.204734</td>\n",
       "      <td>46992.507491</td>\n",
       "      <td>34.928036</td>\n",
       "      <td>1150.892272</td>\n",
       "      <td>31.771843</td>\n",
       "      <td>26.376693</td>\n",
       "      <td>67.908193</td>\n",
       "    </tr>\n",
       "    <tr>\n",
       "      <th>MDC 19: MENTAL DISEASES &amp; DISORDERS</th>\n",
       "      <td>885.000000</td>\n",
       "      <td>19929.451387</td>\n",
       "      <td>6968.721876</td>\n",
       "      <td>5864.125644</td>\n",
       "      <td>249210.380098</td>\n",
       "      <td>46881.869494</td>\n",
       "      <td>146.383361</td>\n",
       "      <td>1104.596232</td>\n",
       "      <td>44.798483</td>\n",
       "      <td>37.939576</td>\n",
       "      <td>885.000000</td>\n",
       "    </tr>\n",
       "    <tr>\n",
       "      <th>MDC 09: DISEASES &amp; DISORDERS OF THE SKIN, SUBCUTANEOUS TISSUE &amp; BREAST</th>\n",
       "      <td>602.748134</td>\n",
       "      <td>23742.640314</td>\n",
       "      <td>6964.227481</td>\n",
       "      <td>5847.948745</td>\n",
       "      <td>256832.951226</td>\n",
       "      <td>48838.919243</td>\n",
       "      <td>42.272921</td>\n",
       "      <td>1116.278737</td>\n",
       "      <td>37.220792</td>\n",
       "      <td>30.806580</td>\n",
       "      <td>602.748134</td>\n",
       "    </tr>\n",
       "    <tr>\n",
       "      <th>MDC 21: INJURIES, POISONINGS &amp; TOXIC EFFECTS OF DRUGS</th>\n",
       "      <td>917.621124</td>\n",
       "      <td>25931.000616</td>\n",
       "      <td>6864.129870</td>\n",
       "      <td>5817.454108</td>\n",
       "      <td>252673.960449</td>\n",
       "      <td>47775.360449</td>\n",
       "      <td>20.753708</td>\n",
       "      <td>1046.675762</td>\n",
       "      <td>33.407281</td>\n",
       "      <td>27.636719</td>\n",
       "      <td>917.621124</td>\n",
       "    </tr>\n",
       "    <tr>\n",
       "      <th>MDC 16: DISEASES &amp; DISORDERS OF BLOOD, BLOOD FORMING ORGANS, IMMUNOLOG DISORD</th>\n",
       "      <td>811.671586</td>\n",
       "      <td>24503.792815</td>\n",
       "      <td>6775.485961</td>\n",
       "      <td>5825.109803</td>\n",
       "      <td>255446.093461</td>\n",
       "      <td>47228.196470</td>\n",
       "      <td>33.853877</td>\n",
       "      <td>950.376157</td>\n",
       "      <td>34.513802</td>\n",
       "      <td>29.396209</td>\n",
       "      <td>811.671586</td>\n",
       "    </tr>\n",
       "    <tr>\n",
       "      <th>MDC 10: ENDOCRINE, NUTRITIONAL &amp; METABOLIC DISEASES &amp; DISORDERS</th>\n",
       "      <td>639.885489</td>\n",
       "      <td>21297.768122</td>\n",
       "      <td>5999.768529</td>\n",
       "      <td>5065.389436</td>\n",
       "      <td>256553.042034</td>\n",
       "      <td>48620.516767</td>\n",
       "      <td>39.947612</td>\n",
       "      <td>934.379093</td>\n",
       "      <td>35.289788</td>\n",
       "      <td>29.502944</td>\n",
       "      <td>639.885489</td>\n",
       "    </tr>\n",
       "    <tr>\n",
       "      <th>MDC 20: ALCOHOL/DRUG USE &amp; ALCOHOL/DRUG INDUCED ORGANIC MENTAL DISORDERS</th>\n",
       "      <td>897.000000</td>\n",
       "      <td>17589.094448</td>\n",
       "      <td>4949.907307</td>\n",
       "      <td>3999.917704</td>\n",
       "      <td>254257.245033</td>\n",
       "      <td>43531.662252</td>\n",
       "      <td>35.248344</td>\n",
       "      <td>949.989603</td>\n",
       "      <td>37.399592</td>\n",
       "      <td>30.410629</td>\n",
       "      <td>897.000000</td>\n",
       "    </tr>\n",
       "    <tr>\n",
       "      <th>MDC 23: FACTORS INFLUENCING HLTH STAT &amp; OTHR CONTACTS WITH HLTH SERVCS</th>\n",
       "      <td>948.000000</td>\n",
       "      <td>18412.361484</td>\n",
       "      <td>4824.766436</td>\n",
       "      <td>3911.244997</td>\n",
       "      <td>256746.796431</td>\n",
       "      <td>46888.866704</td>\n",
       "      <td>28.115449</td>\n",
       "      <td>913.521439</td>\n",
       "      <td>32.236007</td>\n",
       "      <td>26.292370</td>\n",
       "      <td>948.000000</td>\n",
       "    </tr>\n",
       "    <tr>\n",
       "      <th>MDC 03: DISEASES &amp; DISORDERS OF THE EAR, NOSE, MOUTH &amp; THROAT</th>\n",
       "      <td>149.000000</td>\n",
       "      <td>18870.966569</td>\n",
       "      <td>4589.104342</td>\n",
       "      <td>3440.677065</td>\n",
       "      <td>251907.584008</td>\n",
       "      <td>41065.384615</td>\n",
       "      <td>23.711538</td>\n",
       "      <td>1148.427277</td>\n",
       "      <td>30.840385</td>\n",
       "      <td>23.335020</td>\n",
       "      <td>149.000000</td>\n",
       "    </tr>\n",
       "  </tbody>\n",
       "</table>\n",
       "</div>"
      ],
      "text/plain": [
       "                                                         key_0  \\\n",
       "Group                                                            \n",
       "MDC 18: INFECTIOUS & PARASITIC DISEASES, SYSTEM...  867.959906   \n",
       "MDC 08: DISEASES & DISORDERS OF THE MUSCULOSKEL...  494.835504   \n",
       "MDC 06: DISEASES & DISORDERS OF THE DIGESTIVE S...  376.067685   \n",
       "MDC 04: DISEASES & DISORDERS OF THE RESPIRATORY...  191.891019   \n",
       "MDC 05: DISEASES & DISORDERS OF THE CIRCULATORY...  286.898554   \n",
       "MDC 07: DISEASES & DISORDERS OF THE HEPATOBILIA...  425.513824   \n",
       "MDC 11: DISEASES & DISORDERS OF THE KIDNEY & UR...  687.786527   \n",
       "MDC 01: DISEASES & DISORDERS OF THE NERVOUS SYSTEM   67.908193   \n",
       "MDC 19: MENTAL DISEASES & DISORDERS                 885.000000   \n",
       "MDC 09: DISEASES & DISORDERS OF THE SKIN, SUBCU...  602.748134   \n",
       "MDC 21: INJURIES, POISONINGS & TOXIC EFFECTS OF...  917.621124   \n",
       "MDC 16: DISEASES & DISORDERS OF BLOOD, BLOOD FO...  811.671586   \n",
       "MDC 10: ENDOCRINE, NUTRITIONAL & METABOLIC DISE...  639.885489   \n",
       "MDC 20: ALCOHOL/DRUG USE & ALCOHOL/DRUG INDUCED...  897.000000   \n",
       "MDC 23: FACTORS INFLUENCING HLTH STAT & OTHR CO...  948.000000   \n",
       "MDC 03: DISEASES & DISORDERS OF THE EAR, NOSE, ...  149.000000   \n",
       "\n",
       "                                                    average_covered_charges  \\\n",
       "Group                                                                         \n",
       "MDC 18: INFECTIOUS & PARASITIC DISEASES, SYSTEM...             71195.981216   \n",
       "MDC 08: DISEASES & DISORDERS OF THE MUSCULOSKEL...             48304.841634   \n",
       "MDC 06: DISEASES & DISORDERS OF THE DIGESTIVE S...             38006.237997   \n",
       "MDC 04: DISEASES & DISORDERS OF THE RESPIRATORY...             35063.120774   \n",
       "MDC 05: DISEASES & DISORDERS OF THE CIRCULATORY...             36999.302110   \n",
       "MDC 07: DISEASES & DISORDERS OF THE HEPATOBILIA...             36827.837041   \n",
       "MDC 11: DISEASES & DISORDERS OF THE KIDNEY & UR...             27127.622094   \n",
       "MDC 01: DISEASES & DISORDERS OF THE NERVOUS SYSTEM             28102.822730   \n",
       "MDC 19: MENTAL DISEASES & DISORDERS                            19929.451387   \n",
       "MDC 09: DISEASES & DISORDERS OF THE SKIN, SUBCU...             23742.640314   \n",
       "MDC 21: INJURIES, POISONINGS & TOXIC EFFECTS OF...             25931.000616   \n",
       "MDC 16: DISEASES & DISORDERS OF BLOOD, BLOOD FO...             24503.792815   \n",
       "MDC 10: ENDOCRINE, NUTRITIONAL & METABOLIC DISE...             21297.768122   \n",
       "MDC 20: ALCOHOL/DRUG USE & ALCOHOL/DRUG INDUCED...             17589.094448   \n",
       "MDC 23: FACTORS INFLUENCING HLTH STAT & OTHR CO...             18412.361484   \n",
       "MDC 03: DISEASES & DISORDERS OF THE EAR, NOSE, ...             18870.966569   \n",
       "\n",
       "                                                    average_medicare_payments  \\\n",
       "Group                                                                           \n",
       "MDC 18: INFECTIOUS & PARASITIC DISEASES, SYSTEM...               20180.411748   \n",
       "MDC 08: DISEASES & DISORDERS OF THE MUSCULOSKEL...               13153.108892   \n",
       "MDC 06: DISEASES & DISORDERS OF THE DIGESTIVE S...               10325.498774   \n",
       "MDC 04: DISEASES & DISORDERS OF THE RESPIRATORY...                9530.200898   \n",
       "MDC 05: DISEASES & DISORDERS OF THE CIRCULATORY...                9484.668749   \n",
       "MDC 07: DISEASES & DISORDERS OF THE HEPATOBILIA...                9001.224485   \n",
       "MDC 11: DISEASES & DISORDERS OF THE KIDNEY & UR...                7735.041442   \n",
       "MDC 01: DISEASES & DISORDERS OF THE NERVOUS SYSTEM                7237.297644   \n",
       "MDC 19: MENTAL DISEASES & DISORDERS                               6968.721876   \n",
       "MDC 09: DISEASES & DISORDERS OF THE SKIN, SUBCU...                6964.227481   \n",
       "MDC 21: INJURIES, POISONINGS & TOXIC EFFECTS OF...                6864.129870   \n",
       "MDC 16: DISEASES & DISORDERS OF BLOOD, BLOOD FO...                6775.485961   \n",
       "MDC 10: ENDOCRINE, NUTRITIONAL & METABOLIC DISE...                5999.768529   \n",
       "MDC 20: ALCOHOL/DRUG USE & ALCOHOL/DRUG INDUCED...                4949.907307   \n",
       "MDC 23: FACTORS INFLUENCING HLTH STAT & OTHR CO...                4824.766436   \n",
       "MDC 03: DISEASES & DISORDERS OF THE EAR, NOSE, ...                4589.104342   \n",
       "\n",
       "                                                    average_medicare_payments_2  \\\n",
       "Group                                                                             \n",
       "MDC 18: INFECTIOUS & PARASITIC DISEASES, SYSTEM...                 18701.541450   \n",
       "MDC 08: DISEASES & DISORDERS OF THE MUSCULOSKEL...                 11425.468578   \n",
       "MDC 06: DISEASES & DISORDERS OF THE DIGESTIVE S...                  9124.825890   \n",
       "MDC 04: DISEASES & DISORDERS OF THE RESPIRATORY...                  8399.636471   \n",
       "MDC 05: DISEASES & DISORDERS OF THE CIRCULATORY...                  8260.876160   \n",
       "MDC 07: DISEASES & DISORDERS OF THE HEPATOBILIA...                  7502.867767   \n",
       "MDC 11: DISEASES & DISORDERS OF THE KIDNEY & UR...                  6777.775206   \n",
       "MDC 01: DISEASES & DISORDERS OF THE NERVOUS SYSTEM                  6086.405372   \n",
       "MDC 19: MENTAL DISEASES & DISORDERS                                 5864.125644   \n",
       "MDC 09: DISEASES & DISORDERS OF THE SKIN, SUBCU...                  5847.948745   \n",
       "MDC 21: INJURIES, POISONINGS & TOXIC EFFECTS OF...                  5817.454108   \n",
       "MDC 16: DISEASES & DISORDERS OF BLOOD, BLOOD FO...                  5825.109803   \n",
       "MDC 10: ENDOCRINE, NUTRITIONAL & METABOLIC DISE...                  5065.389436   \n",
       "MDC 20: ALCOHOL/DRUG USE & ALCOHOL/DRUG INDUCED...                  3999.917704   \n",
       "MDC 23: FACTORS INFLUENCING HLTH STAT & OTHR CO...                  3911.244997   \n",
       "MDC 03: DISEASES & DISORDERS OF THE EAR, NOSE, ...                  3440.677065   \n",
       "\n",
       "                                                      provider_id  \\\n",
       "Group                                                               \n",
       "MDC 18: INFECTIOUS & PARASITIC DISEASES, SYSTEM...  253215.703485   \n",
       "MDC 08: DISEASES & DISORDERS OF THE MUSCULOSKEL...  257280.036030   \n",
       "MDC 06: DISEASES & DISORDERS OF THE DIGESTIVE S...  253753.921627   \n",
       "MDC 04: DISEASES & DISORDERS OF THE RESPIRATORY...  257583.525386   \n",
       "MDC 05: DISEASES & DISORDERS OF THE CIRCULATORY...  255124.457727   \n",
       "MDC 07: DISEASES & DISORDERS OF THE HEPATOBILIA...  253124.391023   \n",
       "MDC 11: DISEASES & DISORDERS OF THE KIDNEY & UR...  257825.359500   \n",
       "MDC 01: DISEASES & DISORDERS OF THE NERVOUS SYSTEM  253197.204734   \n",
       "MDC 19: MENTAL DISEASES & DISORDERS                 249210.380098   \n",
       "MDC 09: DISEASES & DISORDERS OF THE SKIN, SUBCU...  256832.951226   \n",
       "MDC 21: INJURIES, POISONINGS & TOXIC EFFECTS OF...  252673.960449   \n",
       "MDC 16: DISEASES & DISORDERS OF BLOOD, BLOOD FO...  255446.093461   \n",
       "MDC 10: ENDOCRINE, NUTRITIONAL & METABOLIC DISE...  256553.042034   \n",
       "MDC 20: ALCOHOL/DRUG USE & ALCOHOL/DRUG INDUCED...  254257.245033   \n",
       "MDC 23: FACTORS INFLUENCING HLTH STAT & OTHR CO...  256746.796431   \n",
       "MDC 03: DISEASES & DISORDERS OF THE EAR, NOSE, ...  251907.584008   \n",
       "\n",
       "                                                    provider_zip_code  \\\n",
       "Group                                                                   \n",
       "MDC 18: INFECTIOUS & PARASITIC DISEASES, SYSTEM...       49468.326651   \n",
       "MDC 08: DISEASES & DISORDERS OF THE MUSCULOSKEL...       48623.628568   \n",
       "MDC 06: DISEASES & DISORDERS OF THE DIGESTIVE S...       47894.273117   \n",
       "MDC 04: DISEASES & DISORDERS OF THE RESPIRATORY...       48083.624213   \n",
       "MDC 05: DISEASES & DISORDERS OF THE CIRCULATORY...       47840.243629   \n",
       "MDC 07: DISEASES & DISORDERS OF THE HEPATOBILIA...       47371.055296   \n",
       "MDC 11: DISEASES & DISORDERS OF THE KIDNEY & UR...       48010.105607   \n",
       "MDC 01: DISEASES & DISORDERS OF THE NERVOUS SYSTEM       46992.507491   \n",
       "MDC 19: MENTAL DISEASES & DISORDERS                      46881.869494   \n",
       "MDC 09: DISEASES & DISORDERS OF THE SKIN, SUBCU...       48838.919243   \n",
       "MDC 21: INJURIES, POISONINGS & TOXIC EFFECTS OF...       47775.360449   \n",
       "MDC 16: DISEASES & DISORDERS OF BLOOD, BLOOD FO...       47228.196470   \n",
       "MDC 10: ENDOCRINE, NUTRITIONAL & METABOLIC DISE...       48620.516767   \n",
       "MDC 20: ALCOHOL/DRUG USE & ALCOHOL/DRUG INDUCED...       43531.662252   \n",
       "MDC 23: FACTORS INFLUENCING HLTH STAT & OTHR CO...       46888.866704   \n",
       "MDC 03: DISEASES & DISORDERS OF THE EAR, NOSE, ...       41065.384615   \n",
       "\n",
       "                                                    total_discharges  \\\n",
       "Group                                                                  \n",
       "MDC 18: INFECTIOUS & PARASITIC DISEASES, SYSTEM...         64.676101   \n",
       "MDC 08: DISEASES & DISORDERS OF THE MUSCULOSKEL...         53.476014   \n",
       "MDC 06: DISEASES & DISORDERS OF THE DIGESTIVE S...         38.428881   \n",
       "MDC 04: DISEASES & DISORDERS OF THE RESPIRATORY...         41.728891   \n",
       "MDC 05: DISEASES & DISORDERS OF THE CIRCULATORY...         42.386263   \n",
       "MDC 07: DISEASES & DISORDERS OF THE HEPATOBILIA...         18.790664   \n",
       "MDC 11: DISEASES & DISORDERS OF THE KIDNEY & UR...         47.610407   \n",
       "MDC 01: DISEASES & DISORDERS OF THE NERVOUS SYSTEM         34.928036   \n",
       "MDC 19: MENTAL DISEASES & DISORDERS                       146.383361   \n",
       "MDC 09: DISEASES & DISORDERS OF THE SKIN, SUBCU...         42.272921   \n",
       "MDC 21: INJURIES, POISONINGS & TOXIC EFFECTS OF...         20.753708   \n",
       "MDC 16: DISEASES & DISORDERS OF BLOOD, BLOOD FO...         33.853877   \n",
       "MDC 10: ENDOCRINE, NUTRITIONAL & METABOLIC DISE...         39.947612   \n",
       "MDC 20: ALCOHOL/DRUG USE & ALCOHOL/DRUG INDUCED...         35.248344   \n",
       "MDC 23: FACTORS INFLUENCING HLTH STAT & OTHR CO...         28.115449   \n",
       "MDC 03: DISEASES & DISORDERS OF THE EAR, NOSE, ...         23.711538   \n",
       "\n",
       "                                                     deductible  perc_paid  \\\n",
       "Group                                                                        \n",
       "MDC 18: INFECTIOUS & PARASITIC DISEASES, SYSTEM...  1478.870297  35.959030   \n",
       "MDC 08: DISEASES & DISORDERS OF THE MUSCULOSKEL...  1727.640314  32.219270   \n",
       "MDC 06: DISEASES & DISORDERS OF THE DIGESTIVE S...  1200.672885  33.214695   \n",
       "MDC 04: DISEASES & DISORDERS OF THE RESPIRATORY...  1130.564427  34.731593   \n",
       "MDC 05: DISEASES & DISORDERS OF THE CIRCULATORY...  1223.792590  32.096786   \n",
       "MDC 07: DISEASES & DISORDERS OF THE HEPATOBILIA...  1498.356718  30.338241   \n",
       "MDC 11: DISEASES & DISORDERS OF THE KIDNEY & UR...   957.266236  35.625677   \n",
       "MDC 01: DISEASES & DISORDERS OF THE NERVOUS SYSTEM  1150.892272  31.771843   \n",
       "MDC 19: MENTAL DISEASES & DISORDERS                 1104.596232  44.798483   \n",
       "MDC 09: DISEASES & DISORDERS OF THE SKIN, SUBCU...  1116.278737  37.220792   \n",
       "MDC 21: INJURIES, POISONINGS & TOXIC EFFECTS OF...  1046.675762  33.407281   \n",
       "MDC 16: DISEASES & DISORDERS OF BLOOD, BLOOD FO...   950.376157  34.513802   \n",
       "MDC 10: ENDOCRINE, NUTRITIONAL & METABOLIC DISE...   934.379093  35.289788   \n",
       "MDC 20: ALCOHOL/DRUG USE & ALCOHOL/DRUG INDUCED...   949.989603  37.399592   \n",
       "MDC 23: FACTORS INFLUENCING HLTH STAT & OTHR CO...   913.521439  32.236007   \n",
       "MDC 03: DISEASES & DISORDERS OF THE EAR, NOSE, ...  1148.427277  30.840385   \n",
       "\n",
       "                                                    med_vs_hosp    drg_code  \n",
       "Group                                                                        \n",
       "MDC 18: INFECTIOUS & PARASITIC DISEASES, SYSTEM...    32.710139  867.959906  \n",
       "MDC 08: DISEASES & DISORDERS OF THE MUSCULOSKEL...    27.430475  494.835504  \n",
       "MDC 06: DISEASES & DISORDERS OF THE DIGESTIVE S...    28.289253  376.067685  \n",
       "MDC 04: DISEASES & DISORDERS OF THE RESPIRATORY...    29.753610  191.891019  \n",
       "MDC 05: DISEASES & DISORDERS OF THE CIRCULATORY...    27.243328  286.898554  \n",
       "MDC 07: DISEASES & DISORDERS OF THE HEPATOBILIA...    25.243950  425.513824  \n",
       "MDC 11: DISEASES & DISORDERS OF THE KIDNEY & UR...    30.807221  687.786527  \n",
       "MDC 01: DISEASES & DISORDERS OF THE NERVOUS SYSTEM    26.376693   67.908193  \n",
       "MDC 19: MENTAL DISEASES & DISORDERS                   37.939576  885.000000  \n",
       "MDC 09: DISEASES & DISORDERS OF THE SKIN, SUBCU...    30.806580  602.748134  \n",
       "MDC 21: INJURIES, POISONINGS & TOXIC EFFECTS OF...    27.636719  917.621124  \n",
       "MDC 16: DISEASES & DISORDERS OF BLOOD, BLOOD FO...    29.396209  811.671586  \n",
       "MDC 10: ENDOCRINE, NUTRITIONAL & METABOLIC DISE...    29.502944  639.885489  \n",
       "MDC 20: ALCOHOL/DRUG USE & ALCOHOL/DRUG INDUCED...    30.410629  897.000000  \n",
       "MDC 23: FACTORS INFLUENCING HLTH STAT & OTHR CO...    26.292370  948.000000  \n",
       "MDC 03: DISEASES & DISORDERS OF THE EAR, NOSE, ...    23.335020  149.000000  "
      ]
     },
     "execution_count": 237,
     "metadata": {},
     "output_type": "execute_result"
    }
   ],
   "source": [
    "clean_data.groupby('Group').mean().sort_values('average_medicare_payments', ascending = False)"
   ]
  },
  {
   "cell_type": "code",
   "execution_count": null,
   "metadata": {},
   "outputs": [],
   "source": []
  }
 ],
 "metadata": {
  "kernelspec": {
   "display_name": "Python 3",
   "language": "python",
   "name": "python3"
  },
  "language_info": {
   "codemirror_mode": {
    "name": "ipython",
    "version": 3
   },
   "file_extension": ".py",
   "mimetype": "text/x-python",
   "name": "python",
   "nbconvert_exporter": "python",
   "pygments_lexer": "ipython3",
   "version": "3.7.3"
  },
  "toc": {
   "base_numbering": 1,
   "nav_menu": {},
   "number_sections": true,
   "sideBar": true,
   "skip_h1_title": false,
   "title_cell": "Table of Contents",
   "title_sidebar": "Contents",
   "toc_cell": false,
   "toc_position": {},
   "toc_section_display": true,
   "toc_window_display": false
  }
 },
 "nbformat": 4,
 "nbformat_minor": 2
}
