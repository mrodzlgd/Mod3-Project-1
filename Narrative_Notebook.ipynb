{
 "cells": [
  {
   "cell_type": "markdown",
   "metadata": {},
   "source": [
    "# Locale Effect on Healthcare Costs\n",
    "\n",
    "### Peter Haferl and Melissa Rodriguez "
   ]
  },
  {
   "cell_type": "markdown",
   "metadata": {},
   "source": [
    "## Summary\n",
    "\n",
    "The purpose of this analysis is to understand the effect of hospital location in the costs of medical expenses. This analysis is important to help understand the challenges patients are facing to be able to get afford medical care. \n",
    "\n",
    "We will be evaluating hospital charges data for Medicare covered services and analyze the diferences between hospitals in Metropolitan Areas vs those in Non-Metropolitan areas.\n",
    "\n",
    "\n",
    "\n"
   ]
  },
  {
   "cell_type": "markdown",
   "metadata": {},
   "source": [
    "## Key Questions\n",
    "\n",
    "\n",
    "__Metropolitan vs. Non-Metropolitan:__\n",
    "\n",
    " 1. Is there a difference for hospital charges for the same procedures depending on location? \n",
    " 2. Is Medicare coverage affected by hospital location?\n",
    " 3. Are patients in Metro areas paying more than those in non-Metro areas?\n",
    " 4. What diagnosis categories have the largest location effect?\n",
    "\n"
   ]
  },
  {
   "cell_type": "markdown",
   "metadata": {},
   "source": [
    "## Datasets\n",
    "\n",
    "\n",
    "Information on utilization, payment (total payment and Medicare payment), and hospital-specific charges for the more than 3,000 U.S. hospitals that receive Medicare Inpatient Prospective Payment System (IPPS) payments. \n",
    "* [Inpatient Prospective Payment System (IPPS) Provider Summary for All Diagnosis-Related Groups (DRG) - FY2016](https://data.cms.gov/Medicare-Inpatient/Inpatient-Prospective-Payment-System-IPPS-Provider/fm2n-hjj6):  \n",
    "\n",
    "Used to get location categories for Metropolitan and Non-Metropolitan areas:\n",
    "* Census data from 2010 \n",
    "* Census block geoid – Geo Locator API\n",
    "* Google Maps API"
   ]
  },
  {
   "cell_type": "markdown",
   "metadata": {},
   "source": [
    "## Exploratory Data Analysis"
   ]
  },
  {
   "attachments": {},
   "cell_type": "markdown",
   "metadata": {},
   "source": [
    "### Average Hospital Charges \n",
    "\n",
    "* Based on the p value of 0.0 and our aplha of 0.05 we reject  the null hypothesis.\n",
    "* Due to these results, we  can state that there is a difference in charges between Hospitals in Metro and Non-Metro Areas\n",
    "with an effect size, cohen's d, of 0.4389810421260751 and power of 1.0.\n",
    "\n",
    "![image.png](./images/Average_Hospital_Charges.png)\n",
    "\n",
    "__Insights:__\n",
    "\n",
    "* Hospital charges more for Medicare covered services in Metropolitan locations\n",
    "\n",
    "* Charges for Medicare services vary more in Metropolitan locations\n"
   ]
  },
  {
   "attachments": {},
   "cell_type": "markdown",
   "metadata": {},
   "source": [
    "### % Charges Paid for Treatment\n",
    "* Based on the p value of 0.0 and our aplha of 0.05 we reject  the null hypothesis.\n",
    "* Due to these results, we  can state that there is a difference in the percentage in the amount of total payments received by Hospitals in Metro vs. Non-Metro Areas for provided services. with an effect size, cohen's d, of -0.4110139499849584 and power of 1.0.\n",
    "\n",
    "\n",
    "![image.png](./images/Charges_Paid_for_Treatment.png)\n",
    "\n",
    "__Insights:__\n",
    "\n",
    "* Medicare pays a higher percentage of the hospital charge in non-Metro areas vs. Metro areas\n"
   ]
  },
  {
   "attachments": {},
   "cell_type": "markdown",
   "metadata": {},
   "source": [
    "### Out of Pocket Costs\n",
    "* Based on the p value of 0.0 and our aplha of 0.05 we reject  the null hypothesis.\n",
    "* Due to these results, we  can state that there is a difference in out-of-pocket cost for patients using Hospitals in Metro vs. Non-Metro Areas with an effect size, cohen's d, of 0.30636307860576273 and power of 1.0.\n",
    "\n",
    "\n",
    "![image.png](./images/Out_of_Pocket.png)\n",
    "\n",
    "__Insights:__\n",
    "* Patients who receive Medicare Services in Metropolitan areas pay more out-of-pocket than those in Non-Metropolitan areas\n"
   ]
  },
  {
   "cell_type": "markdown",
   "metadata": {},
   "source": [
    "### Locale effect per Diagnosis Type\n"
   ]
  },
  {
   "attachments": {},
   "cell_type": "markdown",
   "metadata": {},
   "source": [
    "![image.png](./images/Effect_per_Diagnosis.png)\n",
    "\n",
    "![image.png](./images/Diagnosis_Groups.png)\n",
    "\n",
    "__Insights:__\n",
    "\n",
    "* Treatments for __alcohol/drug abuse and mental illness__ have the highest cost locale effect\n",
    "* It is significantly more expensive to get treated for these diagnosis in Metropolitan areas.\n"
   ]
  },
  {
   "cell_type": "markdown",
   "metadata": {},
   "source": [
    "## Recommendations\n",
    "\n",
    "\n",
    "* Consider policy decisions to lower regional boundaries for alcohol/drug abuse and mental illness in urban areas (particularly regarding homelessness issues)\n",
    "\n",
    "* Consider legislation to standardize medical costs, especially within metropolitan areas\n",
    "\n",
    "\n",
    "\n",
    "## Next Steps:\n",
    "\n",
    "* Investigate causation\n",
    "\n",
    "* Expand scope into diagnosis-specific location effects\n",
    "\n",
    "* Further categorize hospitals by different criteria (e.g. Teaching vs. Private, local economy, etc.)\n",
    "\n",
    "* Look into variation of medical costs within individual socioeconomic metropolitan areas\n",
    "\n"
   ]
  }
 ],
 "metadata": {
  "kernelspec": {
   "display_name": "Python 3",
   "language": "python",
   "name": "python3"
  },
  "language_info": {
   "codemirror_mode": {
    "name": "ipython",
    "version": 3
   },
   "file_extension": ".py",
   "mimetype": "text/x-python",
   "name": "python",
   "nbconvert_exporter": "python",
   "pygments_lexer": "ipython3",
   "version": "3.7.3"
  }
 },
 "nbformat": 4,
 "nbformat_minor": 2
}
