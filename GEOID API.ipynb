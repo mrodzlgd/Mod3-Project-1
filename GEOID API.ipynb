{
 "cells": [
  {
   "cell_type": "code",
   "execution_count": null,
   "metadata": {},
   "outputs": [],
   "source": [
    "def get_lat_lng(address):\n",
    "    format_address = address.replace(' ', '+')\n",
    "    response = requests.get(f'https://maps.googleapis.com/maps/api/geocode/json?address={format_address}&key={API KEY}')\n",
    "    if response.status_code!=200:\n",
    "        return address\n",
    "    else:\n",
    "        try:\n",
    "            lat = response.json()['results'][0]['geometry']['viewport']['northeast']['lat']\n",
    "            lng = response.json()['results'][0]['geometry']['viewport']['northeast']['lng']\n",
    "            return lat,lng\n",
    "        except: \n",
    "            return address"
   ]
  },
  {
   "cell_type": "code",
   "execution_count": null,
   "metadata": {},
   "outputs": [],
   "source": [
    "def get_geoid(lat, lng):\n",
    "    vintage = 'Census2010_Census2010'\n",
    "    benchmark = 'Public_AR_Census2010'\n",
    "    format_ = 'json'\n",
    "\n",
    "    fields = {'x': lng, \n",
    "              'y': lat,\n",
    "              'vintage': vintage,\n",
    "              'benchmark': benchmark,\n",
    "              'format': format_,\n",
    "              'layers': 'Census Tract'}\n",
    "\n",
    "    url = 'https://geocoding.geo.census.gov/geocoder/geographies/coordinates'\n",
    "\n",
    "    response = requests.get(url, params=fields, timeout=5)\n",
    "    assert response.status_code==200, 'GEOLOCATOR API ISSUE'\n",
    "    try:\n",
    "        geoid = response.json()['result']['geographies']['Census Blocks'][0]['GEOID']\n",
    "    except:\n",
    "        geoid = lat,lng\n",
    "    return geoid"
   ]
  },
  {
   "cell_type": "code",
   "execution_count": null,
   "metadata": {},
   "outputs": [],
   "source": [
    "tract_geoids = []\n",
    "counter = 0\n",
    "unique_addresses = list(hosp_cost_data.full_address.unique())\n",
    "\n",
    "for address in unique_addresses[]:\n",
    "    try:\n",
    "        lat,lng = get_lat_lng(address)\n",
    "        geoid = get_geoid(lat,lng)\n",
    "        tract_geoids.append(geoid)\n",
    "    except:\n",
    "        geoid = get_lat_lng(address)\n",
    "        tract_geoids.append(geoid)\n",
    "    print(f'{counter} {geoid}')\n",
    "    counter += 1\n",
    "    "
   ]
  }
 ],
 "metadata": {
  "kernelspec": {
   "display_name": "Python 3",
   "language": "python",
   "name": "python3"
  },
  "language_info": {
   "codemirror_mode": {
    "name": "ipython",
    "version": 3
   },
   "file_extension": ".py",
   "mimetype": "text/x-python",
   "name": "python",
   "nbconvert_exporter": "python",
   "pygments_lexer": "ipython3",
   "version": "3.7.3"
  },
  "toc": {
   "base_numbering": 1,
   "nav_menu": {},
   "number_sections": true,
   "sideBar": true,
   "skip_h1_title": false,
   "title_cell": "Table of Contents",
   "title_sidebar": "Contents",
   "toc_cell": false,
   "toc_position": {},
   "toc_section_display": true,
   "toc_window_display": false
  }
 },
 "nbformat": 4,
 "nbformat_minor": 2
}
