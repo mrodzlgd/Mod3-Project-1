{
 "cells": [
  {
   "cell_type": "code",
   "execution_count": null,
   "metadata": {},
   "outputs": [],
   "source": [
    "import pandas as pd\n",
    "\n",
    "def import_data():\n",
    "    dirty_data = pd.read_csv('./data/dirty_data', dtype=str)\n",
    "    return dirty_data\n",
    "\n",
    "def drop_columns(dirty_data):\n",
    "    dirty_data.drop(columns=['provider_zip_code', 'provider_street_address',\n",
    "                             'provider_state', 'provider_id', 'provider_city',\n",
    "                             'hospital_referral_region_hrr_description', 'Unnamed: 0'], inplace=True)\n",
    "    return dirty_data\n",
    "\n",
    "def change_data_type(dirty_data):\n",
    "    dirty_data['average_covered_charges'] = dirty_data['average_covered_charges'].astype(\n",
    "        float)\n",
    "    dirty_data['average_medicare_payments'] = dirty_data['average_medicare_payments'].astype(\n",
    "        float)\n",
    "    dirty_data['average_total_payments'] = dirty_data['average_total_payments'].astype(\n",
    "        float)\n",
    "    dirty_data['total_discharges'] = dirty_data['average_total_payments'].astype(\n",
    "        int)\n",
    "    return dirty_data\n",
    "\n",
    "def add_columns(dirty_data):\n",
    "    dirty_data['out_of_pocket'] = dirty_data.average_total_payments - \\\n",
    "        dirty_data.average_medicare_payments\n",
    "    dirty_data['perc_covered'] = dirty_data.average_medicare_payments / \\\n",
    "        dirty_data.average_covered_charges\n",
    "    return dirty_data\n",
    "\n",
    "def clean_column_names(dirty_data):\n",
    "    dirty_data.columns = dirty_data.columns.map(lambda x: x.lower())\n",
    "    return dirty_data\n",
    "\n",
    "def cleaned_data():\n",
    "    dirty_data = import_data()\n",
    "    dirty_data = drop_columns(dirty_data)\n",
    "    dirty_data = change_data_type(dirty_data)\n",
    "    dirty_data = add_columns(dirty_data)\n",
    "    clean_data = clean_column_names(dirty_data)\n",
    "    return clean_data\n",
    "\n",
    "cleaned_data()"
   ]
  },
  {
   "cell_type": "markdown",
   "metadata": {},
   "source": [
    "#### Add Columns : Deductibile, %Paid"
   ]
  },
  {
   "cell_type": "markdown",
   "metadata": {},
   "source": [
    "#### Drop Columns : provider_zip_code, provider_street_address, provider_state, provider_id, provider_city, hospital_referral_region_hrr_description, unnamed"
   ]
  },
  {
   "cell_type": "markdown",
   "metadata": {},
   "source": [
    "#### Clean GEOID and CSI"
   ]
  },
  {
   "cell_type": "markdown",
   "metadata": {},
   "source": [
    "#### Convert Data types : payments/charges numerical, total discharges"
   ]
  },
  {
   "cell_type": "code",
   "execution_count": 18,
   "metadata": {},
   "outputs": [],
   "source": [
    "import data_cleaning"
   ]
  },
  {
   "cell_type": "code",
   "execution_count": 8,
   "metadata": {},
   "outputs": [],
   "source": [
    "import pandas as pd "
   ]
  },
  {
   "cell_type": "code",
   "execution_count": 17,
   "metadata": {},
   "outputs": [
    {
     "name": "stdout",
     "output_type": "stream",
     "text": [
      "<class 'pandas.core.frame.DataFrame'>\n",
      "RangeIndex: 197283 entries, 0 to 197282\n",
      "Data columns (total 12 columns):\n",
      "Unnamed: 0                   197283 non-null int64\n",
      "average_covered_charges      197283 non-null float64\n",
      "average_medicare_payments    197283 non-null float64\n",
      "average_total_payments       197283 non-null float64\n",
      "drg_definition               197283 non-null object\n",
      "provider_name                197283 non-null object\n",
      "total_discharges             197283 non-null int64\n",
      "full_address                 197283 non-null object\n",
      "geoid                        197283 non-null object\n",
      "csi                          197164 non-null float64\n",
      "out_of_pocket                197283 non-null float64\n",
      "perc_covered                 197283 non-null float64\n",
      "dtypes: float64(6), int64(2), object(4)\n",
      "memory usage: 18.1+ MB\n"
     ]
    },
    {
     "name": "stderr",
     "output_type": "stream",
     "text": [
      "/home/peter/anaconda3/lib/python3.7/site-packages/IPython/core/interactiveshell.py:3049: DtypeWarning: Columns (8) have mixed types. Specify dtype option on import or set low_memory=False.\n",
      "  interactivity=interactivity, compiler=compiler, result=result)\n"
     ]
    }
   ],
   "source": [
    "pd.read_csv('./data/cleaned_for_testing.csv').info()"
   ]
  },
  {
   "cell_type": "code",
   "execution_count": 16,
   "metadata": {},
   "outputs": [],
   "source": [
    "df = pd.DataFrame()"
   ]
  },
  {
   "cell_type": "code",
   "execution_count": null,
   "metadata": {},
   "outputs": [],
   "source": [
    "df.to_csv()"
   ]
  }
 ],
 "metadata": {
  "kernelspec": {
   "display_name": "Python 3",
   "language": "python",
   "name": "python3"
  },
  "language_info": {
   "codemirror_mode": {
    "name": "ipython",
    "version": 3
   },
   "file_extension": ".py",
   "mimetype": "text/x-python",
   "name": "python",
   "nbconvert_exporter": "python",
   "pygments_lexer": "ipython3",
   "version": "3.7.3"
  },
  "toc": {
   "base_numbering": 1,
   "nav_menu": {},
   "number_sections": true,
   "sideBar": true,
   "skip_h1_title": false,
   "title_cell": "Table of Contents",
   "title_sidebar": "Contents",
   "toc_cell": false,
   "toc_position": {},
   "toc_section_display": true,
   "toc_window_display": false
  }
 },
 "nbformat": 4,
 "nbformat_minor": 2
}
