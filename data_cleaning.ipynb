{
 "cells": [
  {
   "cell_type": "code",
   "execution_count": 1,
   "metadata": {},
   "outputs": [],
   "source": [
    "import pandas as pd"
   ]
  },
  {
   "cell_type": "code",
   "execution_count": 4,
   "metadata": {},
   "outputs": [],
   "source": [
    "dirty_data = pd.read_csv('./data/dirty_data', dtype=str)"
   ]
  },
  {
   "cell_type": "code",
   "execution_count": 6,
   "metadata": {},
   "outputs": [
    {
     "name": "stdout",
     "output_type": "stream",
     "text": [
      "<class 'pandas.core.frame.DataFrame'>\n",
      "RangeIndex: 1000 entries, 0 to 999\n",
      "Data columns (total 16 columns):\n",
      "Unnamed: 0                                  1000 non-null object\n",
      "average_covered_charges                     1000 non-null object\n",
      "average_medicare_payments                   1000 non-null object\n",
      "average_total_payments                      1000 non-null object\n",
      "drg_definition                              1000 non-null object\n",
      "hospital_referral_region_hrr_description    1000 non-null object\n",
      "provider_city                               1000 non-null object\n",
      "provider_id                                 1000 non-null object\n",
      "provider_name                               1000 non-null object\n",
      "provider_state                              1000 non-null object\n",
      "provider_street_address                     1000 non-null object\n",
      "provider_zip_code                           1000 non-null object\n",
      "total_discharges                            1000 non-null object\n",
      "full_address                                1000 non-null object\n",
      "GEOID                                       29 non-null object\n",
      "CSI                                         29 non-null object\n",
      "dtypes: object(16)\n",
      "memory usage: 125.1+ KB\n"
     ]
    }
   ],
   "source": [
    "dirty_data.info()"
   ]
  },
  {
   "cell_type": "markdown",
   "metadata": {},
   "source": [
    "#### Add Columns : Deductibile, %Paid"
   ]
  },
  {
   "cell_type": "markdown",
   "metadata": {},
   "source": [
    "#### Drop Columns : provider_zip_code, provider_street_address, provider_state, provider_id, provider_city, hospital_referral_region_hrr_description, unnamed"
   ]
  },
  {
   "cell_type": "markdown",
   "metadata": {},
   "source": [
    "#### Clean GEOID and CSI"
   ]
  },
  {
   "cell_type": "markdown",
   "metadata": {},
   "source": [
    "#### Convert Data types : payments/charges numerical, total discharges"
   ]
  },
  {
   "cell_type": "code",
   "execution_count": null,
   "metadata": {},
   "outputs": [],
   "source": []
  }
 ],
 "metadata": {
  "kernelspec": {
   "display_name": "Python 3",
   "language": "python",
   "name": "python3"
  },
  "language_info": {
   "codemirror_mode": {
    "name": "ipython",
    "version": 3
   },
   "file_extension": ".py",
   "mimetype": "text/x-python",
   "name": "python",
   "nbconvert_exporter": "python",
   "pygments_lexer": "ipython3",
   "version": "3.7.3"
  },
  "toc": {
   "base_numbering": 1,
   "nav_menu": {},
   "number_sections": true,
   "sideBar": true,
   "skip_h1_title": false,
   "title_cell": "Table of Contents",
   "title_sidebar": "Contents",
   "toc_cell": false,
   "toc_position": {},
   "toc_section_display": true,
   "toc_window_display": false
  }
 },
 "nbformat": 4,
 "nbformat_minor": 2
}
