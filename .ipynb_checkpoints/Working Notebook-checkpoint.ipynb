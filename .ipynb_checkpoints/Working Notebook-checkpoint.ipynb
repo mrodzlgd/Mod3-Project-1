{
 "cells": [
  {
   "cell_type": "code",
   "execution_count": 1,
   "metadata": {},
   "outputs": [],
   "source": [
    "import pandas as pd\n",
    "import seaborn as sns\n",
    "import numpy as np\n",
    "import scipy.stats as st\n",
    "import matplotlib.pyplot as plt\n",
    "from tqdm import tqdm_notebook"
   ]
  },
  {
   "cell_type": "code",
   "execution_count": 2,
   "metadata": {},
   "outputs": [],
   "source": [
    "def Cohen_d(group1, group2):\n",
    "\n",
    "    # Compute Cohen's d.\n",
    "\n",
    "    # group1: Series or NumPy array\n",
    "    # group2: Series or NumPy array\n",
    "\n",
    "    # returns a floating point number \n",
    "\n",
    "    diff = np.mean(group1) - np.mean(group2)\n",
    "\n",
    "    n1, n2 = len(group1), len(group2)\n",
    "    var1 = np.var(group1)\n",
    "    var2 = np.var(group2)\n",
    "\n",
    "    # Calculate the pooled threshold as shown earlier\n",
    "    pooled_var = (n1 * var1 + n2 * var2) / (n1 + n2)\n",
    "    \n",
    "    # Calculate Cohen's d statistic\n",
    "    d = diff / np.sqrt(pooled_var)\n",
    "    \n",
    "    return d"
   ]
  },
  {
   "cell_type": "markdown",
   "metadata": {},
   "source": [
    "## Import Data"
   ]
  },
  {
   "cell_type": "code",
   "execution_count": 3,
   "metadata": {},
   "outputs": [],
   "source": [
    "import data_cleaning"
   ]
  },
  {
   "cell_type": "code",
   "execution_count": 4,
   "metadata": {},
   "outputs": [],
   "source": [
    "clean_data = data_cleaning.full_clean()"
   ]
  },
  {
   "cell_type": "code",
   "execution_count": null,
   "metadata": {
    "scrolled": true
   },
   "outputs": [],
   "source": [
    "clean_data.head(2)"
   ]
  },
  {
   "cell_type": "markdown",
   "metadata": {},
   "source": [
    "## Preliminary Analysis "
   ]
  },
  {
   "cell_type": "code",
   "execution_count": null,
   "metadata": {
    "scrolled": true
   },
   "outputs": [],
   "source": [
    "len(clean_data.drg_definition.unique())"
   ]
  },
  {
   "cell_type": "code",
   "execution_count": null,
   "metadata": {},
   "outputs": [],
   "source": [
    "procs_more_in_rural = []\n",
    "\n",
    "for i in clean_data.drg_definition.unique():\n",
    "    metro = clean_data.loc[(clean_data.csi == '1') & (clean_data.drg_definition == i)]['average_covered_charges']\n",
    "    non_metro = clean_data.loc[(clean_data.csi != '1') & (clean_data.drg_definition == i)]['average_covered_charges']\n",
    "    if (np.mean(metro) - np.mean(non_metro)) < 0:\n",
    "        procs_more_in_rural.append(i)\n",
    "    "
   ]
  },
  {
   "cell_type": "code",
   "execution_count": null,
   "metadata": {
    "scrolled": false
   },
   "outputs": [],
   "source": [
    "len(procs_more_in_rural)"
   ]
  },
  {
   "cell_type": "code",
   "execution_count": null,
   "metadata": {},
   "outputs": [],
   "source": [
    "procs_more_in_rural"
   ]
  },
  {
   "cell_type": "code",
   "execution_count": 67,
   "metadata": {
    "scrolled": true
   },
   "outputs": [
    {
     "data": {
      "application/vnd.jupyter.widget-view+json": {
       "model_id": "891d8771c70d447c82ec54a6964217ce",
       "version_major": 2,
       "version_minor": 0
      },
      "text/plain": [
       "HBox(children=(IntProgress(value=0, max=573), HTML(value='')))"
      ]
     },
     "metadata": {},
     "output_type": "display_data"
    },
    {
     "name": "stderr",
     "output_type": "stream",
     "text": [
      "/home/peter/anaconda3/lib/python3.7/site-packages/numpy/core/fromnumeric.py:3367: RuntimeWarning: Degrees of freedom <= 0 for slice\n",
      "  **kwargs)\n",
      "/home/peter/anaconda3/lib/python3.7/site-packages/numpy/core/_methods.py:132: RuntimeWarning: invalid value encountered in double_scalars\n",
      "  ret = ret.dtype.type(ret / rcount)\n"
     ]
    },
    {
     "name": "stdout",
     "output_type": "stream",
     "text": [
      "\n"
     ]
    }
   ],
   "source": [
    "sig_procs = []\n",
    "sig_cohens = []\n",
    "\n",
    "for i in tqdm_notebook(clean_data.drg_definition.unique()):\n",
    "    metro = clean_data.loc[(clean_data.csi == '1') & (clean_data.drg_definition == i)]['average_covered_charges']\n",
    "    non_metro = clean_data.loc[(clean_data.csi != '1') & (clean_data.drg_definition == i)]['average_covered_charges']\n",
    "    if st.ttest_ind(metro, non_metro, equal_var=False)[1] < 0.05:\n",
    "        sig_procs.append(i)\n",
    "        sig_cohens.append(Cohen_d(metro, non_metro))\n",
    "        \n",
    "relevant_codes = pd.DataFrame([pd.Series(sig_procs, name='sig_procs'), pd.Series(sig_cohens, name='cohens_d')]).T\n",
    "\n",
    "relevant_codes.sig_procs = relevant_codes.sig_procs.map(lambda x: x[0:3]).astype(int)"
   ]
  },
  {
   "cell_type": "code",
   "execution_count": 68,
   "metadata": {},
   "outputs": [],
   "source": [
    "drg = pd.read_csv('data/DRG.csv')\n",
    "drg['group_size'] = drg.Code_End-drg.Code_Start\n",
    "\n",
    "drg_d = drg.to_dict('records')\n",
    "\n",
    "code_ref = []\n",
    "for i in range(0,len(drg_d)):\n",
    "    for c in relevant_codes.sig_procs:\n",
    "        if drg_d[i]['Code_Start'] <= c <= drg_d[i]['Code_End']:\n",
    "            code_ref.append({'sig_procs': c,'Code_Start':drg_d[i]['Code_Start'],'Code_End':\n",
    "                             drg_d[i]['Code_End'],'Group':drg_d[i]['Description']})\n",
    "code_map = pd.DataFrame.from_dict(code_ref)\n",
    "code_map['cohens_d'] = relevant_codes.cohens_d"
   ]
  },
  {
   "cell_type": "code",
   "execution_count": 76,
   "metadata": {},
   "outputs": [],
   "source": [
    "cum_codes = code_map.groupby('Group').size().reset_index()\n",
    "cum_cohen = code_map.groupby('Group').cohens_d.sum().reset_index().cohens_d\n",
    "# cum_codes.columns = ['Description', 'num_sig_procs']"
   ]
  },
  {
   "cell_type": "code",
   "execution_count": 77,
   "metadata": {
    "scrolled": true
   },
   "outputs": [],
   "source": [
    "cum_codes['sum_effect'] = cum_cohen\n",
    "# cum_codes['avg_effect'] = drg.sum_effect/drg.group_size"
   ]
  },
  {
   "cell_type": "code",
   "execution_count": 78,
   "metadata": {},
   "outputs": [],
   "source": [
    "cum_codes.columns=['Description', 'num_sig_procs', 'sum_effect']"
   ]
  },
  {
   "cell_type": "code",
   "execution_count": 79,
   "metadata": {
    "scrolled": true
   },
   "outputs": [],
   "source": [
    "cum_codes = cum_codes.merge(drg, on='Description')\n",
    "cum_codes['avg_effect'] = cum_codes.sum_effect/cum_codes.group_size\n",
    "cum_codes['code'] = cum_codes.Description.apply(lambda x: x[0:6])"
   ]
  },
  {
   "cell_type": "code",
   "execution_count": 82,
   "metadata": {
    "scrolled": true
   },
   "outputs": [
    {
     "data": {
      "text/plain": [
       "Text(0.5, 0, 'Diagnosis Group')"
      ]
     },
     "execution_count": 82,
     "metadata": {},
     "output_type": "execute_result"
    },
    {
     "data": {
      "image/png": "[encoded data removed]",
      "text/plain": [
       "<Figure size 1008x504 with 1 Axes>"
      ]
     },
     "metadata": {
      "needs_background": "light"
     },
     "output_type": "display_data"
    }
   ],
   "source": [
    "plt.figure(figsize=(14,7))\n",
    "sns.barplot('code', 'avg_effect', data=cum_codes, palette='deep')\n",
    "plt.xticks(rotation=90)\n",
    "plt.ylabel('Average Effect')\n",
    "plt.xlabel('Diagnosis Group')"
   ]
  },
  {
   "cell_type": "code",
   "execution_count": null,
   "metadata": {},
   "outputs": [],
   "source": [
    "proc_group_desc = proc_sum.Description.map(lambda x: x[8:])"
   ]
  },
  {
   "cell_type": "code",
   "execution_count": null,
   "metadata": {},
   "outputs": [],
   "source": [
    "dng_group_code"
   ]
  },
  {
   "cell_type": "code",
   "execution_count": null,
   "metadata": {},
   "outputs": [],
   "source": [
    "dng_info = pd.DataFrame([dng_group_code, proc_group_desc]).T"
   ]
  },
  {
   "cell_type": "code",
   "execution_count": null,
   "metadata": {},
   "outputs": [],
   "source": [
    "dng_info.columns = ['Code', 'Description']"
   ]
  },
  {
   "cell_type": "code",
   "execution_count": null,
   "metadata": {},
   "outputs": [],
   "source": [
    "dng_info.Description = dng_info.Description.map(lambda x: x.title())"
   ]
  },
  {
   "cell_type": "code",
   "execution_count": null,
   "metadata": {},
   "outputs": [],
   "source": [
    "dng_info.to_csv('.code_describe.csv')"
   ]
  },
  {
   "cell_type": "code",
   "execution_count": null,
   "metadata": {},
   "outputs": [],
   "source": []
  },
  {
   "cell_type": "code",
   "execution_count": null,
   "metadata": {},
   "outputs": [],
   "source": []
  },
  {
   "cell_type": "code",
   "execution_count": null,
   "metadata": {},
   "outputs": [],
   "source": []
  },
  {
   "cell_type": "code",
   "execution_count": null,
   "metadata": {},
   "outputs": [],
   "source": []
  },
  {
   "cell_type": "code",
   "execution_count": null,
   "metadata": {},
   "outputs": [],
   "source": [
    "proc_sum['avg_cohen_d'] = proc_sum.sum_cohen_d/proc_sum.group_size"
   ]
  },
  {
   "cell_type": "code",
   "execution_count": null,
   "metadata": {},
   "outputs": [],
   "source": [
    "proc_sum"
   ]
  },
  {
   "cell_type": "code",
   "execution_count": null,
   "metadata": {},
   "outputs": [],
   "source": [
    "type(drg_d[0]['Code_Start'])"
   ]
  },
  {
   "cell_type": "code",
   "execution_count": null,
   "metadata": {},
   "outputs": [],
   "source": [
    "most_sig_proc = 0\n",
    "\n",
    "for i in sig_procs:\n",
    "    largest_cohen_d = 0\n",
    "    metro = clean_data.loc[clean_data.drg_definition == i]['average_covered_charges']\n",
    "    non_metro = clean_data.loc[clean_data.drg_definition != i]['average_covered_charges']\n",
    "    if Cohen_d(metro_charges, non_metro_charges) > largest_cohen_d:\n",
    "         most_sig_proc = i"
   ]
  },
  {
   "cell_type": "code",
   "execution_count": null,
   "metadata": {},
   "outputs": [],
   "source": [
    "most_sig_proc"
   ]
  },
  {
   "cell_type": "code",
   "execution_count": null,
   "metadata": {},
   "outputs": [],
   "source": [
    "metro = clean_data.loc[clean_data.drg_definition == '975 - HIV W MAJOR RELATED CONDITION W CC']['average_covered_charges']\n",
    "non_metro = clean_data.loc[clean_data.drg_definition != '975 - HIV W MAJOR RELATED CONDITION W CC']['average_covered_charges']\n",
    "\n",
    "sns.distplot(metro_charges, label='metro')\n",
    "sns.distplot(non_metro_charges, label='non_metro')\n",
    "plt.legend()"
   ]
  },
  {
   "cell_type": "code",
   "execution_count": null,
   "metadata": {},
   "outputs": [],
   "source": [
    "metro_means_ = []\n",
    "\n",
    "for i in range(0,100000):\n",
    "    a_mean = np.mean(np.random.choice(metro, size=100))\n",
    "    metro_means.append(a_mean)\n",
    "\n",
    "non_metro_means = []\n",
    "\n",
    "for i in range(0,100000):\n",
    "    a_mean = np.mean(np.random.choice(non_metro, size=100))\n",
    "    non_metro_means.append(a_mean)\n",
    "    \n",
    "sns.distplot(metro_means, label='metro')\n",
    "sns.distplot(non_metro_means, label='non_metro')\n",
    "plt.legend()\n",
    "plt.x_label = 'Average Hospital Charges'"
   ]
  },
  {
   "cell_type": "markdown",
   "metadata": {},
   "source": [
    "### Total Hospital Charges"
   ]
  },
  {
   "cell_type": "code",
   "execution_count": null,
   "metadata": {},
   "outputs": [],
   "source": [
    "metro_charges = clean_data.loc[clean_data['csi'] == '1']['total_discharges']"
   ]
  },
  {
   "cell_type": "code",
   "execution_count": null,
   "metadata": {},
   "outputs": [],
   "source": [
    "non_metro_charges = clean_data.loc[clean_data['csi'] != '1']['total_discharges']"
   ]
  },
  {
   "cell_type": "code",
   "execution_count": null,
   "metadata": {},
   "outputs": [],
   "source": [
    "sns.distplot(metro_charges, label='metro')\n",
    "sns.distplot(non_metro_charges, label='non_metro')\n",
    "plt.legend()"
   ]
  },
  {
   "cell_type": "code",
   "execution_count": null,
   "metadata": {},
   "outputs": [],
   "source": [
    "st.ttest_ind(metro_charges, non_metro_charges, equal_var=False)"
   ]
  },
  {
   "cell_type": "code",
   "execution_count": null,
   "metadata": {
    "scrolled": false
   },
   "outputs": [],
   "source": [
    "Cohen_d(metro_charges, non_metro_charges)"
   ]
  },
  {
   "cell_type": "code",
   "execution_count": null,
   "metadata": {},
   "outputs": [],
   "source": [
    "metro_means = []\n",
    "\n",
    "for i in range(0,100000):\n",
    "    a_mean = np.mean(np.random.choice(metro_charges, size=100))\n",
    "    metro_means.append(a_mean)\n",
    "\n",
    "non_metro_means = []\n",
    "\n",
    "for i in range(0,100000):\n",
    "    a_mean = np.mean(np.random.choice(non_metro_charges, size=100))\n",
    "    non_metro_means.append(a_mean)\n",
    "\n",
    "sns.distplot(metro_means, label='metro')\n",
    "sns.distplot(non_metro_means, label='non_metro')\n",
    "plt.legend()\n",
    "plt.x_label = 'Average Hospital Charges'"
   ]
  },
  {
   "cell_type": "markdown",
   "metadata": {},
   "source": [
    "### Patient Deductible/Charges"
   ]
  },
  {
   "cell_type": "code",
   "execution_count": null,
   "metadata": {},
   "outputs": [],
   "source": [
    "metro_deductible = clean_data.loc[clean_data['CSI'] == '1']['deductible']"
   ]
  },
  {
   "cell_type": "code",
   "execution_count": null,
   "metadata": {},
   "outputs": [],
   "source": [
    "non_metro_deductible = clean_data.loc[clean_data['CSI'] != '1']['deductible']"
   ]
  },
  {
   "cell_type": "code",
   "execution_count": null,
   "metadata": {},
   "outputs": [],
   "source": [
    "sns.distplot(metro_deductible, label='metro')\n",
    "sns.distplot(non_metro_deductible, label='non_metro')\n",
    "plt.legend()"
   ]
  },
  {
   "cell_type": "code",
   "execution_count": null,
   "metadata": {},
   "outputs": [],
   "source": [
    "metro_deductible_means = []\n",
    "\n",
    "for i in range(0,100000):\n",
    "    a_mean = np.mean(np.random.choice(metro_deductible, size=100))\n",
    "    metro_deductible_means.append(a_mean)"
   ]
  },
  {
   "cell_type": "code",
   "execution_count": null,
   "metadata": {},
   "outputs": [],
   "source": [
    "non_metro_deductible_means = []\n",
    "\n",
    "for i in range(0,100000):\n",
    "    a_mean = np.mean(np.random.choice(non_metro_deductible, size=100))\n",
    "    non_metro_deductible_means.append(a_mean)"
   ]
  },
  {
   "cell_type": "code",
   "execution_count": null,
   "metadata": {},
   "outputs": [],
   "source": [
    "st.ttest_ind(metro_deductible_means, non_metro_deductible_means, equal_var=False)"
   ]
  },
  {
   "cell_type": "code",
   "execution_count": null,
   "metadata": {},
   "outputs": [],
   "source": [
    "sns.distplot(metro_deductible_means, label='metro')\n",
    "sns.distplot(non_metro_deductible_means, label='non_metro')\n",
    "plt.legend()\n",
    "plt.x_label = 'Deductible'"
   ]
  },
  {
   "cell_type": "code",
   "execution_count": null,
   "metadata": {},
   "outputs": [],
   "source": [
    "Cohen_d(metro_deductible_means, non_metro_deductible_means)"
   ]
  },
  {
   "cell_type": "code",
   "execution_count": null,
   "metadata": {},
   "outputs": [],
   "source": []
  }
 ],
 "metadata": {
  "kernelspec": {
   "display_name": "Python 3",
   "language": "python",
   "name": "python3"
  },
  "language_info": {
   "codemirror_mode": {
    "name": "ipython",
    "version": 3
   },
   "file_extension": ".py",
   "mimetype": "text/x-python",
   "name": "python",
   "nbconvert_exporter": "python",
   "pygments_lexer": "ipython3",
   "version": "3.7.3"
  },
  "toc": {
   "base_numbering": 1,
   "nav_menu": {},
   "number_sections": true,
   "sideBar": true,
   "skip_h1_title": false,
   "title_cell": "Table of Contents",
   "title_sidebar": "Contents",
   "toc_cell": false,
   "toc_position": {},
   "toc_section_display": true,
   "toc_window_display": false
  }
 },
 "nbformat": 4,
 "nbformat_minor": 2
}
